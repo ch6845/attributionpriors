{
 "cells": [
  {
   "cell_type": "code",
   "execution_count": 1,
   "id": "formal-configuration",
   "metadata": {},
   "outputs": [],
   "source": [
    "import sys\n",
    "sys.path.insert(0, '../')"
   ]
  },
  {
   "cell_type": "code",
   "execution_count": 5,
   "id": "genuine-mixer",
   "metadata": {},
   "outputs": [],
   "source": [
    "import numpy as np\n",
    "import pandas as pd\n",
    "\n",
    "import matplotlib.pyplot as plt\n",
    "import altair as alt\n",
    "\n",
    "import torch\n",
    "from torch.autograd import grad\n",
    "from torch.utils.data import Dataset, DataLoader, Subset\n",
    "from torch.utils.data.dataset import random_split\n",
    "\n",
    "import torchvision\n",
    "from torchvision import transforms\n",
    "\n",
    "import shap"
   ]
  },
  {
   "cell_type": "markdown",
   "id": "latter-dispatch",
   "metadata": {},
   "source": [
    "# Demo"
   ]
  },
  {
   "cell_type": "code",
   "execution_count": 12,
   "id": "limiting-dressing",
   "metadata": {},
   "outputs": [],
   "source": [
    "class BinaryData(Dataset):\n",
    "    def __init__(self, X, y=None, transform=None):\n",
    "        self.X=X\n",
    "        self.y=y\n",
    "        self.transform=transform\n",
    "    \n",
    "    def __len__(self):\n",
    "        return len(self.X)\n",
    "    \n",
    "    def __getitem__(self, index):\n",
    "        sample=self.X[index,:]\n",
    "        \n",
    "        if self.transform is not None:\n",
    "            sample=self.transform(sample)\n",
    "        \n",
    "        if self.y is not None:\n",
    "            return sample, self.y[index]\n",
    "        else:\n",
    "            return sample"
   ]
  },
  {
   "cell_type": "code",
   "execution_count": 13,
   "id": "apparent-greeting",
   "metadata": {},
   "outputs": [],
   "source": [
    "batch_size=64\n",
    "\n",
    "a_train=torch.empty(1000,1).uniform_(0,1)\n",
    "x_train=torch.bernoulli(a_train)\n",
    "x_train=torch.cat([x_train,x_train],axis=1)\n",
    "\n",
    "y_train=x_train[:,0]\n",
    "\n",
    "train_dataset=BinaryData(x_train, y_train)\n",
    "train_loader=DataLoader(dataset=train_dataset, batch_size=batch_size, shuffle=True, drop_last=True)"
   ]
  },
  {
   "cell_type": "code",
   "execution_count": 14,
   "id": "missing-certification",
   "metadata": {},
   "outputs": [],
   "source": [
    "#a_test=torch.empty(1000,2).uniform_(0,1)\n",
    "#x_test=torch.bernoulli(a_test)\n",
    "#y_test=x_test[:,0]\n",
    "\n",
    "#test_dataset=BinaryData(x_test, y_test)\n",
    "#test_loader=DataLoader(dataset=test_dataset, batch_size=64, shuffle=True, drop_last=True)"
   ]
  },
  {
   "cell_type": "code",
   "execution_count": 7,
   "id": "english-police",
   "metadata": {},
   "outputs": [],
   "source": [
    "class MLP(torch.nn.Module):\n",
    "    def __init__(self):\n",
    "        super(MLP,self).__init__()\n",
    "        self.layers=torch.nn.Sequential(torch.nn.Linear(2,1),\n",
    "                                      torch.nn.Sigmoid())\n",
    "    def forward(self,x):\n",
    "        x=self.layers(x)\n",
    "        return x"
   ]
  },
  {
   "cell_type": "code",
   "execution_count": 8,
   "id": "golden-collins",
   "metadata": {},
   "outputs": [],
   "source": [
    "def calculate_dependence(model):\n",
    "    zero_arange=torch.tensor(np.concatenate([np.zeros(100).reshape(-1,1),\n",
    "                                             np.arange(0,1,0.01).reshape(-1,1)],axis=1)).float().to(device)\n",
    "    one_arange=torch.tensor(np.concatenate([np.ones(100).reshape(-1,1),\n",
    "                                             np.arange(0,1,0.01).reshape(-1,1)],axis=1)).float().to(device)\n",
    "\n",
    "\n",
    "    arange_zero=torch.tensor(np.concatenate([np.arange(0,1,0.01).reshape(-1,1),\n",
    "                                            np.zeros(100).reshape(-1,1)],axis=1)).float().to(device)\n",
    "    arange_one=torch.tensor(np.concatenate([np.arange(0,1,0.01).reshape(-1,1),\n",
    "                                            np.ones(100).reshape(-1,1)],axis=1)).float().to(device)\n",
    "\n",
    "    dep1=(model(one_arange)-model(zero_arange)).mean().detach().cpu().numpy().reshape(-1)[0]\n",
    "    dep2=(model(arange_one)-model(arange_zero)).mean().detach().cpu().numpy().reshape(-1)[0]\n",
    "    \n",
    "    return dep2/dep1, dep1, dep2"
   ]
  },
  {
   "cell_type": "code",
   "execution_count": 11,
   "id": "deluxe-fraction",
   "metadata": {},
   "outputs": [
    {
     "name": "stdout",
     "output_type": "stream",
     "text": [
      "k = 1\n",
      "k = 2\n",
      "k = 3\n",
      "k = 4\n",
      "k = 5\n"
     ]
    }
   ],
   "source": [
    "device=torch.device('cuda')\n",
    "\n",
    "convergence_list1_list_eg=[]\n",
    "convergence_list2_list_eg=[]\n",
    "convergence_list3_list_eg=[]\n",
    "\n",
    "for k in [1,2,3,4,5]:\n",
    "\n",
    "    print('k =',k)\n",
    "    \n",
    "    model=MLP().to(device)\n",
    "    \n",
    "    with torch.no_grad():\n",
    "        model.layers[0].weight[0,0]=10\n",
    "        model.layers[0].weight[0,1]=10\n",
    "        model.layers[0].bias[0]=-6\n",
    "        \n",
    "    x_zeros = torch.ones_like(x_train[:,:])\n",
    "    background_dataset = BinaryData(x_zeros)\n",
    "\n",
    "    explainer = AttributionPriorExplainer(background_dataset, 64, k=k)        \n",
    "        \n",
    "\n",
    "    optimizer = torch.optim.Adam(model.parameters(), lr=1e-2)\n",
    "    bce_term = torch.nn.BCELoss()\n",
    "    \n",
    "    train_loss_list_mean_list=[]\n",
    "    \n",
    "    convergence_list1=[]\n",
    "    convergence_list2=[]\n",
    "    convergence_list3=[]\n",
    "        \n",
    "    for epoch in range(200):\n",
    "        \n",
    "        train_loss_list=[]\n",
    "        \n",
    "        for i, (x, y_true) in enumerate(train_loader):\n",
    "            x, y_true= x.float().to(device), y_true.float().to(device)\n",
    "            optimizer.zero_grad()\n",
    "            \n",
    "            y_pred=model(x)\n",
    "            \n",
    "            eg=explainer.attribution(model, x)\n",
    "            eg_abs_mean=eg.abs().mean(0)\n",
    "            \n",
    "            loss=bce_term(y_pred, y_true.unsqueeze(1)) + eg_abs_mean[1]\n",
    "            \n",
    "            loss.backward(retain_graph=True)\n",
    "            optimizer.step()\n",
    "            train_loss_list.append(loss.item())\n",
    "            \n",
    "        train_loss_list_mean=np.mean(train_loss_list)\n",
    "        \n",
    "        train_loss_list_mean_list.append(train_loss_list_mean)\n",
    "        convergence_list1.append(calculate_dependence(model)[0])\n",
    "        convergence_list2.append(calculate_dependence(model)[1])\n",
    "        convergence_list3.append(calculate_dependence(model)[2])\n",
    "        \n",
    "    convergence_list1_list_eg.append(convergence_list1)\n",
    "    convergence_list2_list_eg.append(convergence_list2)\n",
    "    convergence_list3_list_eg.append(convergence_list3)"
   ]
  },
  {
   "cell_type": "code",
   "execution_count": 14,
   "id": "amazing-absence",
   "metadata": {},
   "outputs": [
    {
     "data": {
      "image/png": "[encoded data removed]",
      "text/plain": [
       "<Figure size 432x432 with 1 Axes>"
      ]
     },
     "metadata": {
      "needs_background": "light"
     },
     "output_type": "display_data"
    }
   ],
   "source": [
    "plt.figure(figsize=(6,6))\n",
    "\n",
    "for k, convergence_list1 in enumerate(convergence_list1_list_eg):\n",
    "    plt.plot((np.arange(len(convergence_list1))+1), convergence_list1,label=k+1)\n",
    "    \n",
    "plt.xlim([40,75])\n",
    "plt.ylim([-0.01,0.4])\n",
    "plt.legend(title='k')\n",
    "\n",
    "plt.xlabel('epochs')\n",
    "plt.ylabel('fractional dependence on feature 2')\n",
    "plt.show()"
   ]
  },
  {
   "cell_type": "code",
   "execution_count": 15,
   "id": "ceramic-geology",
   "metadata": {},
   "outputs": [
    {
     "data": {
      "image/png": "[encoded data removed]",
      "text/plain": [
       "<Figure size 432x432 with 1 Axes>"
      ]
     },
     "metadata": {
      "needs_background": "light"
     },
     "output_type": "display_data"
    }
   ],
   "source": [
    "plt.figure(figsize=(6,6))\n",
    "\n",
    "for k, convergence_list1 in enumerate(convergence_list1_list_eg):\n",
    "    plt.plot((np.arange(len(convergence_list1))+1)*(k+1), convergence_list1,label=k+1)\n",
    "    \n",
    "plt.xlim([0,350])\n",
    "plt.ylim([-0.01,0.4])\n",
    "plt.legend(title='k')\n",
    "\n",
    "plt.xlabel('gradient calls per training example')\n",
    "plt.ylabel('fractional dependence on feature 2')\n",
    "plt.show()"
   ]
  },
  {
   "cell_type": "markdown",
   "id": "pacific-picking",
   "metadata": {},
   "source": [
    "# example_usage"
   ]
  },
  {
   "cell_type": "code",
   "execution_count": 15,
   "id": "neither-ideal",
   "metadata": {},
   "outputs": [],
   "source": [
    "feature_mean=0\n",
    "feature_sigma=1\n",
    "dummy_sigma=0.5\n",
    "\n",
    "n_samples=1000\n",
    "n_features=3\n",
    "\n",
    "X=np.random.randn(n_samples,n_features)*feature_sigma+feature_mean\n",
    "X[:,2]=X[:,0]+np.random.randn(n_samples)*dummy_sigma"
   ]
  },
  {
   "cell_type": "code",
   "execution_count": 16,
   "id": "demanding-sociology",
   "metadata": {},
   "outputs": [],
   "source": [
    "output_mean=0\n",
    "output_sigma=0.5\n",
    "Y=X[:,0]-X[:,1]+np.random.randn(n_samples)*output_sigma+output_mean\n",
    "Y=Y.reshape([Y.shape[0],1])"
   ]
  },
  {
   "cell_type": "code",
   "execution_count": 17,
   "id": "alone-creek",
   "metadata": {},
   "outputs": [
    {
     "data": {
      "text/html": [
       "\n",
       "<div id=\"altair-viz-13dac5a89e844479a2f557569cd09362\"></div>\n",
       "<script type=\"text/javascript\">\n",
       "  (function(spec, embedOpt){\n",
       "    let outputDiv = document.currentScript.previousElementSibling;\n",
       "    if (outputDiv.id !== \"altair-viz-13dac5a89e844479a2f557569cd09362\") {\n",
       "      outputDiv = document.getElementById(\"altair-viz-13dac5a89e844479a2f557569cd09362\");\n",
       "    }\n",
       "    const paths = {\n",
       "      \"vega\": \"https://cdn.jsdelivr.net/npm//vega@5?noext\",\n",
       "      \"vega-lib\": \"https://cdn.jsdelivr.net/npm//vega-lib?noext\",\n",
       "      \"vega-lite\": \"https://cdn.jsdelivr.net/npm//vega-lite@4.8.1?noext\",\n",
       "      \"vega-embed\": \"https://cdn.jsdelivr.net/npm//vega-embed@6?noext\",\n",
       "    };\n",
       "\n",
       "    function loadScript(lib) {\n",
       "      return new Promise(function(resolve, reject) {\n",
       "        var s = document.createElement('script');\n",
       "        s.src = paths[lib];\n",
       "        s.async = true;\n",
       "        s.onload = () => resolve(paths[lib]);\n",
       "        s.onerror = () => reject(`Error loading script: ${paths[lib]}`);\n",
       "        document.getElementsByTagName(\"head\")[0].appendChild(s);\n",
       "      });\n",
       "    }\n",
       "\n",
       "    function showError(err) {\n",
       "      outputDiv.innerHTML = `<div class=\"error\" style=\"color:red;\">${err}</div>`;\n",
       "      throw err;\n",
       "    }\n",
       "\n",
       "    function displayChart(vegaEmbed) {\n",
       "      vegaEmbed(outputDiv, spec, embedOpt)\n",
       "        .catch(err => showError(`Javascript Error: ${err.message}<br>This usually means there's a typo in your chart specification. See the javascript console for the full traceback.`));\n",
       "    }\n",
       "\n",
       "    if(typeof define === \"function\" && define.amd) {\n",
       "      requirejs.config({paths});\n",
       "      require([\"vega-embed\"], displayChart, err => showError(`Error loading script: ${err.message}`));\n",
       "    } else if (typeof vegaEmbed === \"function\") {\n",
       "      displayChart(vegaEmbed);\n",
       "    } else {\n",
       "      loadScript(\"vega\")\n",
       "        .then(() => loadScript(\"vega-lite\"))\n",
       "        .then(() => loadScript(\"vega-embed\"))\n",
       "        .catch(showError)\n",
       "        .then(() => displayChart(vegaEmbed));\n",
       "    }\n",
       "  })({\"config\": {\"view\": {\"continuousWidth\": 400, \"continuousHeight\": 300}, \"axis\": {\"labelFontSize\": 15, \"labelFontWeight\": \"lighter\", \"titleFontSize\": 15, \"titleFontWeight\": \"normal\"}, \"title\": {\"fontSize\": 18}}, \"repeat\": {\"column\": [\"Feature 0\", \"Feature 1\", \"Feature 2\"]}, \"spec\": {\"data\": {\"name\": \"data-fcfe7fe7cc3d1228630a8edf364675e4\"}, \"mark\": {\"type\": \"point\", \"filled\": true}, \"encoding\": {\"x\": {\"type\": \"quantitative\", \"field\": {\"repeat\": \"column\"}, \"scale\": {\"domain\": [-4, 4]}}, \"y\": {\"type\": \"quantitative\", \"field\": \"Outcome\", \"scale\": {\"domain\": [-6, 6]}}}, \"height\": 200, \"width\": 200}, \"title\": \"The relationship between the outcome and the three features in our simulated data\", \"$schema\": \"https://vega.github.io/schema/vega-lite/v4.8.1.json\", \"datasets\": {\"data-fcfe7fe7cc3d1228630a8edf364675e4\": [{\"Feature 0\": 1.5265660344342369, \"Feature 1\": -0.12793027514118202, \"Feature 2\": 1.3410140146194613, \"Outcome\": 1.4258200904474772}, {\"Feature 0\": -0.36654523499937136, \"Feature 1\": 0.6685393018928639, \"Feature 2\": -0.18324653687460313, \"Outcome\": -0.4136733826598562}, {\"Feature 0\": 0.07376243269942769, \"Feature 1\": -0.3171265211579988, \"Feature 2\": -0.45109562811500853, \"Outcome\": -0.03172259303355379}, {\"Feature 0\": 0.19761851391168306, \"Feature 1\": 1.5522430664602245, \"Feature 2\": 0.31844601569365505, \"Outcome\": -1.114147940488911}, {\"Feature 0\": -2.3284334698896023, \"Feature 1\": 0.4820343397345443, \"Feature 2\": -2.760801230102036, \"Outcome\": -2.782671599236178}, {\"Feature 0\": 0.23757913915408926, \"Feature 1\": 0.35219863168116855, \"Feature 2\": 0.1640768619765517, \"Outcome\": 0.10696144013941536}, {\"Feature 0\": 0.9323449756911127, \"Feature 1\": -0.42092627718090764, \"Feature 2\": 0.9571944461031048, \"Outcome\": 1.7321990649396504}, {\"Feature 0\": -0.6431702817785301, \"Feature 1\": -1.2529578581727767, \"Feature 2\": -0.44378841325967777, \"Outcome\": 1.0391698940302434}, {\"Feature 0\": 0.588237208684572, \"Feature 1\": 0.18747093644752874, \"Feature 2\": 0.9153901742108652, \"Outcome\": 0.24470021835610922}, {\"Feature 0\": 1.1788258363122512, \"Feature 1\": 1.2463804419709754, \"Feature 2\": 0.8694880312267521, \"Outcome\": -0.5454860838150862}, {\"Feature 0\": -0.3713818292170196, \"Feature 1\": 1.3966042599890922, \"Feature 2\": -0.33866983476567747, \"Outcome\": -1.2100894731760716}, {\"Feature 0\": -2.040060821195484, \"Feature 1\": -0.4464127807706804, \"Feature 2\": -1.3293396924671397, \"Outcome\": -0.9014624953163237}, {\"Feature 0\": -1.1924589926546758, \"Feature 1\": 0.6461943931343267, \"Feature 2\": -0.8889584494252105, \"Outcome\": -2.1578537919495417}, {\"Feature 0\": 0.20922782200860265, \"Feature 1\": -2.2334768085890904, \"Feature 2\": 0.8795472155270527, \"Outcome\": 1.7421179091786136}, {\"Feature 0\": 0.1757771782300454, \"Feature 1\": -0.1838932966497884, \"Feature 2\": 0.23119575390765962, \"Outcome\": -0.4143394109494952}, {\"Feature 0\": -0.8269197956169615, \"Feature 1\": -1.5018840123685873, \"Feature 2\": -1.2698164499676334, \"Outcome\": 0.5531237166794367}, {\"Feature 0\": 0.935440518583313, \"Feature 1\": 0.166754327800869, \"Feature 2\": 0.5146681947107761, \"Outcome\": 1.0386423080925204}, {\"Feature 0\": -2.0043386749385608, \"Feature 1\": -1.1888464448620888, \"Feature 2\": -2.0214709149216556, \"Outcome\": -1.367768356726534}, {\"Feature 0\": 1.6205069054298347, \"Feature 1\": -0.24908223130975607, \"Feature 2\": 2.0077882523077974, \"Outcome\": 2.559673259811804}, {\"Feature 0\": 0.21186237450694884, \"Feature 1\": -0.23405995015700964, \"Feature 2\": 0.5272011362842475, \"Outcome\": -0.0726532711571764}, {\"Feature 0\": 0.5621456271770501, \"Feature 1\": -0.22884761102905787, \"Feature 2\": 0.9617581084493378, \"Outcome\": 0.8921414190189024}, {\"Feature 0\": 1.3489552751487293, \"Feature 1\": -0.832234186141592, \"Feature 2\": 0.9094154097620023, \"Outcome\": 2.4675679584654344}, {\"Feature 0\": -0.45941865261422365, \"Feature 1\": 1.404349115026695, \"Feature 2\": -0.5230517274069396, \"Outcome\": -2.3999856514316287}, {\"Feature 0\": 0.377769619925527, \"Feature 1\": 1.8470038099734731, \"Feature 2\": -0.10004150034700832, \"Outcome\": -0.9059999629947343}, {\"Feature 0\": -0.4682034678371807, \"Feature 1\": 0.29020720780734044, \"Feature 2\": -0.001048532390756085, \"Outcome\": -0.46728946537175037}, {\"Feature 0\": 0.4713613004457506, \"Feature 1\": 0.0399085843702572, \"Feature 2\": 0.3925790823302362, \"Outcome\": 0.00406134123107732}, {\"Feature 0\": 1.1749552905046488, \"Feature 1\": 0.35343489241822434, \"Feature 2\": 0.7615523129291852, \"Outcome\": 0.6339664936517421}, {\"Feature 0\": -2.2963546179663967, \"Feature 1\": -0.20945298176442267, \"Feature 2\": -2.548182952633558, \"Outcome\": -1.826021125172534}, {\"Feature 0\": 1.2945997860563814, \"Feature 1\": -0.44500975145711463, \"Feature 2\": 1.0804383673141311, \"Outcome\": 1.6837895265455125}, {\"Feature 0\": 0.6110605467851041, \"Feature 1\": 0.38351489483973833, \"Feature 2\": 0.6750644743673533, \"Outcome\": 0.30042034801224154}, {\"Feature 0\": -0.9258473857764221, \"Feature 1\": 0.14370602735840599, \"Feature 2\": -1.1838882910687603, \"Outcome\": -1.7120920733620615}, {\"Feature 0\": 0.021948904887069326, \"Feature 1\": 3.159006044080629, \"Feature 2\": -0.04467037914519245, \"Outcome\": -3.689638133572874}, {\"Feature 0\": -0.6350654324332993, \"Feature 1\": 1.602117487587134, \"Feature 2\": -0.6605149346435365, \"Outcome\": -2.833167211218631}, {\"Feature 0\": 0.7529263342370573, \"Feature 1\": -0.11065057508293705, \"Feature 2\": 0.3710953552859415, \"Outcome\": 1.752574231716049}, {\"Feature 0\": -1.5072994591449025, \"Feature 1\": -0.046267269109131606, \"Feature 2\": -1.8530368731489437, \"Outcome\": -1.8145562177626986}, {\"Feature 0\": -0.9177822208271619, \"Feature 1\": -1.4707251483296262, \"Feature 2\": -1.5175618895756058, \"Outcome\": 1.0146207815393566}, {\"Feature 0\": 0.024427804027492665, \"Feature 1\": -0.6574452393869464, \"Feature 2\": -0.4514563924678543, \"Outcome\": 1.6751846447615115}, {\"Feature 0\": 0.04126992356212447, \"Feature 1\": -0.9462517113779543, \"Feature 2\": 0.13555277374003422, \"Outcome\": 0.7243070023789628}, {\"Feature 0\": -1.6181314536244713, \"Feature 1\": -1.322565767345861, \"Feature 2\": -1.7290944294218973, \"Outcome\": -0.3539163826000459}, {\"Feature 0\": 0.7027897717655852, \"Feature 1\": 0.47936969191557693, \"Feature 2\": 1.0432957242216614, \"Outcome\": 0.3090939245354298}, {\"Feature 0\": 0.04183898110069766, \"Feature 1\": 0.16762747068646006, \"Feature 2\": -0.6144909387096663, \"Outcome\": 0.46188498871457584}, {\"Feature 0\": -0.23346047061737354, \"Feature 1\": -0.4945455790157834, \"Feature 2\": -0.7610148156203177, \"Outcome\": -0.2563118226402037}, {\"Feature 0\": 0.09368805387031125, \"Feature 1\": -1.2963143883549266, \"Feature 2\": 0.4731155923728118, \"Outcome\": 1.6250902221836603}, {\"Feature 0\": -0.2951883279633416, \"Feature 1\": 0.09021968440819818, \"Feature 2\": 0.06798059041264132, \"Outcome\": -0.38426514221450253}, {\"Feature 0\": -1.0468650717383865, \"Feature 1\": -1.0574490048436793, \"Feature 2\": -1.5886478839083806, \"Outcome\": 0.2834279772368102}, {\"Feature 0\": -0.7370751034980978, \"Feature 1\": 0.27999471276121407, \"Feature 2\": -0.940158201457098, \"Outcome\": -1.9062550957622721}, {\"Feature 0\": 0.5987373114473874, \"Feature 1\": -0.6129069140087485, \"Feature 2\": -0.05897262839281869, \"Outcome\": 1.7187830584553216}, {\"Feature 0\": 0.6207249967835308, \"Feature 1\": -0.22300805333713805, \"Feature 2\": 0.9095414127949366, \"Outcome\": 1.4942789415534208}, {\"Feature 0\": 1.369551715265448, \"Feature 1\": 0.20829073611480406, \"Feature 2\": 1.9303331336363854, \"Outcome\": 0.334052450620813}, {\"Feature 0\": 0.020935792832154396, \"Feature 1\": 0.20836862666605677, \"Feature 2\": -0.3973324060550204, \"Outcome\": -0.3565052819648263}, {\"Feature 0\": -0.742055174184505, \"Feature 1\": -1.9286345554096604, \"Feature 2\": -1.5132329138667535, \"Outcome\": 0.907484087228674}, {\"Feature 0\": 1.0974479613266728, \"Feature 1\": -1.6648015909377598, \"Feature 2\": 1.7422694600962272, \"Outcome\": 2.70939728069511}, {\"Feature 0\": -1.658186037951085, \"Feature 1\": -0.1218644193102933, \"Feature 2\": -1.8384046054159577, \"Outcome\": -1.2991256918060898}, {\"Feature 0\": 0.6867992063278106, \"Feature 1\": 0.06538146653751602, \"Feature 2\": 0.34051661006753386, \"Outcome\": 0.8351877756689686}, {\"Feature 0\": -2.0418909644967354, \"Feature 1\": -0.8032182205225229, \"Feature 2\": -2.9111885874797236, \"Outcome\": -1.0966398976748815}, {\"Feature 0\": 1.3952688072515198, \"Feature 1\": -1.6315265400572527, \"Feature 2\": 1.6782253440064288, \"Outcome\": 2.9976489709126852}, {\"Feature 0\": -1.1850829868816786, \"Feature 1\": 0.56726926794495, \"Feature 2\": 0.2312753354117647, \"Outcome\": -2.035367926752679}, {\"Feature 0\": -0.8143929581511363, \"Feature 1\": 1.3915469020463305, \"Feature 2\": -0.944554354052512, \"Outcome\": -2.1704654208076644}, {\"Feature 0\": 1.1725118280093263, \"Feature 1\": 0.9687057874978884, \"Feature 2\": 0.4218529794080751, \"Outcome\": 0.8821640639234876}, {\"Feature 0\": 1.1480399377677701, \"Feature 1\": -1.6158838078698237, \"Feature 2\": 1.6120201057323729, \"Outcome\": 2.4130137451306712}, {\"Feature 0\": 0.13490469139869649, \"Feature 1\": 1.3124238030329336, \"Feature 2\": 0.09993472317049355, \"Outcome\": -1.8111599574188089}, {\"Feature 0\": -1.1699245114711285, \"Feature 1\": 0.5421599146410152, \"Feature 2\": -0.850976936145426, \"Outcome\": -1.7942193167993394}, {\"Feature 0\": -0.7527159456570334, \"Feature 1\": -0.9220593113636821, \"Feature 2\": 0.10228500575387955, \"Outcome\": 0.5544503511858792}, {\"Feature 0\": 0.07157981809629291, \"Feature 1\": 2.107246744752846, \"Feature 2\": 0.025505848519262152, \"Outcome\": -1.3766079160699383}, {\"Feature 0\": -1.6461056105157752, \"Feature 1\": 1.1803243727007036, \"Feature 2\": -1.2824000474457558, \"Outcome\": -2.882876889373937}, {\"Feature 0\": -0.830421155082133, \"Feature 1\": 2.0374262617707846, \"Feature 2\": -0.3867026731765181, \"Outcome\": -3.599367926085038}, {\"Feature 0\": 0.4275698129372895, \"Feature 1\": 0.11346105542129419, \"Feature 2\": 0.2562075063499474, \"Outcome\": 0.6804089740038283}, {\"Feature 0\": 0.8547047071935688, \"Feature 1\": 1.0804186909903593, \"Feature 2\": -0.43093985600502516, \"Outcome\": 0.6792661147083348}, {\"Feature 0\": -0.19853637904507523, \"Feature 1\": 0.4940533580441938, \"Feature 2\": -0.6732572110693191, \"Outcome\": -0.24203126937964092}, {\"Feature 0\": 1.373385922806248, \"Feature 1\": 0.9299417382125279, \"Feature 2\": 1.6494103700043357, \"Outcome\": 0.5302985682583065}, {\"Feature 0\": -2.2349147862859717, \"Feature 1\": -0.7023477824656542, \"Feature 2\": -1.8023452789217111, \"Outcome\": -2.3077035800984396}, {\"Feature 0\": -0.46586383087635336, \"Feature 1\": -0.9647817691940082, \"Feature 2\": 0.3631202461639144, \"Outcome\": 0.7835381181613659}, {\"Feature 0\": 1.2387013594168308, \"Feature 1\": -1.4255058615316363, \"Feature 2\": 1.5704910835800163, \"Outcome\": 3.165020471627802}, {\"Feature 0\": -1.3906696294423633, \"Feature 1\": 0.4810617981658021, \"Feature 2\": -1.2936395783082606, \"Outcome\": -1.4842021649035027}, {\"Feature 0\": -0.9992503722594973, \"Feature 1\": 1.370998969629331, \"Feature 2\": -1.1910927152175965, \"Outcome\": -2.4600997286353845}, {\"Feature 0\": -1.187409827289574, \"Feature 1\": -0.915207021259395, \"Feature 2\": -0.4588014005557237, \"Outcome\": -0.44200634408444806}, {\"Feature 0\": 0.023409986059873822, \"Feature 1\": -0.6704692651817641, \"Feature 2\": -0.30819933332206007, \"Outcome\": 1.1944869574036097}, {\"Feature 0\": -0.1185894808910481, \"Feature 1\": -0.4604682722571777, \"Feature 2\": -0.8679793290886528, \"Outcome\": 0.680116956291186}, {\"Feature 0\": -1.2196938880706574, \"Feature 1\": 0.958840736163546, \"Feature 2\": -1.0090993201512741, \"Outcome\": -2.3628433196686505}, {\"Feature 0\": -1.745761960211414, \"Feature 1\": 0.7121990463157198, \"Feature 2\": -2.078849652921507, \"Outcome\": -3.12191410256913}, {\"Feature 0\": 0.0947421654089994, \"Feature 1\": 0.6002259966317248, \"Feature 2\": 0.021268126801924234, \"Outcome\": -0.2397258943809129}, {\"Feature 0\": -1.8539655164541717, \"Feature 1\": 1.1201227463999055, \"Feature 2\": -1.6041232967848322, \"Outcome\": -1.7642754070452307}, {\"Feature 0\": 0.2213270623252265, \"Feature 1\": -0.251822142083274, \"Feature 2\": 0.9827727848232984, \"Outcome\": 0.12010959637445473}, {\"Feature 0\": 0.45732058901241895, \"Feature 1\": -0.14685471649967533, \"Feature 2\": -0.2040404862393364, \"Outcome\": 0.8417234353269673}, {\"Feature 0\": 0.70528881813899, \"Feature 1\": 0.08178359002377382, \"Feature 2\": 0.862825112432224, \"Outcome\": 0.6551741989460307}, {\"Feature 0\": -0.7375894133159896, \"Feature 1\": -0.5814432355713405, \"Feature 2\": -0.5431240977348929, \"Outcome\": -0.29548668466887773}, {\"Feature 0\": -0.4505242259920288, \"Feature 1\": -0.33468267774693383, \"Feature 2\": -0.8872620129531239, \"Outcome\": -0.2128819208630396}, {\"Feature 0\": 0.11962130519078094, \"Feature 1\": 0.7621520660206131, \"Feature 2\": 1.5055226948612574, \"Outcome\": -0.019410257526775054}, {\"Feature 0\": 1.296374758062518, \"Feature 1\": -0.2965264066309701, \"Feature 2\": 1.860095063961155, \"Outcome\": 1.9764415138081675}, {\"Feature 0\": -0.156240790239638, \"Feature 1\": 1.8875623814003817, \"Feature 2\": -1.0495738309725797, \"Outcome\": -1.8484929350920016}, {\"Feature 0\": -0.4841323515933393, \"Feature 1\": 0.589056224148689, \"Feature 2\": -1.3623799664743044, \"Outcome\": -0.28731288052679527}, {\"Feature 0\": 1.8590976345620678, \"Feature 1\": 1.4809247094128137, \"Feature 2\": 2.388273409252528, \"Outcome\": 0.7470337159052554}, {\"Feature 0\": 0.3173259295444725, \"Feature 1\": -0.2130027449238485, \"Feature 2\": 0.4038105767592824, \"Outcome\": 0.4064863188747574}, {\"Feature 0\": 0.42627913530608824, \"Feature 1\": 0.03043459281133016, \"Feature 2\": 1.4421684795103908, \"Outcome\": 1.0844229481676404}, {\"Feature 0\": -2.65711173753319, \"Feature 1\": -0.18011548660575852, \"Feature 2\": -3.30148633659081, \"Outcome\": -2.86048179324277}, {\"Feature 0\": 1.1292584191051926, \"Feature 1\": -0.632790917798987, \"Feature 2\": 0.4011227794608868, \"Outcome\": 2.057594986660146}, {\"Feature 0\": 1.135720267544502, \"Feature 1\": 0.41260311758586293, \"Feature 2\": 1.1867732132918423, \"Outcome\": 1.692249679587863}, {\"Feature 0\": 0.27943476298288433, \"Feature 1\": -0.1222469892011542, \"Feature 2\": 0.7154378869417091, \"Outcome\": 0.4179476772567566}, {\"Feature 0\": 0.12951591791794065, \"Feature 1\": 0.21795402377461773, \"Feature 2\": 0.16088387932747417, \"Outcome\": 0.09290131787152534}, {\"Feature 0\": -1.2785585116399343, \"Feature 1\": 0.7651372642020037, \"Feature 2\": -0.9232078004723319, \"Outcome\": -1.8790481737770695}, {\"Feature 0\": -0.3620072255956518, \"Feature 1\": -1.2477924952771813, \"Feature 2\": -0.7070247257647194, \"Outcome\": 0.3498249754637479}, {\"Feature 0\": 1.2407316553375338, \"Feature 1\": -1.6808827518400065, \"Feature 2\": 1.2321406231542198, \"Outcome\": 2.9850219186499496}, {\"Feature 0\": 0.8486967440594823, \"Feature 1\": 0.012527148377765928, \"Feature 2\": 0.6517248801496768, \"Outcome\": 1.0192596482049874}, {\"Feature 0\": 0.20005769033026222, \"Feature 1\": -0.6134171977405575, \"Feature 2\": -0.7348153054657441, \"Outcome\": 1.6973972799447843}, {\"Feature 0\": 0.10077921027775755, \"Feature 1\": -1.9060073132994193, \"Feature 2\": 0.864224242659531, \"Outcome\": 1.931738838397504}, {\"Feature 0\": -0.1817824285165817, \"Feature 1\": -0.06166012111755948, \"Feature 2\": 0.09696969269085351, \"Outcome\": -0.7093164220277494}, {\"Feature 0\": 1.809722180146898, \"Feature 1\": 0.17208330002588604, \"Feature 2\": 1.148843226961092, \"Outcome\": 2.23882267046325}, {\"Feature 0\": -0.34500485996796315, \"Feature 1\": -0.5158719704448254, \"Feature 2\": -0.04696031606853662, \"Outcome\": 0.1072259990066902}, {\"Feature 0\": 0.7483821092676467, \"Feature 1\": -0.6783734093196446, \"Feature 2\": 0.4460915160737348, \"Outcome\": 1.4471746937559617}, {\"Feature 0\": -1.43237513266277, \"Feature 1\": 1.8619243282366584, \"Feature 2\": -1.3379627783622836, \"Outcome\": -3.424503565724844}, {\"Feature 0\": -0.37539557145768276, \"Feature 1\": 1.2267901667945829, \"Feature 2\": -0.6735904722928819, \"Outcome\": -1.668074845519567}, {\"Feature 0\": -0.33769042960811035, \"Feature 1\": -0.8483825740812697, \"Feature 2\": -0.6883721786188082, \"Outcome\": 0.48100903826100555}, {\"Feature 0\": 0.4259833780456727, \"Feature 1\": -0.3297556360865057, \"Feature 2\": -0.3966513860447409, \"Outcome\": 1.181533858465992}, {\"Feature 0\": -0.06847834895632138, \"Feature 1\": 2.1248625984240093, \"Feature 2\": 1.2823089755487833, \"Outcome\": -1.9341596852773737}, {\"Feature 0\": 0.7754269880659374, \"Feature 1\": 0.9208322720801417, \"Feature 2\": 1.7530336624951564, \"Outcome\": 0.1397591533802527}, {\"Feature 0\": 0.1746083190176377, \"Feature 1\": -0.9725540851269637, \"Feature 2\": 0.31164354565732, \"Outcome\": 1.0769517421873551}, {\"Feature 0\": 0.7156105795664849, \"Feature 1\": 0.3755890282641502, \"Feature 2\": -0.16982732544136614, \"Outcome\": -0.1837054443073829}, {\"Feature 0\": 0.9221843799002172, \"Feature 1\": 1.758074881792943, \"Feature 2\": 1.1707952429121706, \"Outcome\": -0.5414221111671182}, {\"Feature 0\": 0.35070418835890155, \"Feature 1\": 0.03585391489034621, \"Feature 2\": 0.9819043135924079, \"Outcome\": -0.3333524948471399}, {\"Feature 0\": 1.5157058340345708, \"Feature 1\": -1.5671576245380279, \"Feature 2\": 1.1657118585465907, \"Outcome\": 2.996851893337109}, {\"Feature 0\": -2.6964787526265424, \"Feature 1\": 0.5671924598160936, \"Feature 2\": -3.2734973794119058, \"Outcome\": -3.4375979389454194}, {\"Feature 0\": -0.23711133112879343, \"Feature 1\": 1.240758418662748, \"Feature 2\": -0.4841899291988716, \"Outcome\": -1.3750362744050433}, {\"Feature 0\": 0.718134373373857, \"Feature 1\": 0.7644494155394942, \"Feature 2\": 0.23512635951682698, \"Outcome\": -0.34873886881569954}, {\"Feature 0\": -1.3803923830492526, \"Feature 1\": 2.1724972040882644, \"Feature 2\": -1.5045148330357443, \"Outcome\": -3.526335596198976}, {\"Feature 0\": 0.5153777913449665, \"Feature 1\": 0.5780633598119229, \"Feature 2\": -0.31046854372501687, \"Outcome\": 0.31215780642229785}, {\"Feature 0\": -0.650717853688538, \"Feature 1\": -2.3809433589691307, \"Feature 2\": -0.8214380789173621, \"Outcome\": 1.3858322538320709}, {\"Feature 0\": -0.9456046849534266, \"Feature 1\": 1.589904391903379, \"Feature 2\": -1.4402969605528038, \"Outcome\": -3.011484135094833}, {\"Feature 0\": 0.05446848820048371, \"Feature 1\": 0.019623133596457194, \"Feature 2\": 0.7141814168248705, \"Outcome\": 0.1698743410800906}, {\"Feature 0\": -1.0884868971624195, \"Feature 1\": 0.34122947793388814, \"Feature 2\": -1.4173533505973008, \"Outcome\": -1.4807909288834333}, {\"Feature 0\": -1.898633495035525, \"Feature 1\": -0.5341465045366487, \"Feature 2\": -1.9879796160621883, \"Outcome\": -0.8352150801290572}, {\"Feature 0\": 1.0389372397292265, \"Feature 1\": -0.9385078980319258, \"Feature 2\": 1.822340658727775, \"Outcome\": 1.7453542615807733}, {\"Feature 0\": -0.6246855594109173, \"Feature 1\": 1.7014064357994938, \"Feature 2\": -0.6032435549531514, \"Outcome\": -2.402869573655811}, {\"Feature 0\": -0.9954856690334076, \"Feature 1\": -1.1489828549201397, \"Feature 2\": -0.8217936453386872, \"Outcome\": -0.0033421020946600155}, {\"Feature 0\": 1.2745997609472142, \"Feature 1\": -1.279630820282435, \"Feature 2\": 0.8565698323865754, \"Outcome\": 2.0701906463162896}, {\"Feature 0\": 1.880032722616328, \"Feature 1\": 0.2213840685887193, \"Feature 2\": 1.7945246823882435, \"Outcome\": 2.118222589143302}, {\"Feature 0\": 1.9802438062937506, \"Feature 1\": 0.44972715100211713, \"Feature 2\": 0.9399029830658072, \"Outcome\": 1.310165425130817}, {\"Feature 0\": -1.3900919701042775, \"Feature 1\": -0.21230020907824465, \"Feature 2\": -1.3380698741624297, \"Outcome\": -2.492108903912541}, {\"Feature 0\": -0.7410428463235395, \"Feature 1\": -0.5095553763069796, \"Feature 2\": -1.0980321913540974, \"Outcome\": 0.007278647772653413}, {\"Feature 0\": 0.3592731731477657, \"Feature 1\": 0.7111761798637114, \"Feature 2\": 0.2761778908444024, \"Outcome\": -0.8243141073501429}, {\"Feature 0\": -1.0543243352919813, \"Feature 1\": -0.5382089765290656, \"Feature 2\": -1.6595185515493107, \"Outcome\": 0.3870782951683005}, {\"Feature 0\": -0.8346317741276552, \"Feature 1\": 0.8112128545919488, \"Feature 2\": -1.048123795295019, \"Outcome\": -2.2410099904615777}, {\"Feature 0\": 0.4883781123258516, \"Feature 1\": -1.102937394221283, \"Feature 2\": 0.1489976146244832, \"Outcome\": 2.0159837048025917}, {\"Feature 0\": 0.040849428174267885, \"Feature 1\": 0.8438770196008242, \"Feature 2\": -0.2920140325764255, \"Outcome\": -0.06149228425938802}, {\"Feature 0\": -0.5810711177308066, \"Feature 1\": -2.1646033156065867, \"Feature 2\": -0.6862699338581965, \"Outcome\": 1.3642219152895483}, {\"Feature 0\": -0.8701580358733546, \"Feature 1\": -1.2066478692331584, \"Feature 2\": -0.8212290421909881, \"Outcome\": -0.3971837191751677}, {\"Feature 0\": -1.0058301269743566, \"Feature 1\": -0.0897498424403797, \"Feature 2\": -1.4398340886258636, \"Outcome\": -0.9613370705315898}, {\"Feature 0\": 0.6910706138504032, \"Feature 1\": 2.430354955395104, \"Feature 2\": 0.599693121127643, \"Outcome\": -1.8514728181109679}, {\"Feature 0\": 0.025590954935465673, \"Feature 1\": 0.6707911326555093, \"Feature 2\": -0.5643795641014445, \"Outcome\": -0.3294728184138481}, {\"Feature 0\": -0.25389754257689345, \"Feature 1\": 1.2153557153846821, \"Feature 2\": -0.017964008689794753, \"Outcome\": -1.2283493751528596}, {\"Feature 0\": 0.49948332948806246, \"Feature 1\": -1.0674727182059032, \"Feature 2\": 0.5858490364251754, \"Outcome\": 1.1189657397119457}, {\"Feature 0\": -0.5981156505869268, \"Feature 1\": 1.02980557255029, \"Feature 2\": -1.4588328310081322, \"Outcome\": -2.881991955900251}, {\"Feature 0\": 1.5208980930934004, \"Feature 1\": -0.15056350340319882, \"Feature 2\": 0.44047722957048796, \"Outcome\": 1.417172179707956}, {\"Feature 0\": 0.7465717537220253, \"Feature 1\": -2.129665914191938, \"Feature 2\": 0.9568937270363286, \"Outcome\": 3.19163993353559}, {\"Feature 0\": 1.1339143632303161, \"Feature 1\": -1.1036089309084354, \"Feature 2\": 0.7072062509585713, \"Outcome\": 2.768801756229373}, {\"Feature 0\": 0.7726068647562121, \"Feature 1\": -0.8925797836744022, \"Feature 2\": 1.1522255235748708, \"Outcome\": 0.6943906682607192}, {\"Feature 0\": 0.5057307763953807, \"Feature 1\": 0.1323637965388707, \"Feature 2\": 0.3881304039839901, \"Outcome\": 0.2252420893677745}, {\"Feature 0\": 1.106800893048839, \"Feature 1\": 0.7070641033705933, \"Feature 2\": 1.3680673403512649, \"Outcome\": 0.6620142667145218}, {\"Feature 0\": 0.15767907273936518, \"Feature 1\": 0.425302264668867, \"Feature 2\": 0.48804839233594344, \"Outcome\": 0.13027380510541953}, {\"Feature 0\": -1.3391477782366608, \"Feature 1\": 0.9384682034596113, \"Feature 2\": -1.8628724893902153, \"Outcome\": -1.7184031736648597}, {\"Feature 0\": 0.7825399720055708, \"Feature 1\": 0.899380275568569, \"Feature 2\": 0.6319287312670858, \"Outcome\": -0.5061928460686893}, {\"Feature 0\": 0.5210968292938434, \"Feature 1\": -0.9612519408877195, \"Feature 2\": 0.30366108624741717, \"Outcome\": 1.4766865666043782}, {\"Feature 0\": 0.20728141677873524, \"Feature 1\": -0.4430485303166273, \"Feature 2\": 0.2309569591616837, \"Outcome\": 0.8924973792582251}, {\"Feature 0\": -0.02918311796110426, \"Feature 1\": -1.1655175502733137, \"Feature 2\": 0.08599210742608505, \"Outcome\": 1.3873995235520529}, {\"Feature 0\": 1.750870396454656, \"Feature 1\": -1.0637046511871384, \"Feature 2\": 1.373261542981183, \"Outcome\": 2.122505281180423}, {\"Feature 0\": -0.09230963868426198, \"Feature 1\": -0.36165751476773694, \"Feature 2\": -0.06346722856953804, \"Outcome\": 0.04642235396402766}, {\"Feature 0\": 0.4342890766969658, \"Feature 1\": 0.7792741866947184, \"Feature 2\": 0.21160310787572223, \"Outcome\": -0.038726002061401865}, {\"Feature 0\": -0.32556565989899094, \"Feature 1\": -0.4382093611622205, \"Feature 2\": -0.25083765084088805, \"Outcome\": -0.33074602772075273}, {\"Feature 0\": -0.9009421805378766, \"Feature 1\": 0.3083785037129928, \"Feature 2\": -0.3616378943657411, \"Outcome\": -0.6330936918284735}, {\"Feature 0\": -0.3059505086184927, \"Feature 1\": -0.05014605198370604, \"Feature 2\": 0.37969479193779, \"Outcome\": -0.5619189419617667}, {\"Feature 0\": -3.8489826586947458, \"Feature 1\": -1.6172682115828518, \"Feature 2\": -3.7053920863884864, \"Outcome\": -2.0041902392579787}, {\"Feature 0\": 0.31453374054547256, \"Feature 1\": 1.5158663516199036, \"Feature 2\": 0.21630390244427028, \"Outcome\": -1.9067835002217044}, {\"Feature 0\": -1.545017556916545, \"Feature 1\": 0.14327836899522337, \"Feature 2\": -1.4272272782067534, \"Outcome\": -1.3740073927583916}, {\"Feature 0\": -0.7976521023700276, \"Feature 1\": -0.7207908608906987, \"Feature 2\": -1.8301198393389186, \"Outcome\": 0.7223412195620474}, {\"Feature 0\": -0.7252105791052024, \"Feature 1\": -0.9583673638075448, \"Feature 2\": -0.36572492449155186, \"Outcome\": 0.11626317034670033}, {\"Feature 0\": -0.4010473376030638, \"Feature 1\": -0.5268216528980469, \"Feature 2\": -0.962533688533109, \"Outcome\": 0.5821511156858645}, {\"Feature 0\": -1.211976951849265, \"Feature 1\": -0.37293217352400093, \"Feature 2\": -1.116669854472179, \"Outcome\": -0.8943687422653327}, {\"Feature 0\": -1.930090047206758, \"Feature 1\": -0.6772788091710547, \"Feature 2\": -2.9285606919272453, \"Outcome\": -1.0011505377718257}, {\"Feature 0\": 0.961331915054242, \"Feature 1\": 0.2505676488061262, \"Feature 2\": 0.8988079601777841, \"Outcome\": 1.3017820400826872}, {\"Feature 0\": 1.2163145343408943, \"Feature 1\": -2.100196917210111, \"Feature 2\": 1.981916857754863, \"Outcome\": 2.3962959530878565}, {\"Feature 0\": 0.7382308055713187, \"Feature 1\": 1.1204096909984775, \"Feature 2\": 1.07470684558573, \"Outcome\": -0.1417365380008401}, {\"Feature 0\": 0.7554098314192543, \"Feature 1\": -1.0725930762862415, \"Feature 2\": -0.18762878795576954, \"Outcome\": 1.2567196352593764}, {\"Feature 0\": 1.0072244544808766, \"Feature 1\": 0.8599104091873032, \"Feature 2\": 1.3749905098412833, \"Outcome\": 0.20118981702671018}, {\"Feature 0\": -0.06010600003633405, \"Feature 1\": -0.11205344093552215, \"Feature 2\": -0.2722000421236809, \"Outcome\": 0.09904229560159843}, {\"Feature 0\": 0.4640581953363121, \"Feature 1\": -0.19242053339333198, \"Feature 2\": 0.10856280873306401, \"Outcome\": 0.8605127003364256}, {\"Feature 0\": -0.3876716460566723, \"Feature 1\": 0.49930205992811977, \"Feature 2\": -0.2837577964615752, \"Outcome\": -1.1910585053746818}, {\"Feature 0\": 0.03421454758379039, \"Feature 1\": -2.083784389683771, \"Feature 2\": 0.11831950242548474, \"Outcome\": 1.8240478001350915}, {\"Feature 0\": 1.234408598390336, \"Feature 1\": 1.176826064683507, \"Feature 2\": 1.2426767956620124, \"Outcome\": 0.8944858798962516}, {\"Feature 0\": 0.4370364754258425, \"Feature 1\": 0.7807357457043897, \"Feature 2\": 0.8941181138701748, \"Outcome\": -1.1390448978517738}, {\"Feature 0\": -0.15846212336852544, \"Feature 1\": 0.5176807982607574, \"Feature 2\": 0.364582962142541, \"Outcome\": 0.05603866074336361}, {\"Feature 0\": -0.9502156329085847, \"Feature 1\": -0.34096967528662475, \"Feature 2\": -0.6992569344258693, \"Outcome\": -0.11956894355104136}, {\"Feature 0\": 0.7399694591382574, \"Feature 1\": 0.04032702012056598, \"Feature 2\": 0.35244706220933547, \"Outcome\": 0.5025330176375657}, {\"Feature 0\": -0.9836757157085131, \"Feature 1\": -0.6343547169436481, \"Feature 2\": -1.277296779809916, \"Outcome\": -0.3609960057053629}, {\"Feature 0\": -0.08550134260902355, \"Feature 1\": -0.26148205001597274, \"Feature 2\": 0.9944959126364065, \"Outcome\": 0.8241381704372603}, {\"Feature 0\": 0.7484224416482304, \"Feature 1\": -0.29961707588246206, \"Feature 2\": 0.8575014308620657, \"Outcome\": 1.3447717957555385}, {\"Feature 0\": 0.008695804840368363, \"Feature 1\": 1.5537826593960293, \"Feature 2\": 0.8408407388813992, \"Outcome\": -0.897499022015525}, {\"Feature 0\": 0.6169250882140143, \"Feature 1\": -1.166315639194218, \"Feature 2\": 0.8127374209849858, \"Outcome\": 1.3820296596586183}, {\"Feature 0\": -0.9412435658160022, \"Feature 1\": -0.5238660439499393, \"Feature 2\": -0.09600113194665716, \"Outcome\": -0.1513088508574052}, {\"Feature 0\": -0.9027497547138157, \"Feature 1\": -0.36447892601091475, \"Feature 2\": -1.2379235551084966, \"Outcome\": -0.4708093438206592}, {\"Feature 0\": -0.8349686622345753, \"Feature 1\": -1.1907046792321856, \"Feature 2\": -0.9752803674177188, \"Outcome\": 0.4456854723672268}, {\"Feature 0\": -0.11388111381109031, \"Feature 1\": 1.0465496620237928, \"Feature 2\": -0.6628391619184522, \"Outcome\": -1.5022345974431965}, {\"Feature 0\": 0.593783244639996, \"Feature 1\": 0.06114049554249093, \"Feature 2\": 0.1806403258385591, \"Outcome\": 0.6452813738564936}, {\"Feature 0\": 0.9270629264430129, \"Feature 1\": -0.33501649449345805, \"Feature 2\": 1.00378856079896, \"Outcome\": 2.0668418015968606}, {\"Feature 0\": -1.6112970751183076, \"Feature 1\": -0.47577999320674497, \"Feature 2\": -1.585777120561058, \"Outcome\": -1.3207639406882665}, {\"Feature 0\": -1.5504469577805016, \"Feature 1\": 2.776720834093567, \"Feature 2\": -1.2581294483578982, \"Outcome\": -4.986144201682091}, {\"Feature 0\": -0.261211598208904, \"Feature 1\": 2.464620870490808, \"Feature 2\": -0.06166391831960216, \"Outcome\": -2.5719471273480496}, {\"Feature 0\": 0.15886219477557553, \"Feature 1\": -0.7191564892951339, \"Feature 2\": 0.4907242655013929, \"Outcome\": 1.1174186905841932}, {\"Feature 0\": -1.9569603120572585, \"Feature 1\": 0.46495113264294646, \"Feature 2\": -1.6266727403924768, \"Outcome\": -2.6578223733397346}, {\"Feature 0\": 0.5728670550510665, \"Feature 1\": -0.3201371670006284, \"Feature 2\": -0.4539192702822158, \"Outcome\": -0.025064896186663632}, {\"Feature 0\": -0.3680459523721308, \"Feature 1\": 1.214558443568517, \"Feature 2\": -0.5227584360223132, \"Outcome\": -2.1107156531622007}, {\"Feature 0\": -0.3054989474519426, \"Feature 1\": 0.6811941522008437, \"Feature 2\": -0.3750809926150854, \"Outcome\": -0.40807264127919973}, {\"Feature 0\": 0.984529720116657, \"Feature 1\": 0.4566576469500875, \"Feature 2\": 0.5046726420267205, \"Outcome\": 0.6191443180554659}, {\"Feature 0\": -0.04481693418906319, \"Feature 1\": 0.27463053817476857, \"Feature 2\": -0.06364934934550733, \"Outcome\": 0.09556690378491278}, {\"Feature 0\": -0.9584997043039365, \"Feature 1\": -0.7682374479659975, \"Feature 2\": -1.6362797954983566, \"Outcome\": 0.8799744064156212}, {\"Feature 0\": 0.9026238486876881, \"Feature 1\": 0.6479292422241187, \"Feature 2\": 1.5319219901987915, \"Outcome\": 0.8736384079839742}, {\"Feature 0\": 1.7627229567276639, \"Feature 1\": -0.7514730401693342, \"Feature 2\": 1.4269024346589605, \"Outcome\": 3.126199087121565}, {\"Feature 0\": 0.5070969181213775, \"Feature 1\": 0.7018206723962294, \"Feature 2\": 1.0388979648862442, \"Outcome\": -0.07322234522791257}, {\"Feature 0\": 0.18405260961530232, \"Feature 1\": 1.307672661911876, \"Feature 2\": 0.32102702100341496, \"Outcome\": -1.4798088159962801}, {\"Feature 0\": -0.31083115929333915, \"Feature 1\": 0.5148614056637967, \"Feature 2\": 0.820333780896706, \"Outcome\": -0.7486381197061256}, {\"Feature 0\": 0.7549026335936142, \"Feature 1\": 0.07346084489135736, \"Feature 2\": 0.9185669412159829, \"Outcome\": 0.2566386670377271}, {\"Feature 0\": -0.42388237652023786, \"Feature 1\": 0.6843741868256198, \"Feature 2\": -0.278123159011014, \"Outcome\": -1.0623868338189293}, {\"Feature 0\": -1.3680670606285719, \"Feature 1\": 0.5566922528261546, \"Feature 2\": -1.5930711919984462, \"Outcome\": -1.6900664247528907}, {\"Feature 0\": -0.12815745511945523, \"Feature 1\": 0.7253851422127228, \"Feature 2\": 0.1317335289443238, \"Outcome\": -0.6239755399556777}, {\"Feature 0\": -2.0361961198236544, \"Feature 1\": -0.6502660630733044, \"Feature 2\": -2.5964882524127515, \"Outcome\": -1.2879872802596477}, {\"Feature 0\": -2.655602972022459, \"Feature 1\": -1.7976531446834036, \"Feature 2\": -3.365262052105747, \"Outcome\": -1.1060614118958685}, {\"Feature 0\": -0.026513300422025536, \"Feature 1\": 0.6130527811351819, \"Feature 2\": -1.0627800193530046, \"Outcome\": -0.00015590846706381445}, {\"Feature 0\": 1.1623122268682686, \"Feature 1\": 1.3885003991699933, \"Feature 2\": 0.9034652588796621, \"Outcome\": -1.5650159105373194}, {\"Feature 0\": 1.040119286090391, \"Feature 1\": -0.9989214663098825, \"Feature 2\": 1.2021254429382868, \"Outcome\": 1.6320332448100177}, {\"Feature 0\": -0.16090940511319227, \"Feature 1\": -1.1339783821270126, \"Feature 2\": 0.4045942183581851, \"Outcome\": 2.1155028373163924}, {\"Feature 0\": 0.5008812939282206, \"Feature 1\": -0.2749497828940127, \"Feature 2\": 0.511350336391851, \"Outcome\": 1.0977700161709816}, {\"Feature 0\": -0.41181764624571215, \"Feature 1\": 0.48816995735435154, \"Feature 2\": -0.7649849867240399, \"Outcome\": -0.7423883423238019}, {\"Feature 0\": -0.2289376810617259, \"Feature 1\": -1.2617602054086008, \"Feature 2\": -0.20294531092942336, \"Outcome\": 1.6145851582079385}, {\"Feature 0\": -0.69681276157851, \"Feature 1\": -0.35978464265410015, \"Feature 2\": 0.40689000056557534, \"Outcome\": -0.21691797253886091}, {\"Feature 0\": -0.21065166226103718, \"Feature 1\": 0.4224177790190559, \"Feature 2\": 0.18239403285823555, \"Outcome\": -0.990394184825393}, {\"Feature 0\": 0.6774429002568737, \"Feature 1\": 1.056738024463691, \"Feature 2\": -0.4323708670959566, \"Outcome\": -0.8351504108122123}, {\"Feature 0\": 2.2640703774258735, \"Feature 1\": -0.9705092972200137, \"Feature 2\": 0.9767950019452438, \"Outcome\": 3.4236374627784274}, {\"Feature 0\": 0.9918986774725574, \"Feature 1\": -0.3815473925478094, \"Feature 2\": 1.8743667631162721, \"Outcome\": 1.881123265531391}, {\"Feature 0\": 1.363171246704713, \"Feature 1\": -0.017224163943743338, \"Feature 2\": 1.8394039778781597, \"Outcome\": 0.12474243073919067}, {\"Feature 0\": 1.395237288806164, \"Feature 1\": -0.8219581795799163, \"Feature 2\": 1.544649361042448, \"Outcome\": 2.2036855443738297}, {\"Feature 0\": -0.12140664877628476, \"Feature 1\": 0.09503400880282122, \"Feature 2\": -0.2557003843896275, \"Outcome\": -0.8604188508061459}, {\"Feature 0\": 0.00914945003716583, \"Feature 1\": -1.3415427820127586, \"Feature 2\": -0.9057266387415153, \"Outcome\": 1.2457981580139228}, {\"Feature 0\": 0.19295191532339284, \"Feature 1\": 1.4305061482014354, \"Feature 2\": 0.5947038088282457, \"Outcome\": -0.5285318720749651}, {\"Feature 0\": 0.08293569671174122, \"Feature 1\": -0.2835509606120703, \"Feature 2\": -0.6616089407923282, \"Outcome\": 0.6688452565886729}, {\"Feature 0\": 1.495159622356359, \"Feature 1\": 0.0015927142991608938, \"Feature 2\": 1.0650218845472699, \"Outcome\": 1.9835728592068675}, {\"Feature 0\": 0.2494843698593819, \"Feature 1\": -0.8033605628849151, \"Feature 2\": 0.16168940116722783, \"Outcome\": 1.434371699657908}, {\"Feature 0\": -0.5201510768973793, \"Feature 1\": 1.2932664495042323, \"Feature 2\": -0.6856575290418638, \"Outcome\": -2.335701655040765}, {\"Feature 0\": -0.9504841107558325, \"Feature 1\": 1.5196952301600506, \"Feature 2\": -1.1587109924064651, \"Outcome\": -1.5695889715084057}, {\"Feature 0\": 1.222663136896772, \"Feature 1\": -0.8381524878746338, \"Feature 2\": 2.1918601875250823, \"Outcome\": 2.2493898306578295}, {\"Feature 0\": -0.2776363450555382, \"Feature 1\": -0.3587365249399603, \"Feature 2\": -0.857554352461712, \"Outcome\": -0.05279736874259447}, {\"Feature 0\": 0.4287266971872255, \"Feature 1\": 1.7653432901849797, \"Feature 2\": 0.9488396770877028, \"Outcome\": -1.0988290623801849}, {\"Feature 0\": -0.08818048743041133, \"Feature 1\": -0.01450867789200514, \"Feature 2\": -0.507630567619386, \"Outcome\": 0.17312337227217922}, {\"Feature 0\": 1.1017973518002395, \"Feature 1\": -0.05953170372913155, \"Feature 2\": 1.2081322037660467, \"Outcome\": 1.3243001726385264}, {\"Feature 0\": -0.06674678361603803, \"Feature 1\": -0.47078154617889567, \"Feature 2\": -0.48700392423643063, \"Outcome\": 0.46459179902008013}, {\"Feature 0\": -0.359646018351756, \"Feature 1\": -1.081545914450802, \"Feature 2\": -0.6189397484707035, \"Outcome\": 0.9773797410346423}, {\"Feature 0\": 0.2982807195780705, \"Feature 1\": -0.8063593242826825, \"Feature 2\": 0.9644039627479446, \"Outcome\": 1.0439864781545574}, {\"Feature 0\": -0.47582533213291656, \"Feature 1\": 1.6972713804667912, \"Feature 2\": -0.6095201671909181, \"Outcome\": -1.9363862518253065}, {\"Feature 0\": -0.9529501201047073, \"Feature 1\": -0.31391025854071386, \"Feature 2\": -1.0965352341096373, \"Outcome\": -1.7830763554339835}, {\"Feature 0\": -3.1406836675463934, \"Feature 1\": 1.2048624328711548, \"Feature 2\": -3.397073924323763, \"Outcome\": -3.9923259909513766}, {\"Feature 0\": -0.38571995393847835, \"Feature 1\": 1.8974274310665762, \"Feature 2\": -0.22885655179637843, \"Outcome\": -2.443252511717837}, {\"Feature 0\": -0.011955900414927728, \"Feature 1\": -0.5166159198811864, \"Feature 2\": -0.5938896712272698, \"Outcome\": 0.40194086510905724}, {\"Feature 0\": -0.5408998584414837, \"Feature 1\": 0.19414735575649467, \"Feature 2\": -0.7925716189906531, \"Outcome\": -0.9958033477911814}, {\"Feature 0\": -1.2702088973715835, \"Feature 1\": -0.23233291528684313, \"Feature 2\": -0.8141911808408198, \"Outcome\": -0.33072711837105584}, {\"Feature 0\": -0.385000870254717, \"Feature 1\": 0.042183923467712096, \"Feature 2\": -0.6796939126839646, \"Outcome\": -0.522433301087177}, {\"Feature 0\": -0.7085900873351634, \"Feature 1\": 0.06510453420055133, \"Feature 2\": -0.32062227592911535, \"Outcome\": -1.2270421924442783}, {\"Feature 0\": 0.26603211439430335, \"Feature 1\": 1.4016638726243689, \"Feature 2\": 0.7568970672576426, \"Outcome\": -1.1498738124744867}, {\"Feature 0\": -0.7616741157662158, \"Feature 1\": -0.5188921433428333, \"Feature 2\": 0.30781156139412114, \"Outcome\": 0.8335890421617768}, {\"Feature 0\": -0.12394743060167228, \"Feature 1\": -0.7197680759760383, \"Feature 2\": -0.3227501366835062, \"Outcome\": -0.00910793944623467}, {\"Feature 0\": -0.1526770443448786, \"Feature 1\": 1.2391488361244276, \"Feature 2\": 0.13130420399913456, \"Outcome\": -0.8163227529862135}, {\"Feature 0\": 0.5110250917129103, \"Feature 1\": -1.1278883000989584, \"Feature 2\": 0.7808838686105882, \"Outcome\": 1.101055361585412}, {\"Feature 0\": -1.3361863619440126, \"Feature 1\": 0.5311254864424994, \"Feature 2\": -0.3845752556871106, \"Outcome\": -1.952731756027164}, {\"Feature 0\": -1.2542259053911455, \"Feature 1\": -0.7302020842760852, \"Feature 2\": -1.7487404028605658, \"Outcome\": -0.5427343755997249}, {\"Feature 0\": -0.47523018736669237, \"Feature 1\": -0.5692964056269327, \"Feature 2\": -0.738737525132094, \"Outcome\": -0.35355690952132607}, {\"Feature 0\": 0.023208848775743213, \"Feature 1\": 0.41055181712675975, \"Feature 2\": -0.15274015623450532, \"Outcome\": -0.3007644272625618}, {\"Feature 0\": -0.5084601921827752, \"Feature 1\": 0.8865685093676262, \"Feature 2\": -0.7784606257839113, \"Outcome\": -1.233921580138048}, {\"Feature 0\": 0.05494423055402358, \"Feature 1\": 0.866746195307259, \"Feature 2\": 0.27647926987535176, \"Outcome\": -0.8238699421149295}, {\"Feature 0\": 1.4617381250691994, \"Feature 1\": 1.4856782606803856, \"Feature 2\": 1.4951905669061765, \"Outcome\": 0.19565609970893977}, {\"Feature 0\": -0.20632887286010282, \"Feature 1\": 0.9982464500842056, \"Feature 2\": -0.11263557697980876, \"Outcome\": -0.984435626125332}, {\"Feature 0\": 0.2860895928205667, \"Feature 1\": -1.1947308513153632, \"Feature 2\": 0.6168349067628722, \"Outcome\": 1.8654936083209743}, {\"Feature 0\": -0.06697490103792465, \"Feature 1\": 0.8894705842205829, \"Feature 2\": -0.30441034167619857, \"Outcome\": -1.7475488427815296}, {\"Feature 0\": -1.641847370455965, \"Feature 1\": 0.34884686566970785, \"Feature 2\": -1.5722052463181762, \"Outcome\": -2.4482137640522272}, {\"Feature 0\": -0.7198150341606483, \"Feature 1\": 0.06623170175313582, \"Feature 2\": -1.0845801330460674, \"Outcome\": -1.2346490680285402}, {\"Feature 0\": -1.3550122708893855, \"Feature 1\": -0.25796143685750406, \"Feature 2\": -0.688576234424435, \"Outcome\": -1.3230721997988466}, {\"Feature 0\": 1.1833200806246678, \"Feature 1\": 0.45509600933620353, \"Feature 2\": 1.9705713449817819, \"Outcome\": 0.9698719098179824}, {\"Feature 0\": -0.19727815770282933, \"Feature 1\": -0.8831928863159253, \"Feature 2\": -0.2251674602628231, \"Outcome\": 1.1031133638491635}, {\"Feature 0\": 0.1369220552151792, \"Feature 1\": 1.4489833891360628, \"Feature 2\": 1.0180215104699957, \"Outcome\": -1.374064142343726}, {\"Feature 0\": -1.1949535529146977, \"Feature 1\": 0.06683587365299547, \"Feature 2\": -1.8492076005894544, \"Outcome\": -0.7437912938222289}, {\"Feature 0\": -1.714862164646254, \"Feature 1\": -1.6213514003298202, \"Feature 2\": -1.3027793351349948, \"Outcome\": -0.3593468233439593}, {\"Feature 0\": -1.07708829475036, \"Feature 1\": 0.031043089820327437, \"Feature 2\": -1.1612852706265517, \"Outcome\": -1.4063004114274498}, {\"Feature 0\": 0.8338099306565087, \"Feature 1\": 0.181823738615484, \"Feature 2\": 1.0562317657650904, \"Outcome\": 0.7542101739621084}, {\"Feature 0\": 0.20121394929707248, \"Feature 1\": 1.562236335957132, \"Feature 2\": 0.05944021322958662, \"Outcome\": -1.5653477193225012}, {\"Feature 0\": -1.4289530435384037, \"Feature 1\": 0.10036799184616171, \"Feature 2\": -1.609278644557194, \"Outcome\": -1.1985823503435338}, {\"Feature 0\": 0.6778377705505492, \"Feature 1\": -0.5450505080387275, \"Feature 2\": 1.4285673711844251, \"Outcome\": 1.1088776428353795}, {\"Feature 0\": 0.11066628197867859, \"Feature 1\": 0.2360612558413766, \"Feature 2\": 0.5188376595487154, \"Outcome\": -0.4663516543456443}, {\"Feature 0\": 0.6122019519242209, \"Feature 1\": -0.6613802707449418, \"Feature 2\": 0.4000936502837181, \"Outcome\": 0.9119075860390213}, {\"Feature 0\": 0.2975357004540797, \"Feature 1\": -0.8897216776956502, \"Feature 2\": -0.04350629469057948, \"Outcome\": 0.4870818497229624}, {\"Feature 0\": 0.7434585706933624, \"Feature 1\": 0.6199246277852136, \"Feature 2\": -0.14312129177092037, \"Outcome\": -0.12656245560374357}, {\"Feature 0\": -0.17326888905275864, \"Feature 1\": 0.722287687601701, \"Feature 2\": -0.8966487770018124, \"Outcome\": -0.7729142051342536}, {\"Feature 0\": -0.4190599109557188, \"Feature 1\": -0.7812940539259141, \"Feature 2\": -0.12006591594943017, \"Outcome\": -0.542653377167099}, {\"Feature 0\": 0.8570920080972416, \"Feature 1\": -0.20144926212721112, \"Feature 2\": 0.5911628615786246, \"Outcome\": 1.8633732809690065}, {\"Feature 0\": -0.11153401376322145, \"Feature 1\": -0.1956181950316512, \"Feature 2\": -1.1692763874268572, \"Outcome\": -0.3662133439145511}, {\"Feature 0\": -0.10604008634680327, \"Feature 1\": -0.6776166408654961, \"Feature 2\": 0.007394632424817943, \"Outcome\": -0.07435867203912405}, {\"Feature 0\": -0.5184870295927938, \"Feature 1\": 0.8937471781319214, \"Feature 2\": -1.2677012825774483, \"Outcome\": -0.22785386191796642}, {\"Feature 0\": -0.8893311243463266, \"Feature 1\": -0.4780761922418328, \"Feature 2\": -0.5625097117167599, \"Outcome\": -1.3329730517842924}, {\"Feature 0\": 1.035470747251928, \"Feature 1\": 0.06196377986358478, \"Feature 2\": 0.561352330340025, \"Outcome\": 1.5134236511407262}, {\"Feature 0\": 0.20132855197067406, \"Feature 1\": 1.7380414008476552, \"Feature 2\": 0.3124321823302911, \"Outcome\": -1.9349559843783335}, {\"Feature 0\": 0.29665269851238524, \"Feature 1\": 1.4104880502062696, \"Feature 2\": 0.9281019307027567, \"Outcome\": -1.2189727634926661}, {\"Feature 0\": -0.21093819898070065, \"Feature 1\": 0.8444618278511459, \"Feature 2\": 0.6469189766538929, \"Outcome\": -1.580250017238244}, {\"Feature 0\": -1.7519216120489194, \"Feature 1\": -0.5722088357777411, \"Feature 2\": -2.0065112325560324, \"Outcome\": -0.9744525248006156}, {\"Feature 0\": -1.259944612098259, \"Feature 1\": 1.1000286076229489, \"Feature 2\": -0.8806368873210485, \"Outcome\": -2.3860380735323505}, {\"Feature 0\": -0.8322315315200403, \"Feature 1\": -0.6287732002344895, \"Feature 2\": -0.5986518588247838, \"Outcome\": -0.5848109388673809}, {\"Feature 0\": 0.36226942050519034, \"Feature 1\": 0.47838512363385904, \"Feature 2\": 0.02992000501261166, \"Outcome\": -0.2204517100883403}, {\"Feature 0\": 0.2783892371781054, \"Feature 1\": -0.915593775514071, \"Feature 2\": -1.2677941190464812, \"Outcome\": 1.0774787018782037}, {\"Feature 0\": 0.6964144132266273, \"Feature 1\": -0.4928600247822481, \"Feature 2\": -0.2621091702775886, \"Outcome\": 1.1474780089961132}, {\"Feature 0\": 1.3687371748756305, \"Feature 1\": -0.11190344202322071, \"Feature 2\": 1.3250441398057906, \"Outcome\": 1.925967175522771}, {\"Feature 0\": -0.6178458095069141, \"Feature 1\": -2.0368741272207966, \"Feature 2\": -0.9185978852873224, \"Outcome\": 1.326017636088913}, {\"Feature 0\": 1.1724745534350867, \"Feature 1\": -0.9055977527664033, \"Feature 2\": 0.8017370137114354, \"Outcome\": 1.0517296686950202}, {\"Feature 0\": -0.06006586547475445, \"Feature 1\": 0.9650471462300731, \"Feature 2\": -0.07741312673548693, \"Outcome\": -2.05812593411909}, {\"Feature 0\": 0.21920727950135577, \"Feature 1\": 0.11893710279516201, \"Feature 2\": -0.10511009092902018, \"Outcome\": 0.3797257799237148}, {\"Feature 0\": 2.2849921722580095, \"Feature 1\": 0.31530807846443, \"Feature 2\": 2.346637487626452, \"Outcome\": 2.143585357847522}, {\"Feature 0\": -0.3917455588937535, \"Feature 1\": 0.343347660283927, \"Feature 2\": -0.18654718903719564, \"Outcome\": 0.11145372848415125}, {\"Feature 0\": 0.9152871297394786, \"Feature 1\": 0.4355377197615805, \"Feature 2\": -0.3766556649538745, \"Outcome\": 0.9674826009837415}, {\"Feature 0\": -1.3931531986226666, \"Feature 1\": 0.12084571386080427, \"Feature 2\": -1.8766372444670445, \"Outcome\": -1.955177431311026}, {\"Feature 0\": -1.1904721462392769, \"Feature 1\": 1.2039020925942594, \"Feature 2\": -1.5212572780225924, \"Outcome\": -1.4348596162372547}, {\"Feature 0\": -0.8194415153202677, \"Feature 1\": 3.4356650392991286, \"Feature 2\": 0.344206064087595, \"Outcome\": -3.4335650846984396}, {\"Feature 0\": -1.1467900691003314, \"Feature 1\": -1.2162150383211858, \"Feature 2\": -1.5608402728893553, \"Outcome\": -0.8388674357653944}, {\"Feature 0\": -0.03586400825609598, \"Feature 1\": -0.018986087179506048, \"Feature 2\": -1.0502840746406419, \"Outcome\": 0.12632875180041803}, {\"Feature 0\": -0.6399850252864911, \"Feature 1\": 1.5226268310477005, \"Feature 2\": -0.26353459967755016, \"Outcome\": -2.400625182441412}, {\"Feature 0\": -0.6366472009891604, \"Feature 1\": -1.0260336997687636, \"Feature 2\": -0.8561147356138208, \"Outcome\": -0.8179427260458945}, {\"Feature 0\": -0.4491361267116928, \"Feature 1\": -0.9308377365415046, \"Feature 2\": 0.05082330772138144, \"Outcome\": 0.3100529068308411}, {\"Feature 0\": -1.7168830308632588, \"Feature 1\": 0.632246443159179, \"Feature 2\": -1.000150771908634, \"Outcome\": -2.435599265361765}, {\"Feature 0\": 0.4788714519936483, \"Feature 1\": -0.5198097721671638, \"Feature 2\": 1.6126983709200526, \"Outcome\": 0.9474489854309768}, {\"Feature 0\": 0.7947158869924169, \"Feature 1\": -0.03749154677585527, \"Feature 2\": 0.5835112259256312, \"Outcome\": 0.37996590522676316}, {\"Feature 0\": 0.3743958777452789, \"Feature 1\": -0.031524685983851136, \"Feature 2\": 0.33933451934437864, \"Outcome\": 0.6559726473052188}, {\"Feature 0\": -0.6692615353676177, \"Feature 1\": 1.1835311184750499, \"Feature 2\": -0.43379730782712655, \"Outcome\": -2.437741415823452}, {\"Feature 0\": -0.7409438884869545, \"Feature 1\": -0.8930322571931361, \"Feature 2\": -0.37949118041400104, \"Outcome\": 0.4472407991034448}, {\"Feature 0\": -1.213486852893534, \"Feature 1\": -0.542518940871576, \"Feature 2\": -2.592320709425291, \"Outcome\": -0.8685177203847222}, {\"Feature 0\": -1.2451881650511818, \"Feature 1\": -0.0005520273762260978, \"Feature 2\": -1.5772403620062543, \"Outcome\": -1.1537852181964339}, {\"Feature 0\": 0.06206791295644395, \"Feature 1\": 0.08067675233682427, \"Feature 2\": 0.41862466162869794, \"Outcome\": 0.040876072917080175}, {\"Feature 0\": -0.31227848786741713, \"Feature 1\": 1.4068668110811358, \"Feature 2\": -1.466585525967236, \"Outcome\": -1.6393999834569404}, {\"Feature 0\": 0.4988187683282086, \"Feature 1\": 0.1330258783272741, \"Feature 2\": 0.3387612702821762, \"Outcome\": 1.501855691118394}, {\"Feature 0\": -1.1841659726419715, \"Feature 1\": -0.5394636135272551, \"Feature 2\": -1.337378688091358, \"Outcome\": -0.0947550579472427}, {\"Feature 0\": 0.2641390061457407, \"Feature 1\": -0.23977397833815908, \"Feature 2\": 0.05000141807606692, \"Outcome\": 0.26146846235337445}, {\"Feature 0\": 1.5863066946602986, \"Feature 1\": 0.6705245938258878, \"Feature 2\": 1.8398589068735387, \"Outcome\": 0.5961994785636195}, {\"Feature 0\": 0.7117415443081694, \"Feature 1\": -0.5191356188644013, \"Feature 2\": 1.213881553166481, \"Outcome\": 1.7574141336262468}, {\"Feature 0\": 1.7666224633836676, \"Feature 1\": -0.5251630811225428, \"Feature 2\": 0.661635512220748, \"Outcome\": 2.621607717727066}, {\"Feature 0\": 0.07767982813673928, \"Feature 1\": 0.21501322733232436, \"Feature 2\": 0.2986960179510956, \"Outcome\": 0.25176419155410706}, {\"Feature 0\": -0.504910448275949, \"Feature 1\": 2.0894516183188414, \"Feature 2\": -0.21165682515534695, \"Outcome\": -1.7906185397218466}, {\"Feature 0\": -0.3651017288444743, \"Feature 1\": -0.45070899365584705, \"Feature 2\": -0.46874332362456755, \"Outcome\": 0.11913559824618788}, {\"Feature 0\": 1.3533449208241406, \"Feature 1\": -0.6599949367220446, \"Feature 2\": 1.8289050504212203, \"Outcome\": 2.1583219018630153}, {\"Feature 0\": -0.0015021027914415776, \"Feature 1\": -0.13537895074761858, \"Feature 2\": 0.05197079933078906, \"Outcome\": 0.18141356018780636}, {\"Feature 0\": 0.6757289457572847, \"Feature 1\": -0.31441661136530225, \"Feature 2\": 1.3971780582103106, \"Outcome\": 1.7631378213446633}, {\"Feature 0\": 0.4828416755375633, \"Feature 1\": -1.0816419834016011, \"Feature 2\": 0.5845625896949325, \"Outcome\": 1.5443902603260624}, {\"Feature 0\": -1.1865346425497858, \"Feature 1\": 0.29491322588804536, \"Feature 2\": -0.7568823888540333, \"Outcome\": -1.5908668566465112}, {\"Feature 0\": -0.795010820869613, \"Feature 1\": -1.6234926325298773, \"Feature 2\": -1.1451493035434075, \"Outcome\": 1.8179194060442994}, {\"Feature 0\": -1.5088030718296699, \"Feature 1\": -1.0747555927334764, \"Feature 2\": -1.6732534174316385, \"Outcome\": -0.5019918108750943}, {\"Feature 0\": -0.4725965638802515, \"Feature 1\": 1.30122252934298, \"Feature 2\": -0.14741327464814102, \"Outcome\": -1.8586991459331752}, {\"Feature 0\": 1.1397207082566618, \"Feature 1\": -0.3394389504997423, \"Feature 2\": 1.3527728664582168, \"Outcome\": 1.6077491275855875}, {\"Feature 0\": 1.0524486365067733, \"Feature 1\": -0.8617616572830181, \"Feature 2\": 1.3474090725700862, \"Outcome\": 1.9863114151970542}, {\"Feature 0\": -0.33005591908556714, \"Feature 1\": -1.6390647865021817, \"Feature 2\": -0.28335721984026463, \"Outcome\": 0.13218975961342072}, {\"Feature 0\": -0.13609896961105153, \"Feature 1\": 0.9074292243769276, \"Feature 2\": 0.25376470308149224, \"Outcome\": -0.8992414171042593}, {\"Feature 0\": -0.38022989787368955, \"Feature 1\": -1.0869221645333904, \"Feature 2\": -0.05979249899288147, \"Outcome\": 0.42517207346873476}, {\"Feature 0\": 1.047630604940583, \"Feature 1\": -2.059539730480753, \"Feature 2\": 0.5699557296456546, \"Outcome\": 3.780706511239096}, {\"Feature 0\": 1.1310399409444223, \"Feature 1\": -1.4436947422206294, \"Feature 2\": 1.5224422175767118, \"Outcome\": 2.930766760861451}, {\"Feature 0\": 0.13069886816170953, \"Feature 1\": -0.7334048156311989, \"Feature 2\": -0.38983710080177403, \"Outcome\": 1.0280435486607822}, {\"Feature 0\": -0.7238852110731521, \"Feature 1\": -1.4594035773229026, \"Feature 2\": 0.1985919931992215, \"Outcome\": 1.429002813056069}, {\"Feature 0\": -0.741667254440546, \"Feature 1\": -1.2310880021660524, \"Feature 2\": -0.9160795885670308, \"Outcome\": 0.04901571910854152}, {\"Feature 0\": 0.025153412397401206, \"Feature 1\": -1.6229034321651266, \"Feature 2\": -0.7101153333675234, \"Outcome\": 1.4035535825067753}, {\"Feature 0\": -0.1763900612705353, \"Feature 1\": -1.1807483108323278, \"Feature 2\": -0.5446893839159908, \"Outcome\": 0.8553792012958885}, {\"Feature 0\": 0.014514826213543533, \"Feature 1\": 0.3627163396225592, \"Feature 2\": 0.4663733424919608, \"Outcome\": -0.29530315568234256}, {\"Feature 0\": 0.7187984300938356, \"Feature 1\": 0.8923258867996974, \"Feature 2\": 0.5186543254906881, \"Outcome\": -0.4484054643705792}, {\"Feature 0\": -0.3834377697054445, \"Feature 1\": 0.614539634007819, \"Feature 2\": -0.44143066126668673, \"Outcome\": -1.684691004860053}, {\"Feature 0\": -0.4691454046529715, \"Feature 1\": -0.062096868773780976, \"Feature 2\": -0.042748777180487196, \"Outcome\": -0.8622395012882198}, {\"Feature 0\": -0.3260807397830773, \"Feature 1\": 1.745146433152644, \"Feature 2\": 0.5559736670949484, \"Outcome\": -2.8045708477063584}, {\"Feature 0\": 1.2412653992101657, \"Feature 1\": 0.9482196533487536, \"Feature 2\": 0.9349241318081389, \"Outcome\": 0.19846326289967453}, {\"Feature 0\": -0.07268097032119422, \"Feature 1\": -2.0777895003685596, \"Feature 2\": -0.15257595526199602, \"Outcome\": 1.734060499267966}, {\"Feature 0\": -0.0041745351999476505, \"Feature 1\": -1.1732996010205126, \"Feature 2\": -0.055050605959645976, \"Outcome\": 1.4129957863153932}, {\"Feature 0\": -0.03495905589172946, \"Feature 1\": -1.0058884708535252, \"Feature 2\": -0.7474309259853499, \"Outcome\": 1.9024471157438634}, {\"Feature 0\": -0.5377189042400337, \"Feature 1\": 1.318412608102633, \"Feature 2\": -0.7470707983670737, \"Outcome\": -1.3038363227679457}, {\"Feature 0\": 0.32884621540652603, \"Feature 1\": 1.8062410469903065, \"Feature 2\": 0.11863871820984087, \"Outcome\": -1.3924051027808888}, {\"Feature 0\": -0.4325730171943272, \"Feature 1\": -0.9729610900482688, \"Feature 2\": -0.3640582096246915, \"Outcome\": 1.2524481347594523}, {\"Feature 0\": 0.21637242863395675, \"Feature 1\": -0.7290936204022825, \"Feature 2\": 0.5719497140644293, \"Outcome\": 0.18906731615411454}, {\"Feature 0\": -0.4748074287985597, \"Feature 1\": -1.1051911971158923, \"Feature 2\": -0.35444406469519857, \"Outcome\": 1.1632395767166208}, {\"Feature 0\": -0.32379837071599454, \"Feature 1\": 0.05992610719837369, \"Feature 2\": -0.9594858487415752, \"Outcome\": -0.19804802705039842}, {\"Feature 0\": -0.1126079447502333, \"Feature 1\": -0.7341100123925466, \"Feature 2\": -0.36340079510628615, \"Outcome\": 0.34740178611507355}, {\"Feature 0\": 0.23609862681686217, \"Feature 1\": -1.0535822531462076, \"Feature 2\": -0.030642908970366645, \"Outcome\": 1.4121567023332444}, {\"Feature 0\": -0.28338533426430995, \"Feature 1\": 0.14975035258237837, \"Feature 2\": 0.03778231142029265, \"Outcome\": -0.12233886506304537}, {\"Feature 0\": -0.07251213722858395, \"Feature 1\": 0.5426780478008294, \"Feature 2\": -0.058407271940215486, \"Outcome\": -0.7243834531763351}, {\"Feature 0\": -0.4304168072964967, \"Feature 1\": 1.009151845999958, \"Feature 2\": -0.5633623622222739, \"Outcome\": -1.7145675765305866}, {\"Feature 0\": -0.17242883946260407, \"Feature 1\": 1.2578923074042914, \"Feature 2\": 0.10068727160817303, \"Outcome\": -1.7677078971448927}, {\"Feature 0\": 0.6494751739155494, \"Feature 1\": 1.4594037832414726, \"Feature 2\": 0.28571960482940617, \"Outcome\": -0.9071724698884772}, {\"Feature 0\": 0.9212462296378908, \"Feature 1\": -0.15886561248821923, \"Feature 2\": 0.7128685954536004, \"Outcome\": 0.48604161115500966}, {\"Feature 0\": -2.1559476118756287, \"Feature 1\": 0.37980842240670465, \"Feature 2\": -2.5153826812771247, \"Outcome\": -2.944909862051177}, {\"Feature 0\": -0.6052636178916897, \"Feature 1\": -0.7809813849976341, \"Feature 2\": -0.9411496875193136, \"Outcome\": 0.1315233508861838}, {\"Feature 0\": 0.8982414424258615, \"Feature 1\": 0.19379925695873956, \"Feature 2\": 0.7744461482606043, \"Outcome\": 1.1573700085329433}, {\"Feature 0\": 1.6418496023459062, \"Feature 1\": 0.9744631918533466, \"Feature 2\": 1.7964215459389326, \"Outcome\": 1.4218145501697064}, {\"Feature 0\": -0.5566921468107608, \"Feature 1\": 2.0942118711602045, \"Feature 2\": -0.26034879017015267, \"Outcome\": -1.9620219663402965}, {\"Feature 0\": -0.10861150117997943, \"Feature 1\": 1.0914459987618046, \"Feature 2\": -0.09564716010919594, \"Outcome\": -1.4386794780781178}, {\"Feature 0\": 0.17196248933393335, \"Feature 1\": 1.2839781086292057, \"Feature 2\": 0.11661096886578554, \"Outcome\": -1.3769407035119632}, {\"Feature 0\": 0.08996796037215507, \"Feature 1\": -0.5791505564470019, \"Feature 2\": 0.2796488120044235, \"Outcome\": 0.38389853519086614}, {\"Feature 0\": -1.6615711444568388, \"Feature 1\": -0.15974022590151588, \"Feature 2\": -1.9150430462270025, \"Outcome\": -1.4468202279212632}, {\"Feature 0\": 1.1041199840873466, \"Feature 1\": 0.9326895571874487, \"Feature 2\": 1.7596921709610043, \"Outcome\": 0.36831754981726783}, {\"Feature 0\": -0.9351772362913336, \"Feature 1\": -0.7017191214236003, \"Feature 2\": -1.0082086292379742, \"Outcome\": 0.6445820709306793}, {\"Feature 0\": -0.17232825319387393, \"Feature 1\": 0.3371277990045122, \"Feature 2\": -0.3536519204470041, \"Outcome\": 0.33608302369500187}, {\"Feature 0\": -0.8169723042851937, \"Feature 1\": 2.2035924275267225, \"Feature 2\": -1.314218099668889, \"Outcome\": -2.7654003266796163}, {\"Feature 0\": 0.306278404374269, \"Feature 1\": -1.6318263391820074, \"Feature 2\": -0.27035643353513394, \"Outcome\": 2.13286316535519}, {\"Feature 0\": -0.041421292509522596, \"Feature 1\": -0.6513020812435949, \"Feature 2\": 0.32808058850608657, \"Outcome\": 0.21517232663876135}, {\"Feature 0\": 0.09153403654400923, \"Feature 1\": -0.4865073455587678, \"Feature 2\": -0.06924696274990218, \"Outcome\": 0.5696451639333151}, {\"Feature 0\": -0.3515932352962072, \"Feature 1\": 0.32985608138197253, \"Feature 2\": -1.2232702617119071, \"Outcome\": 0.12114235514658911}, {\"Feature 0\": 0.3074525729077087, \"Feature 1\": 0.7635379379163735, \"Feature 2\": 0.22779500025085747, \"Outcome\": -0.3948771131260403}, {\"Feature 0\": 0.8263198995848652, \"Feature 1\": -0.7422652542723835, \"Feature 2\": 1.583568160222696, \"Outcome\": 0.9216289005021385}, {\"Feature 0\": -0.7035053838321494, \"Feature 1\": -0.8416806514909835, \"Feature 2\": -0.580544799535469, \"Outcome\": -1.270870634975549}, {\"Feature 0\": -2.3341484255279443, \"Feature 1\": -0.6040670819456953, \"Feature 2\": -1.8255627641264425, \"Outcome\": -1.6042705324866493}, {\"Feature 0\": 0.7503651834061917, \"Feature 1\": -0.7686091222261329, \"Feature 2\": 1.572539486153776, \"Outcome\": 1.2952909695262658}, {\"Feature 0\": 1.5148829113996871, \"Feature 1\": -0.21675513205105063, \"Feature 2\": 1.3617253700811618, \"Outcome\": 2.582777694397927}, {\"Feature 0\": -0.2805981618675449, \"Feature 1\": 1.0008434978058227, \"Feature 2\": -0.6434263165324137, \"Outcome\": -1.3462969990288982}, {\"Feature 0\": 1.986920978315843, \"Feature 1\": -0.2740066463881292, \"Feature 2\": 2.4813443672655366, \"Outcome\": 1.6975698631202132}, {\"Feature 0\": 2.179907059886396, \"Feature 1\": -0.8996664581403759, \"Feature 2\": 2.073834073657215, \"Outcome\": 3.0916878322066483}, {\"Feature 0\": -1.1187257948308749, \"Feature 1\": 0.7578803607090819, \"Feature 2\": -2.199112710067333, \"Outcome\": -0.4249042410127333}, {\"Feature 0\": 0.69995168414176, \"Feature 1\": -1.6098526546452168, \"Feature 2\": 1.6006046645842797, \"Outcome\": 1.8147704160120175}, {\"Feature 0\": 0.547359030195852, \"Feature 1\": -1.1512916578722232, \"Feature 2\": 1.0917513642728698, \"Outcome\": 1.1916990530968978}, {\"Feature 0\": 0.8889914232430742, \"Feature 1\": 1.4403436984850309, \"Feature 2\": 0.7432749881200911, \"Outcome\": -1.4352747901037222}, {\"Feature 0\": 2.0697902365788092, \"Feature 1\": 0.3299206195888043, \"Feature 2\": 1.8140942604265744, \"Outcome\": 2.1698486788288576}, {\"Feature 0\": 1.7568945147889488, \"Feature 1\": -0.3709170013234992, \"Feature 2\": 1.9147765326803379, \"Outcome\": 2.8004314497128444}, {\"Feature 0\": -0.12291358339251465, \"Feature 1\": -0.7565660096627401, \"Feature 2\": 0.3478308933030706, \"Outcome\": 1.7260686765160678}, {\"Feature 0\": -1.078034164243423, \"Feature 1\": 0.9773868969809512, \"Feature 2\": -1.581540955843566, \"Outcome\": -1.3693683537798236}, {\"Feature 0\": -0.17918668806643367, \"Feature 1\": 1.4116433555542018, \"Feature 2\": 0.1821121343059801, \"Outcome\": -2.005004426467936}, {\"Feature 0\": -1.2462138031034284, \"Feature 1\": 0.3456098748475516, \"Feature 2\": -1.4852243691079674, \"Outcome\": -1.4804960613206923}, {\"Feature 0\": -0.8295214818649891, \"Feature 1\": 0.31065824694753047, \"Feature 2\": -0.849396307359163, \"Outcome\": -0.9235012441533349}, {\"Feature 0\": -0.0698456281474216, \"Feature 1\": -0.5108648877462124, \"Feature 2\": 0.27480024764531297, \"Outcome\": 0.0801994535470143}, {\"Feature 0\": 1.7357147488978122, \"Feature 1\": -1.1025355765886184, \"Feature 2\": 1.8505718119207286, \"Outcome\": 3.602719541662887}, {\"Feature 0\": 0.7424418737498629, \"Feature 1\": 1.4751474753330684, \"Feature 2\": 0.3019319907526551, \"Outcome\": -0.5169238882017887}, {\"Feature 0\": 1.1486288741768902, \"Feature 1\": -0.3782883125044188, \"Feature 2\": 0.7312199317699928, \"Outcome\": 2.1426132221547016}, {\"Feature 0\": 0.9978230370264084, \"Feature 1\": 1.438999824786354, \"Feature 2\": 1.477729817227973, \"Outcome\": -0.34437034911237485}, {\"Feature 0\": -1.3246158387819977, \"Feature 1\": 0.9362768628867374, \"Feature 2\": -1.8642055722543613, \"Outcome\": -2.2058807591423606}, {\"Feature 0\": 1.7329455728990366, \"Feature 1\": 0.450520110219534, \"Feature 2\": 2.393547809785289, \"Outcome\": 1.1163152249356387}, {\"Feature 0\": 0.14997423215928746, \"Feature 1\": -0.17103438671037482, \"Feature 2\": 0.2984199457448994, \"Outcome\": 0.4917038773778544}, {\"Feature 0\": -0.05197238255356646, \"Feature 1\": -0.7912097809593397, \"Feature 2\": 0.6107576803264898, \"Outcome\": 0.8062537292253995}, {\"Feature 0\": -0.6845428787064476, \"Feature 1\": 0.055132652188807627, \"Feature 2\": -0.8038433462988054, \"Outcome\": -0.30277765617922986}, {\"Feature 0\": -0.11576884678589802, \"Feature 1\": -2.9329185603769914, \"Feature 2\": 0.003305036253748561, \"Outcome\": 3.212526838107336}, {\"Feature 0\": 0.2839479014696244, \"Feature 1\": 0.44822075653690646, \"Feature 2\": -0.1646271669628262, \"Outcome\": 0.050302881212340195}, {\"Feature 0\": 0.10308273515885094, \"Feature 1\": -0.14069808860705366, \"Feature 2\": 0.1895213505751605, \"Outcome\": 0.02182813304035508}, {\"Feature 0\": 0.2437647580117873, \"Feature 1\": 0.6067804774794294, \"Feature 2\": 0.2071195353578539, \"Outcome\": 0.04393835045115424}, {\"Feature 0\": 0.968735429716908, \"Feature 1\": 1.220396738479489, \"Feature 2\": 0.2265967841791512, \"Outcome\": -0.005623003648305175}, {\"Feature 0\": 0.8250313104077789, \"Feature 1\": 0.09253786589200673, \"Feature 2\": 0.9140016004059526, \"Outcome\": 0.9570955779364669}, {\"Feature 0\": 0.33351436087472097, \"Feature 1\": -0.6302904954815813, \"Feature 2\": 0.3576528797161117, \"Outcome\": -0.1330674712548917}, {\"Feature 0\": -0.0921903773259453, \"Feature 1\": 0.6489037380333991, \"Feature 2\": -0.18448015969629294, \"Outcome\": -0.23767288866230962}, {\"Feature 0\": -0.9491602018637585, \"Feature 1\": -0.07119750850748902, \"Feature 2\": 0.21365048626858563, \"Outcome\": -0.6983627027041893}, {\"Feature 0\": -0.09546967065317435, \"Feature 1\": -0.0884710183188423, \"Feature 2\": -0.5180073624992545, \"Outcome\": 0.17638992524773636}, {\"Feature 0\": -0.39150669538238253, \"Feature 1\": -1.3391823609962423, \"Feature 2\": -0.3189390294070336, \"Outcome\": 0.49695226630680983}, {\"Feature 0\": -0.09724446055908112, \"Feature 1\": -1.2159529799647353, \"Feature 2\": -0.5910926787644399, \"Outcome\": 1.5733362696777164}, {\"Feature 0\": 0.5403260602385179, \"Feature 1\": -1.0163271090311325, \"Feature 2\": 0.14146852068647614, \"Outcome\": 2.2689021848546593}, {\"Feature 0\": -0.14997081213550065, \"Feature 1\": -0.5046194595353434, \"Feature 2\": -0.35227384172657905, \"Outcome\": 0.3406077024917474}, {\"Feature 0\": 0.3054780157923119, \"Feature 1\": 1.451074759295519, \"Feature 2\": 0.39671100785577734, \"Outcome\": -0.3927134559221568}, {\"Feature 0\": 0.9762258062182458, \"Feature 1\": -0.6152756369781577, \"Feature 2\": 0.6279282836139772, \"Outcome\": 2.225229260442555}, {\"Feature 0\": -0.498527277841615, \"Feature 1\": -1.1924272255103654, \"Feature 2\": -0.8156355805884463, \"Outcome\": 0.7810159617141712}, {\"Feature 0\": 1.6506677932561538, \"Feature 1\": 0.15854862291335958, \"Feature 2\": 2.2131533634520517, \"Outcome\": 2.2049370169550686}, {\"Feature 0\": -1.821366979075558, \"Feature 1\": -0.24880649767085583, \"Feature 2\": -2.0453265543773083, \"Outcome\": -1.967456568654225}, {\"Feature 0\": -1.468667865815006, \"Feature 1\": -0.40902390271641603, \"Feature 2\": -0.9655633916512569, \"Outcome\": -1.311952451933006}, {\"Feature 0\": -0.2039951408870988, \"Feature 1\": -0.12069568009634501, \"Feature 2\": 0.08028396248284242, \"Outcome\": -0.4714162532519024}, {\"Feature 0\": 0.21140517061983896, \"Feature 1\": 0.3771688993978939, \"Feature 2\": -0.03766061135935894, \"Outcome\": -0.21196047464764417}, {\"Feature 0\": 0.1166048496255685, \"Feature 1\": 1.7133625391279885, \"Feature 2\": 0.27663247529891655, \"Outcome\": -1.6170221799601885}, {\"Feature 0\": -0.3932680097959974, \"Feature 1\": 1.1595172787659274, \"Feature 2\": -0.21291667444463844, \"Outcome\": -2.6520972077239326}, {\"Feature 0\": 1.562163830001394, \"Feature 1\": 0.22120174539550597, \"Feature 2\": 1.106444723576403, \"Outcome\": 1.3033088041480596}, {\"Feature 0\": -0.7517443782554029, \"Feature 1\": -0.438167037827478, \"Feature 2\": -1.612800649163208, \"Outcome\": -0.6227487197601322}, {\"Feature 0\": 0.7443954544608059, \"Feature 1\": -1.7977533939862607, \"Feature 2\": 0.2575765241693333, \"Outcome\": 2.541678404027937}, {\"Feature 0\": 0.477048950123266, \"Feature 1\": -0.8840899497432042, \"Feature 2\": -0.29317340494796706, \"Outcome\": 1.2646284371585548}, {\"Feature 0\": 0.263966884852333, \"Feature 1\": 0.2692539032571203, \"Feature 2\": 0.9908928234013196, \"Outcome\": 0.570716029677201}, {\"Feature 0\": -0.6393133937627887, \"Feature 1\": 0.06443924434857577, \"Feature 2\": -0.559851331955259, \"Outcome\": -0.6082289916021885}, {\"Feature 0\": -0.04353225873004535, \"Feature 1\": 0.28150701412893514, \"Feature 2\": -0.6281003881616174, \"Outcome\": -0.10550619959148969}, {\"Feature 0\": -3.642371313676303, \"Feature 1\": 1.4387391551679867, \"Feature 2\": -4.140736041967297, \"Outcome\": -5.158290513247269}, {\"Feature 0\": 0.7696980393611578, \"Feature 1\": 0.6250765167523529, \"Feature 2\": 0.9654039361365442, \"Outcome\": -0.04900321750050701}, {\"Feature 0\": 0.6173845792995545, \"Feature 1\": 0.9605401703182802, \"Feature 2\": 0.1519469255174123, \"Outcome\": -0.040777373860533594}, {\"Feature 0\": 1.4650187225842946, \"Feature 1\": 0.2873979837937117, \"Feature 2\": 1.5639757673844148, \"Outcome\": 0.7194719728350473}, {\"Feature 0\": -0.6997540142668698, \"Feature 1\": 0.9480245867951409, \"Feature 2\": -0.16300762281238157, \"Outcome\": -1.754310911740065}, {\"Feature 0\": -1.0476769721362214, \"Feature 1\": 1.224498985118214, \"Feature 2\": -0.2952733106838713, \"Outcome\": -2.202506451317633}, {\"Feature 0\": -1.6893426160504132, \"Feature 1\": 0.316046268588753, \"Feature 2\": -1.8605746389177105, \"Outcome\": -1.7052459369450508}, {\"Feature 0\": -0.40634411383545815, \"Feature 1\": -0.48817621312137444, \"Feature 2\": -0.9267002138640179, \"Outcome\": 0.4178422448151249}, {\"Feature 0\": -1.9125673284113245, \"Feature 1\": 0.4627969684666148, \"Feature 2\": -3.0525914790374262, \"Outcome\": -2.789837179128914}, {\"Feature 0\": 0.2546102993009335, \"Feature 1\": -0.5793868340020617, \"Feature 2\": 1.1138027961499133, \"Outcome\": 0.4503536952671098}, {\"Feature 0\": 0.6523712532352651, \"Feature 1\": -1.719827871973067, \"Feature 2\": 0.9828718060982609, \"Outcome\": 1.376170899463594}, {\"Feature 0\": -0.6836344647318341, \"Feature 1\": -0.08354469002739201, \"Feature 2\": -0.39938657234483016, \"Outcome\": -0.5519788320737546}, {\"Feature 0\": 0.08899673711443608, \"Feature 1\": -0.6725147745340383, \"Feature 2\": 0.09882120809862119, \"Outcome\": 0.3555811826191073}, {\"Feature 0\": -0.5821897842390826, \"Feature 1\": 0.30147615340716266, \"Feature 2\": -1.1156642455154393, \"Outcome\": -1.3241210178972596}, {\"Feature 0\": -0.5934266068714945, \"Feature 1\": 1.2004301841898537, \"Feature 2\": -0.9421600307242781, \"Outcome\": -2.6215291558572686}, {\"Feature 0\": -0.4912591833832156, \"Feature 1\": 1.1390422206092787, \"Feature 2\": -0.054137226324482646, \"Outcome\": -2.106662903188676}, {\"Feature 0\": 0.1458623524171657, \"Feature 1\": 0.26228697583083105, \"Feature 2\": 0.1595860094120613, \"Outcome\": -0.5318518374916331}, {\"Feature 0\": -1.47115113240851, \"Feature 1\": -0.13606576950319493, \"Feature 2\": -1.9976340147639595, \"Outcome\": -0.6940000906100932}, {\"Feature 0\": 1.7009776050564103, \"Feature 1\": 0.046305816223367345, \"Feature 2\": 1.3254431821942523, \"Outcome\": 1.1306518617953412}, {\"Feature 0\": 0.3844470177410385, \"Feature 1\": 0.7177980732756172, \"Feature 2\": -0.0942212068633379, \"Outcome\": -0.274682749084621}, {\"Feature 0\": 0.402276875397383, \"Feature 1\": 0.30707959551067826, \"Feature 2\": -0.13840093764181793, \"Outcome\": -0.28654042642555977}, {\"Feature 0\": -0.52372758869433, \"Feature 1\": -0.16500708577299428, \"Feature 2\": 0.04179243499156704, \"Outcome\": -0.854670472531512}, {\"Feature 0\": 2.1723010257434456, \"Feature 1\": -0.25502233572259486, \"Feature 2\": 2.8162295535706425, \"Outcome\": 1.2919230506470691}, {\"Feature 0\": 0.40300898705857996, \"Feature 1\": -1.1623294291350668, \"Feature 2\": 0.6663034133128755, \"Outcome\": 1.5532646033675686}, {\"Feature 0\": 2.1391497302949536, \"Feature 1\": -1.0449128944700652, \"Feature 2\": 0.9768873319575986, \"Outcome\": 3.955478685469615}, {\"Feature 0\": 1.3046416693964855, \"Feature 1\": 0.2923606060852841, \"Feature 2\": 1.5266195443428647, \"Outcome\": 0.7942023310543239}, {\"Feature 0\": 2.3065258727808247, \"Feature 1\": -0.46020769393782274, \"Feature 2\": 1.8191469156188516, \"Outcome\": 2.2884964243002655}, {\"Feature 0\": 1.4153345846829173, \"Feature 1\": -0.41520031937273094, \"Feature 2\": 1.4823948062483743, \"Outcome\": 0.9203809198603754}, {\"Feature 0\": 0.14652413374303647, \"Feature 1\": -0.4237252517621263, \"Feature 2\": 1.06763769781577, \"Outcome\": 0.31387165082228247}, {\"Feature 0\": 0.6791573302603039, \"Feature 1\": 1.3762348381003284, \"Feature 2\": 0.7321500719595914, \"Outcome\": -0.3723024196731629}, {\"Feature 0\": -0.2660298612544129, \"Feature 1\": -0.10959956839664646, \"Feature 2\": -0.896930754239506, \"Outcome\": 1.1493878771459887}, {\"Feature 0\": -0.678395946047458, \"Feature 1\": -0.3361419388322205, \"Feature 2\": -0.7683943892140285, \"Outcome\": 0.009858449686828974}, {\"Feature 0\": -1.1542969282614528, \"Feature 1\": 0.6596393237687648, \"Feature 2\": -0.22947346561778814, \"Outcome\": -1.5512137765948455}, {\"Feature 0\": 1.0174923648839929, \"Feature 1\": -1.5629812905588591, \"Feature 2\": 1.4287623149535016, \"Outcome\": 4.041283219341728}, {\"Feature 0\": 0.316783902993189, \"Feature 1\": 3.10960414505709, \"Feature 2\": -0.13566150405809363, \"Outcome\": -3.009026544319376}, {\"Feature 0\": 1.807273366698193, \"Feature 1\": -1.0111360834869245, \"Feature 2\": 1.218861316880639, \"Outcome\": 2.2355984065825494}, {\"Feature 0\": -0.23334664907361286, \"Feature 1\": -0.2651815154017864, \"Feature 2\": 0.5773944221621368, \"Outcome\": -0.03837246445968562}, {\"Feature 0\": 0.45179692334685784, \"Feature 1\": -0.5302294210746156, \"Feature 2\": 0.673086399023108, \"Outcome\": 1.0339680682056818}, {\"Feature 0\": 0.9959391013303186, \"Feature 1\": 0.7648066576262831, \"Feature 2\": 0.4297419950290523, \"Outcome\": -0.03301235847054351}, {\"Feature 0\": 0.7477749564497739, \"Feature 1\": 0.10225223724201722, \"Feature 2\": 1.1345526047113443, \"Outcome\": 1.3501961226622954}, {\"Feature 0\": 0.12632523341006424, \"Feature 1\": 1.1205486295280918, \"Feature 2\": -0.1998114494161054, \"Outcome\": -0.3197250179589326}, {\"Feature 0\": -2.6179484256314316, \"Feature 1\": 0.5256531961505115, \"Feature 2\": -2.5258132285245907, \"Outcome\": -3.6959383152414813}, {\"Feature 0\": -0.6541883065964214, \"Feature 1\": 0.8990962914653874, \"Feature 2\": 0.4257456646560638, \"Outcome\": -2.6921866656658135}, {\"Feature 0\": 0.6251622577948288, \"Feature 1\": 0.7615165486203472, \"Feature 2\": 0.15386950820699563, \"Outcome\": -0.09841851030401588}, {\"Feature 0\": 0.19735227442417239, \"Feature 1\": -0.30765564572537446, \"Feature 2\": -0.3249254082097154, \"Outcome\": 1.5127199295893639}, {\"Feature 0\": -0.4679675682315733, \"Feature 1\": 0.22751755685741615, \"Feature 2\": -0.4574737515371103, \"Outcome\": -1.1351940829035159}, {\"Feature 0\": -0.2751617747491228, \"Feature 1\": 0.8502140111713852, \"Feature 2\": -0.5786127502661389, \"Outcome\": -1.2564795110885982}, {\"Feature 0\": -1.3243877924619072, \"Feature 1\": 1.7745434759013547, \"Feature 2\": -1.759672649180457, \"Outcome\": -2.7233945203894216}, {\"Feature 0\": -0.03540369463543017, \"Feature 1\": 0.1711718434093371, \"Feature 2\": 0.12003713715786088, \"Outcome\": 0.18005906173302114}, {\"Feature 0\": -0.07819590923219749, \"Feature 1\": 1.0627525504013866, \"Feature 2\": 0.24717197400751884, \"Outcome\": -1.3132498911901003}, {\"Feature 0\": 0.5438715165682361, \"Feature 1\": 1.562624021246421, \"Feature 2\": 0.11625094319791024, \"Outcome\": -1.2004622504276494}, {\"Feature 0\": -0.5566063173560363, \"Feature 1\": -0.46633549098420923, \"Feature 2\": -0.9597229188784937, \"Outcome\": -0.10757784368029188}, {\"Feature 0\": 1.6244942103815647, \"Feature 1\": 1.6479263299886733, \"Feature 2\": 2.520454098005204, \"Outcome\": 0.0709234962461059}, {\"Feature 0\": -0.41973171811089066, \"Feature 1\": 0.6325308801720532, \"Feature 2\": -0.7369065965769147, \"Outcome\": -0.7992749456252652}, {\"Feature 0\": 0.0007941363789200692, \"Feature 1\": 0.7898659901029648, \"Feature 2\": -0.9914129911453495, \"Outcome\": -0.7964917834025507}, {\"Feature 0\": 0.8641023887652234, \"Feature 1\": -0.30854685591472225, \"Feature 2\": 1.1735930775738077, \"Outcome\": 1.3349138473752933}, {\"Feature 0\": 0.9797067518221082, \"Feature 1\": -1.4660564740689537, \"Feature 2\": 1.2478928949902581, \"Outcome\": 3.0170689860270845}, {\"Feature 0\": -1.6950504625996203, \"Feature 1\": -0.16733991521404318, \"Feature 2\": -1.5060751240008308, \"Outcome\": -2.024992057012043}, {\"Feature 0\": -0.41434283548650497, \"Feature 1\": -0.8145717096905112, \"Feature 2\": -0.0031404018112952126, \"Outcome\": 0.5918324904677142}, {\"Feature 0\": -0.4423926425883941, \"Feature 1\": 0.6575462835853384, \"Feature 2\": 0.35010167678365095, \"Outcome\": -1.1001413884159907}, {\"Feature 0\": 0.16507957929695613, \"Feature 1\": 0.3725673592088814, \"Feature 2\": -0.0915326252454848, \"Outcome\": 0.018692986863029726}, {\"Feature 0\": 2.02523630497997, \"Feature 1\": -0.31326835494507005, \"Feature 2\": 2.006768999160825, \"Outcome\": 2.654002385133705}, {\"Feature 0\": 1.6254529177353303, \"Feature 1\": -0.5058937448338374, \"Feature 2\": 1.0893362769287052, \"Outcome\": 1.5944995249228147}, {\"Feature 0\": 0.4949980711292578, \"Feature 1\": 0.5595728858795759, \"Feature 2\": 0.6451800587910203, \"Outcome\": -0.48373811502970876}, {\"Feature 0\": 0.7338723656803362, \"Feature 1\": 0.5647285104293578, \"Feature 2\": 0.11507150498829088, \"Outcome\": -0.5812552538736038}, {\"Feature 0\": 0.5760909367393549, \"Feature 1\": 0.43886349871084634, \"Feature 2\": 0.24188861102033593, \"Outcome\": -0.5486977449687276}, {\"Feature 0\": 0.0793579585591654, \"Feature 1\": -0.5340838733534705, \"Feature 2\": 0.49270053883976933, \"Outcome\": 0.27813811655744614}, {\"Feature 0\": 0.6963670907195921, \"Feature 1\": -1.0819795865996085, \"Feature 2\": 0.7389863045233809, \"Outcome\": 2.713698042120647}, {\"Feature 0\": -1.1137398094551723, \"Feature 1\": -2.4712689916808896, \"Feature 2\": -0.5730797689476445, \"Outcome\": 0.8101764217406391}, {\"Feature 0\": -1.4783987186397165, \"Feature 1\": -1.0014478111600988, \"Feature 2\": -0.9761162657760767, \"Outcome\": -0.5289100387459884}, {\"Feature 0\": -1.984194123596428, \"Feature 1\": 0.37602281228328616, \"Feature 2\": -1.4117902196730916, \"Outcome\": -2.7532053184724274}, {\"Feature 0\": -0.7939486918147239, \"Feature 1\": 1.1209210918887016, \"Feature 2\": -0.9759454437454208, \"Outcome\": -1.9801005044169615}, {\"Feature 0\": -0.2155992590683653, \"Feature 1\": 0.9233608588907989, \"Feature 2\": 0.7519435921436963, \"Outcome\": -0.9515932940982438}, {\"Feature 0\": 0.7000893725288857, \"Feature 1\": 0.1886483299822025, \"Feature 2\": 0.5344507352987216, \"Outcome\": 0.3587243407672682}, {\"Feature 0\": 0.6390468696479203, \"Feature 1\": -2.037316389879479, \"Feature 2\": 0.5912612376711204, \"Outcome\": 2.1551313755744386}, {\"Feature 0\": 0.09367645138958931, \"Feature 1\": 0.16552969961362501, \"Feature 2\": -0.21983892353938544, \"Outcome\": 0.6345938199291993}, {\"Feature 0\": -0.9983175221692334, \"Feature 1\": 0.07246477370045018, \"Feature 2\": -0.1809935429997811, \"Outcome\": -1.219073324191081}, {\"Feature 0\": -1.1475164461342713, \"Feature 1\": -1.60865882951694, \"Feature 2\": -1.8717882040901523, \"Outcome\": -0.10139496794499203}, {\"Feature 0\": -0.7839759168328168, \"Feature 1\": -1.0555724591597697, \"Feature 2\": -0.199278112183914, \"Outcome\": 0.35727072127464776}, {\"Feature 0\": -0.3289228359574951, \"Feature 1\": -0.037083543889994006, \"Feature 2\": -0.41679850021946563, \"Outcome\": -1.2297626952498784}, {\"Feature 0\": 0.6116127737225981, \"Feature 1\": -0.5006561057426516, \"Feature 2\": 0.3902488999125139, \"Outcome\": 1.6215920455937132}, {\"Feature 0\": 0.8974621123457349, \"Feature 1\": 0.45458230509881453, \"Feature 2\": 0.8744322523113345, \"Outcome\": 0.18964591866526065}, {\"Feature 0\": 1.1837338160240953, \"Feature 1\": 2.6453164043921666, \"Feature 2\": 1.1238352422662785, \"Outcome\": -0.6951157772889103}, {\"Feature 0\": 0.10600969874315827, \"Feature 1\": 0.6780499743645693, \"Feature 2\": -0.03976396527293766, \"Outcome\": -0.7490884266509291}, {\"Feature 0\": 1.28391841742018, \"Feature 1\": 0.6143134670075197, \"Feature 2\": 2.0542486445525694, \"Outcome\": -0.24733051322151367}, {\"Feature 0\": 0.962710715412124, \"Feature 1\": 0.4618241482038017, \"Feature 2\": 0.6263091128286868, \"Outcome\": 0.6373265682746936}, {\"Feature 0\": -0.9483971530172849, \"Feature 1\": 1.1634053250073075, \"Feature 2\": -0.36046787109852074, \"Outcome\": -1.9455973933717403}, {\"Feature 0\": -0.8992544733484792, \"Feature 1\": -0.25055694945235496, \"Feature 2\": -0.8204032624039593, \"Outcome\": -0.18438362950058917}, {\"Feature 0\": 1.7384750021151505, \"Feature 1\": 0.28817543987117566, \"Feature 2\": 2.3575351044667325, \"Outcome\": 2.322265175548354}, {\"Feature 0\": 0.15035223491755836, \"Feature 1\": -0.12030036160636856, \"Feature 2\": 0.5257915080528408, \"Outcome\": -0.1454373726378796}, {\"Feature 0\": 1.1821560998792453, \"Feature 1\": -1.3315506923581775, \"Feature 2\": 0.8078562159856058, \"Outcome\": 3.3319452284274345}, {\"Feature 0\": -0.1742741988441637, \"Feature 1\": 0.0756309725124915, \"Feature 2\": -0.5817981038707299, \"Outcome\": -0.5212829478723573}, {\"Feature 0\": 1.5456417928053499, \"Feature 1\": 1.2071440032502814, \"Feature 2\": 1.602477216388654, \"Outcome\": 0.2579700208873398}, {\"Feature 0\": 0.8883469430805621, \"Feature 1\": -1.061926047275215, \"Feature 2\": 0.8247599047948612, \"Outcome\": 1.5143326990337163}, {\"Feature 0\": -0.8812611808704992, \"Feature 1\": 0.4966802425719055, \"Feature 2\": -0.878165852019579, \"Outcome\": -1.417500072934331}, {\"Feature 0\": 1.08792233872854, \"Feature 1\": -0.7963591927945493, \"Feature 2\": 1.1282005747257193, \"Outcome\": 2.822828562495946}, {\"Feature 0\": -0.015680794339695752, \"Feature 1\": -0.6386382046137262, \"Feature 2\": 0.09220098456397323, \"Outcome\": 0.38949421518869287}, {\"Feature 0\": 0.8407673332224875, \"Feature 1\": 0.7221793020906547, \"Feature 2\": -0.11327947617998313, \"Outcome\": -0.0755752387227357}, {\"Feature 0\": -0.7354456708392619, \"Feature 1\": -1.6207934157532955, \"Feature 2\": -0.6714928678532683, \"Outcome\": 0.7391852216573295}, {\"Feature 0\": 1.3747856333258412, \"Feature 1\": -0.44674133029810836, \"Feature 2\": 2.620856075771189, \"Outcome\": 2.1449713225534577}, {\"Feature 0\": -0.44923124957698074, \"Feature 1\": 1.0193722896083752, \"Feature 2\": -0.23738952894437887, \"Outcome\": -1.4282467556300407}, {\"Feature 0\": 0.26357705014000415, \"Feature 1\": 0.8242513074168478, \"Feature 2\": 0.20573785584854098, \"Outcome\": -0.8068681222848593}, {\"Feature 0\": 0.5402833005617436, \"Feature 1\": -0.8396395789876114, \"Feature 2\": 0.7173311190276117, \"Outcome\": 1.1394530539033791}, {\"Feature 0\": -2.437020630885436, \"Feature 1\": -0.2029799761118679, \"Feature 2\": -3.0479255450682294, \"Outcome\": -2.4041060287374645}, {\"Feature 0\": -0.06072458727550337, \"Feature 1\": -1.3486746718810594, \"Feature 2\": -0.31432484173957853, \"Outcome\": 1.8145772728260603}, {\"Feature 0\": -1.6674594903182547, \"Feature 1\": 0.6370222835688111, \"Feature 2\": -1.6758720387484978, \"Outcome\": -1.742771252430757}, {\"Feature 0\": -1.0165351961672573, \"Feature 1\": -1.9600577317100694, \"Feature 2\": -1.2335517647681276, \"Outcome\": 1.3184206479491543}, {\"Feature 0\": -0.9904669586074198, \"Feature 1\": 0.8247728994212685, \"Feature 2\": -0.44264649429254255, \"Outcome\": -1.9565924358581919}, {\"Feature 0\": 0.1639784752758854, \"Feature 1\": -0.5592116462830522, \"Feature 2\": 0.8472784006638319, \"Outcome\": 0.16021138174550098}, {\"Feature 0\": -0.3754369023734778, \"Feature 1\": -1.1720778138257562, \"Feature 2\": -0.2746449736464457, \"Outcome\": 0.6936104321767407}, {\"Feature 0\": -0.6890574510185776, \"Feature 1\": 0.9575540935367086, \"Feature 2\": -0.7605667724395027, \"Outcome\": -2.365862886191296}, {\"Feature 0\": -0.6057846066468676, \"Feature 1\": -0.9739880758214494, \"Feature 2\": -0.6716198497812658, \"Outcome\": 0.06743926082719787}, {\"Feature 0\": -0.12347398216751147, \"Feature 1\": -0.2196890728999494, \"Feature 2\": -1.3306565695004045, \"Outcome\": 0.061459328118894575}, {\"Feature 0\": -0.7438860061159387, \"Feature 1\": -1.2840497487572777, \"Feature 2\": -1.4667016643699564, \"Outcome\": -0.3293115439144281}, {\"Feature 0\": 0.33699617349428185, \"Feature 1\": 0.8639677106282648, \"Feature 2\": -0.13854678958455935, \"Outcome\": -0.9381305881624349}, {\"Feature 0\": 2.0807206800501614, \"Feature 1\": -0.2014736869503322, \"Feature 2\": 2.620176792112936, \"Outcome\": 2.6234282861596814}, {\"Feature 0\": 2.0926647181351337, \"Feature 1\": -1.1439367546694732, \"Feature 2\": 2.1268661988370168, \"Outcome\": 2.675234808464427}, {\"Feature 0\": -2.9277590217966005, \"Feature 1\": -0.6653733657564814, \"Feature 2\": -2.955257909605804, \"Outcome\": -2.9378868603436374}, {\"Feature 0\": 0.6893933977586366, \"Feature 1\": 1.6053847002756514, \"Feature 2\": 1.3044482937628366, \"Outcome\": -1.2225375096636117}, {\"Feature 0\": -2.175557326902557, \"Feature 1\": 0.19511570252543192, \"Feature 2\": -2.7593859217340526, \"Outcome\": -2.439615253215025}, {\"Feature 0\": 0.5395810946813211, \"Feature 1\": -1.0612608206071974, \"Feature 2\": 1.4662014274609148, \"Outcome\": 1.4913864253453548}, {\"Feature 0\": -0.7860254079941524, \"Feature 1\": 1.2372644572916398, \"Feature 2\": -0.13340423408124613, \"Outcome\": -1.85574583811844}, {\"Feature 0\": -0.32202393226183484, \"Feature 1\": -0.6300621615847117, \"Feature 2\": 0.04920829675741539, \"Outcome\": -0.3173792744760415}, {\"Feature 0\": -1.3546952489382886, \"Feature 1\": 0.16855694684481132, \"Feature 2\": -0.7803383585735012, \"Outcome\": -1.8192499497525119}, {\"Feature 0\": 0.651247642101975, \"Feature 1\": -0.35400098133959934, \"Feature 2\": 1.2330007108625742, \"Outcome\": 1.1295460825770898}, {\"Feature 0\": 2.61790706038604, \"Feature 1\": -0.620879645328464, \"Feature 2\": 2.9661609973545664, \"Outcome\": 2.9544016137393707}, {\"Feature 0\": 2.268296708262148, \"Feature 1\": -1.0361798707430678, \"Feature 2\": 2.623291732606222, \"Outcome\": 3.2829427012369674}, {\"Feature 0\": -0.6923078464078052, \"Feature 1\": -0.3564704383464627, \"Feature 2\": -1.0996830424486013, \"Outcome\": 0.12660876391683468}, {\"Feature 0\": 0.5241931161825933, \"Feature 1\": -0.39759636617738237, \"Feature 2\": 0.6137327520235998, \"Outcome\": 1.4456421806933695}, {\"Feature 0\": -1.3304142114885757, \"Feature 1\": 1.4162288550927407, \"Feature 2\": -1.0762105873601264, \"Outcome\": -2.8694530883500162}, {\"Feature 0\": 0.510047091553337, \"Feature 1\": -0.3245019463480005, \"Feature 2\": 0.7053376165846341, \"Outcome\": 0.947810125338371}, {\"Feature 0\": 0.02139864221985971, \"Feature 1\": -1.5218819454624166, \"Feature 2\": -0.4336184731792669, \"Outcome\": 1.520933378874158}, {\"Feature 0\": 0.16830424785033363, \"Feature 1\": 1.3954124352363066, \"Feature 2\": 0.3656260702152013, \"Outcome\": -0.8821287642982374}, {\"Feature 0\": 0.236236356103011, \"Feature 1\": -1.8150146381121783, \"Feature 2\": 0.26641736122076437, \"Outcome\": 2.195791745608071}, {\"Feature 0\": -1.4894949486939153, \"Feature 1\": -0.301507237924525, \"Feature 2\": -1.3492113530427168, \"Outcome\": -0.9987977631313679}, {\"Feature 0\": 0.4565892351236461, \"Feature 1\": 1.8820456470696147, \"Feature 2\": 0.5446774915860826, \"Outcome\": -1.8319683376736473}, {\"Feature 0\": 0.37560997597406987, \"Feature 1\": -0.44505335624270964, \"Feature 2\": 1.0745272425931998, \"Outcome\": 1.1467767166135918}, {\"Feature 0\": 0.9061969168840949, \"Feature 1\": 0.06748481581140046, \"Feature 2\": 0.5780863292970224, \"Outcome\": 0.9089687812298266}, {\"Feature 0\": 1.8464863527224475, \"Feature 1\": 1.6072503451229783, \"Feature 2\": 1.9341467209355634, \"Outcome\": -0.30993004883071495}, {\"Feature 0\": 0.8044917600697051, \"Feature 1\": -0.48614445008113616, \"Feature 2\": 0.7666901579590271, \"Outcome\": -0.373144799468347}, {\"Feature 0\": 1.0935169582049888, \"Feature 1\": -1.3470418018710884, \"Feature 2\": 1.3247021484113488, \"Outcome\": 2.5660697319741295}, {\"Feature 0\": -0.06193803507316061, \"Feature 1\": 1.4998850449909378, \"Feature 2\": 0.5310594838499573, \"Outcome\": -2.0935822794202466}, {\"Feature 0\": 0.1088952336135197, \"Feature 1\": -0.3442247647341289, \"Feature 2\": -0.25402972504782195, \"Outcome\": 0.8959129246863101}, {\"Feature 0\": 0.45151071199511655, \"Feature 1\": 1.0271551869983269, \"Feature 2\": 0.8593954758816373, \"Outcome\": -0.6264313062383188}, {\"Feature 0\": -1.3633140146453115, \"Feature 1\": 0.249468255682762, \"Feature 2\": -1.5942508523705832, \"Outcome\": -2.1397319326487025}, {\"Feature 0\": 0.14954045016069217, \"Feature 1\": -1.0096630014755734, \"Feature 2\": -0.19229569432060262, \"Outcome\": 1.4664233604167223}, {\"Feature 0\": 0.20021203571751753, \"Feature 1\": 0.8110380163202662, \"Feature 2\": 0.21465890162214696, \"Outcome\": -1.5529800739035438}, {\"Feature 0\": 0.6950671279258753, \"Feature 1\": 2.1791688322688496, \"Feature 2\": 0.26872458531758453, \"Outcome\": -1.6738870511615962}, {\"Feature 0\": 3.4229733490739696, \"Feature 1\": -0.34315773792861026, \"Feature 2\": 2.9185286586752834, \"Outcome\": 3.497193203263934}, {\"Feature 0\": -0.4675538790390652, \"Feature 1\": -0.5630076166333049, \"Feature 2\": -0.035900496581555696, \"Outcome\": 0.49854670716641336}, {\"Feature 0\": -1.5579526312877297, \"Feature 1\": 0.46500391510752265, \"Feature 2\": -1.8351530467843842, \"Outcome\": -1.861717945965116}, {\"Feature 0\": 1.5691804656234076, \"Feature 1\": 0.08159586918208006, \"Feature 2\": 2.1892916168395904, \"Outcome\": 1.6388925165395214}, {\"Feature 0\": -0.07260547367925177, \"Feature 1\": 0.2136342993866638, \"Feature 2\": -0.10893251912263419, \"Outcome\": -0.95888832995543}, {\"Feature 0\": -0.8757048374125297, \"Feature 1\": -0.726346601609022, \"Feature 2\": 0.4100937820178848, \"Outcome\": 0.3408122207695232}, {\"Feature 0\": 0.16772320750632402, \"Feature 1\": -1.0878579033857254, \"Feature 2\": -0.20755908437654835, \"Outcome\": 1.4519328185664757}, {\"Feature 0\": -0.7974208695964083, \"Feature 1\": -1.4283408813861158, \"Feature 2\": -1.3404302993360115, \"Outcome\": -0.12638101916552413}, {\"Feature 0\": 0.31225983166651955, \"Feature 1\": 1.8135054184466135, \"Feature 2\": 0.6444048463935438, \"Outcome\": -1.1252358700338294}, {\"Feature 0\": -0.848343288464529, \"Feature 1\": -0.936593418697441, \"Feature 2\": -0.4501304397618106, \"Outcome\": -0.014854788727030083}, {\"Feature 0\": 0.21081081070558, \"Feature 1\": 0.762368700593098, \"Feature 2\": 0.41094526912632034, \"Outcome\": -0.4939188930712324}, {\"Feature 0\": -1.3717708715747094, \"Feature 1\": 1.8463832886936502, \"Feature 2\": -1.0573791149700882, \"Outcome\": -2.386081037177527}, {\"Feature 0\": 0.17371156587321346, \"Feature 1\": -0.5506941490624887, \"Feature 2\": -0.3715343756808466, \"Outcome\": 0.9096021722862371}, {\"Feature 0\": 3.062822246597075, \"Feature 1\": 1.9554217534865181, \"Feature 2\": 3.2006397976337992, \"Outcome\": 1.2039055998324966}, {\"Feature 0\": 1.1587958514760022, \"Feature 1\": 0.8751881705901573, \"Feature 2\": 1.4316025760348603, \"Outcome\": 0.5475719298897652}, {\"Feature 0\": -0.4223588611981266, \"Feature 1\": -1.595030205390783, \"Feature 2\": -0.21444738791269052, \"Outcome\": 1.7975880926765293}, {\"Feature 0\": 1.0122584960878989, \"Feature 1\": -0.9698286118033117, \"Feature 2\": 1.5394240945598685, \"Outcome\": 1.9050492853421184}, {\"Feature 0\": 0.3199050283977805, \"Feature 1\": -0.2102460190666732, \"Feature 2\": 0.3444556182317763, \"Outcome\": 0.17660885259789888}, {\"Feature 0\": 0.25147303557450457, \"Feature 1\": 1.7546133887896875, \"Feature 2\": 0.1826819759407586, \"Outcome\": -1.6546768469128448}, {\"Feature 0\": -0.23308052776172866, \"Feature 1\": -1.4262820300487864, \"Feature 2\": -0.3470310586547508, \"Outcome\": 1.7132220583486686}, {\"Feature 0\": 1.047051743338802, \"Feature 1\": 0.07107200398604788, \"Feature 2\": 1.377671195692022, \"Outcome\": 0.6063326230772859}, {\"Feature 0\": 1.0424131812691988, \"Feature 1\": -1.1013901835453488, \"Feature 2\": 1.7642587671776941, \"Outcome\": 2.083846505813069}, {\"Feature 0\": 0.4298788124337037, \"Feature 1\": -0.9407899753771387, \"Feature 2\": 0.21776154279616902, \"Outcome\": 1.3784091126983138}, {\"Feature 0\": 0.261187904307178, \"Feature 1\": -0.31289125376043564, \"Feature 2\": 0.2692371394555182, \"Outcome\": 0.18731004499606785}, {\"Feature 0\": 1.175424652748178, \"Feature 1\": 0.33323696101581274, \"Feature 2\": 1.517177776844305, \"Outcome\": 1.1665787439754904}, {\"Feature 0\": -0.8234915360470901, \"Feature 1\": 0.14248865893659757, \"Feature 2\": -1.1215348318642095, \"Outcome\": -1.2172377487002564}, {\"Feature 0\": -0.437359484691257, \"Feature 1\": -1.0360105113849742, \"Feature 2\": -0.7729549735515706, \"Outcome\": 1.541365623473638}, {\"Feature 0\": -0.534477566162293, \"Feature 1\": 1.0893044783055843, \"Feature 2\": -0.5733163503578638, \"Outcome\": -1.2642109114009432}, {\"Feature 0\": -0.003636115397817, \"Feature 1\": 0.16365282769399794, \"Feature 2\": -0.0003091154861089296, \"Outcome\": -0.6847459966772486}, {\"Feature 0\": 1.6045092101148062, \"Feature 1\": -0.5667297382478258, \"Feature 2\": 1.2681084019270594, \"Outcome\": 0.9949880209830855}, {\"Feature 0\": -0.2595210279967796, \"Feature 1\": 0.6098110566649312, \"Feature 2\": 0.7403406366001763, \"Outcome\": -0.9082783937349149}, {\"Feature 0\": -1.815136871328403, \"Feature 1\": -2.0311990641366964, \"Feature 2\": -1.7931422772056218, \"Outcome\": 1.3526280042190926}, {\"Feature 0\": 0.6969686469408929, \"Feature 1\": 2.7055929983583242, \"Feature 2\": 0.14337609892191638, \"Outcome\": -2.18844366170322}, {\"Feature 0\": 0.7625800163734706, \"Feature 1\": -0.027839507515876744, \"Feature 2\": -0.08582001219401236, \"Outcome\": 0.7111344671852815}, {\"Feature 0\": 1.1193574427307003, \"Feature 1\": -1.1362269360856165, \"Feature 2\": 1.2175531331913585, \"Outcome\": 2.0557799466331685}, {\"Feature 0\": -0.24010055955352264, \"Feature 1\": -0.6539803600815776, \"Feature 2\": -0.5259577918292536, \"Outcome\": 0.30139902963250387}, {\"Feature 0\": 0.26401152967389085, \"Feature 1\": 0.037426443588213114, \"Feature 2\": -0.20956171013162284, \"Outcome\": 0.12511142494751099}, {\"Feature 0\": 1.1622414527117755, \"Feature 1\": -1.3169127103592273, \"Feature 2\": 1.4441368094723364, \"Outcome\": 2.310126286847689}, {\"Feature 0\": -1.2005284723189602, \"Feature 1\": 1.1545532678306036, \"Feature 2\": -0.840372771374361, \"Outcome\": -2.0416527652158782}, {\"Feature 0\": 0.13418836853712016, \"Feature 1\": 0.26856957789617136, \"Feature 2\": 0.011940064612550177, \"Outcome\": -0.6217728798903046}, {\"Feature 0\": -0.9856706574271412, \"Feature 1\": -0.7466378300474218, \"Feature 2\": -0.4761247235824665, \"Outcome\": 0.2712294662472957}, {\"Feature 0\": 1.0646289011114485, \"Feature 1\": -0.9436318845611381, \"Feature 2\": 1.1824895003653164, \"Outcome\": 1.9427368262922704}, {\"Feature 0\": -1.3219446232890286, \"Feature 1\": -1.1745963073751886, \"Feature 2\": -0.7463147807053447, \"Outcome\": 0.15524278886950205}, {\"Feature 0\": -0.43525231923628266, \"Feature 1\": -0.33885298310076695, \"Feature 2\": -0.4568095312984918, \"Outcome\": 0.03417567052937981}, {\"Feature 0\": -0.3963371297508735, \"Feature 1\": 1.5123655737373427, \"Feature 2\": -0.39479533070407463, \"Outcome\": -3.0401886352936804}, {\"Feature 0\": 0.8231998838692411, \"Feature 1\": 0.06769672749207864, \"Feature 2\": 0.20205010776413068, \"Outcome\": 0.6324752746965824}, {\"Feature 0\": -1.798877007264204, \"Feature 1\": 0.10133483152473304, \"Feature 2\": -2.039849007311718, \"Outcome\": -1.9793949677938634}, {\"Feature 0\": -0.08785474046568058, \"Feature 1\": -0.4910458429347898, \"Feature 2\": -0.34905703172329544, \"Outcome\": 1.1404777783768747}, {\"Feature 0\": 1.211139425984525, \"Feature 1\": -0.2564466907309269, \"Feature 2\": 1.2413367167042058, \"Outcome\": 2.119642327009239}, {\"Feature 0\": -1.0714776279716642, \"Feature 1\": -0.21409245907153845, \"Feature 2\": -0.5187235753535012, \"Outcome\": -0.8581396034679017}, {\"Feature 0\": -0.3469159987815729, \"Feature 1\": -1.0293693366841865, \"Feature 2\": -0.04070458987818759, \"Outcome\": -0.007084936985636281}, {\"Feature 0\": 1.3313930229011544, \"Feature 1\": -1.1204879593179529, \"Feature 2\": 0.5617099914093764, \"Outcome\": 1.8778303948138637}, {\"Feature 0\": 0.611886243851437, \"Feature 1\": -0.5518199751152537, \"Feature 2\": 0.6767817340992374, \"Outcome\": 2.0206128953755274}, {\"Feature 0\": -0.6939556287947156, \"Feature 1\": 0.5723363838279637, \"Feature 2\": -0.7799141026737912, \"Outcome\": -1.3268811395878053}, {\"Feature 0\": -0.6908053452330873, \"Feature 1\": -0.16569063089084965, \"Feature 2\": -0.6229903282381083, \"Outcome\": -0.7817084916189903}, {\"Feature 0\": -0.9194467487933228, \"Feature 1\": -0.5514486769699654, \"Feature 2\": -1.1513420934069216, \"Outcome\": -1.4093542891575424}, {\"Feature 0\": -1.081071155396895, \"Feature 1\": 1.3530282285528474, \"Feature 2\": -0.3026113206638821, \"Outcome\": -2.695015773116811}, {\"Feature 0\": -0.8139328425362681, \"Feature 1\": -0.41625505228971404, \"Feature 2\": -0.8063106337677136, \"Outcome\": -0.16197326911877952}, {\"Feature 0\": 0.320903831109182, \"Feature 1\": -0.061248014276224005, \"Feature 2\": 0.44793946371079235, \"Outcome\": 0.11862091309782147}, {\"Feature 0\": 2.2175295407048408, \"Feature 1\": 1.2504933553196207, \"Feature 2\": 2.116000598853992, \"Outcome\": 2.1037019208878496}, {\"Feature 0\": 1.2552479781948278, \"Feature 1\": -0.27772923779103104, \"Feature 2\": 1.7517954215817495, \"Outcome\": 1.3010712402241198}, {\"Feature 0\": -1.7650757989313357, \"Feature 1\": -1.5555710865815666, \"Feature 2\": -1.1836762869456896, \"Outcome\": -0.266474791628572}, {\"Feature 0\": -0.19881465396118578, \"Feature 1\": -0.6561677529526558, \"Feature 2\": -1.0275104240943242, \"Outcome\": 0.19066829499126076}, {\"Feature 0\": 0.30604549700588957, \"Feature 1\": -1.5157552527376161, \"Feature 2\": 0.1851990230661092, \"Outcome\": 1.9154817651436382}, {\"Feature 0\": 0.6624599406595685, \"Feature 1\": 0.3767589785553802, \"Feature 2\": 0.4967727809671143, \"Outcome\": 0.4416302796463296}, {\"Feature 0\": -0.09942729876524442, \"Feature 1\": -0.5184872367939835, \"Feature 2\": -0.11027167869620039, \"Outcome\": -0.05422044181591318}, {\"Feature 0\": 1.0870853172216346, \"Feature 1\": 0.03544166293671563, \"Feature 2\": 1.7539580390147518, \"Outcome\": 0.9177981458278829}, {\"Feature 0\": -0.4804159708294485, \"Feature 1\": 1.3228405560108327, \"Feature 2\": -0.06512550274608564, \"Outcome\": -1.8761620909069923}, {\"Feature 0\": -0.4519054093391175, \"Feature 1\": 0.6673828938637811, \"Feature 2\": -1.263862574744922, \"Outcome\": -2.3236292617250345}, {\"Feature 0\": -0.010195270308318518, \"Feature 1\": -0.6183976709375374, \"Feature 2\": 0.14179020652999477, \"Outcome\": 0.42098610870323605}, {\"Feature 0\": 0.2238822083744662, \"Feature 1\": -0.5938070805393234, \"Feature 2\": 0.5427351018740811, \"Outcome\": 0.5575860959731803}, {\"Feature 0\": 0.653359642527562, \"Feature 1\": 0.28903012181654364, \"Feature 2\": 0.9553064083917896, \"Outcome\": -0.23997799566061706}, {\"Feature 0\": -0.4329951984709539, \"Feature 1\": 1.090325740031833, \"Feature 2\": -1.2781868404804886, \"Outcome\": -1.1702381150687569}, {\"Feature 0\": 1.4864515031531715, \"Feature 1\": 0.3245998315546895, \"Feature 2\": 2.0432964642199796, \"Outcome\": 1.553555010373131}, {\"Feature 0\": 1.306115089112001, \"Feature 1\": -0.33061603132951195, \"Feature 2\": 1.2825270938180509, \"Outcome\": 1.521928307005646}, {\"Feature 0\": -1.8089886378464464, \"Feature 1\": -0.3684475778331975, \"Feature 2\": -0.7887961149849703, \"Outcome\": -0.5506363749352966}, {\"Feature 0\": 1.3132045536666945, \"Feature 1\": 0.07074386321461991, \"Feature 2\": 1.7863862402444572, \"Outcome\": 0.7804951636229577}, {\"Feature 0\": 0.7632004960172937, \"Feature 1\": -0.35851605544065923, \"Feature 2\": 0.5562080193748329, \"Outcome\": 1.1557752406525252}, {\"Feature 0\": 1.252030614423438, \"Feature 1\": -0.6922120622628494, \"Feature 2\": 2.4927770014068598, \"Outcome\": 1.8697442596347946}, {\"Feature 0\": -1.1011330964690969, \"Feature 1\": 0.7890162764916131, \"Feature 2\": -1.1274963986693887, \"Outcome\": -2.5019144299518956}, {\"Feature 0\": -0.6030143977868228, \"Feature 1\": 0.7536711202463375, \"Feature 2\": -0.7882393815134414, \"Outcome\": -1.5432011627887379}, {\"Feature 0\": -1.7400372237980923, \"Feature 1\": 0.5439456084838656, \"Feature 2\": -1.391991570319787, \"Outcome\": -2.0358875591694434}, {\"Feature 0\": 1.731771140339683, \"Feature 1\": 2.1953259213403604, \"Feature 2\": 1.4522840879090966, \"Outcome\": 0.010009472907452244}, {\"Feature 0\": 0.7983624430913713, \"Feature 1\": 0.35568191670516053, \"Feature 2\": 0.1851415360879981, \"Outcome\": 0.3146350149662408}, {\"Feature 0\": 0.28657175136809176, \"Feature 1\": 1.0185914896787904, \"Feature 2\": -0.2784645110597259, \"Outcome\": -0.8037391406179601}, {\"Feature 0\": -1.0148216409275281, \"Feature 1\": -0.3922279781003077, \"Feature 2\": -2.334346960615676, \"Outcome\": -0.9311345844002477}, {\"Feature 0\": -0.40442968389413797, \"Feature 1\": -0.9236312513554582, \"Feature 2\": 0.5097985829904108, \"Outcome\": 0.7846492719086162}, {\"Feature 0\": -0.8636947567733336, \"Feature 1\": 0.43036943447494413, \"Feature 2\": -0.431230480140792, \"Outcome\": -1.7533755456396622}, {\"Feature 0\": -1.6552886097869544, \"Feature 1\": -0.47070907323371924, \"Feature 2\": -2.18277690209848, \"Outcome\": -1.6939919510988415}, {\"Feature 0\": 0.24338577767836295, \"Feature 1\": 0.5008834174537418, \"Feature 2\": 0.1610331244066348, \"Outcome\": -1.7310511249351825}, {\"Feature 0\": 1.2947588530168908, \"Feature 1\": -1.0028998093159072, \"Feature 2\": 1.0429348436887071, \"Outcome\": 2.1765008745785694}, {\"Feature 0\": -1.9141989934841128, \"Feature 1\": 0.9083243481273221, \"Feature 2\": -1.8477244925301772, \"Outcome\": -2.728276732823573}, {\"Feature 0\": -0.5622618872613956, \"Feature 1\": 0.46160796841984836, \"Feature 2\": -0.7158634303981203, \"Outcome\": -1.0009515487217477}, {\"Feature 0\": -0.49177361722243673, \"Feature 1\": -1.3067470884344115, \"Feature 2\": -1.4763370584825424, \"Outcome\": 0.6961613769952639}, {\"Feature 0\": 0.6984580454422978, \"Feature 1\": -2.9158093647228926, \"Feature 2\": 0.919897876499299, \"Outcome\": 3.9785664127979707}, {\"Feature 0\": -0.5817299677038875, \"Feature 1\": -0.38849271670080565, \"Feature 2\": -0.3499913973330949, \"Outcome\": -1.0654928180649388}, {\"Feature 0\": 3.406309780232908, \"Feature 1\": 0.5018514082658203, \"Feature 2\": 2.2903524325467393, \"Outcome\": 3.3471146326938666}, {\"Feature 0\": 1.5737555631634221, \"Feature 1\": -1.371148379652988, \"Feature 2\": 1.8826791727078165, \"Outcome\": 3.6626853497962903}, {\"Feature 0\": -1.1528950458669784, \"Feature 1\": 1.207111735540326, \"Feature 2\": -0.7354333521540052, \"Outcome\": -2.194144468428611}, {\"Feature 0\": -1.23849838451367, \"Feature 1\": 0.7473954453786286, \"Feature 2\": -1.868196023069042, \"Outcome\": -2.1848005527215695}, {\"Feature 0\": -0.726358599522942, \"Feature 1\": 0.9851007624021803, \"Feature 2\": -0.20582648152122907, \"Outcome\": -1.8459711636065845}, {\"Feature 0\": 0.5836105290252381, \"Feature 1\": -0.006833486050356596, \"Feature 2\": 0.4323935768798749, \"Outcome\": 0.584032913212652}, {\"Feature 0\": 0.7995801875118695, \"Feature 1\": 0.8574315399572981, \"Feature 2\": 1.8361403617103853, \"Outcome\": 0.6357861711444027}, {\"Feature 0\": -0.4715069865493389, \"Feature 1\": -0.03222088815827486, \"Feature 2\": -1.1305097108808577, \"Outcome\": -1.5902232938839689}, {\"Feature 0\": 0.20624062038967847, \"Feature 1\": 0.7296296632789167, \"Feature 2\": 0.45679217606260913, \"Outcome\": -0.6585212571978927}, {\"Feature 0\": 0.587873925053691, \"Feature 1\": -0.9252161945343931, \"Feature 2\": 0.3730352431999747, \"Outcome\": 1.1197853648134046}, {\"Feature 0\": -1.5415883205720575, \"Feature 1\": 0.5020511666230656, \"Feature 2\": -1.6592005207732858, \"Outcome\": -1.1324017667475172}, {\"Feature 0\": 0.3076540488977253, \"Feature 1\": -0.5068879197715684, \"Feature 2\": -0.4470928177467942, \"Outcome\": 1.3663407779754178}, {\"Feature 0\": 0.287334876491391, \"Feature 1\": -0.7917653663086986, \"Feature 2\": 0.5232613369070396, \"Outcome\": 1.3395394306905872}, {\"Feature 0\": 0.5410375391316491, \"Feature 1\": -0.4454488044141215, \"Feature 2\": 0.8633988397088577, \"Outcome\": 0.5629215146103591}, {\"Feature 0\": 2.2250596842585755, \"Feature 1\": 0.33522268123035354, \"Feature 2\": 2.361961016083645, \"Outcome\": 2.2551815141213374}, {\"Feature 0\": 0.4567629533783884, \"Feature 1\": -0.37961578960415604, \"Feature 2\": 0.06517027827233374, \"Outcome\": 1.0811080678211864}, {\"Feature 0\": 0.5449124402281226, \"Feature 1\": 0.8044525069204257, \"Feature 2\": 0.03425967194990698, \"Outcome\": -0.701475787857843}, {\"Feature 0\": -1.9463661978891884, \"Feature 1\": -0.9583138736231122, \"Feature 2\": -1.7808767926527298, \"Outcome\": -1.2552733842568053}, {\"Feature 0\": -2.1557222976254096, \"Feature 1\": 0.559735062249668, \"Feature 2\": -2.7381608070475734, \"Outcome\": -2.2963388717455633}, {\"Feature 0\": -0.22013069776084535, \"Feature 1\": 0.9285512324737738, \"Feature 2\": -0.6835500439372666, \"Outcome\": -0.07967257072799394}, {\"Feature 0\": -0.048313820467965334, \"Feature 1\": 0.4170715750618454, \"Feature 2\": -0.04410695218166203, \"Outcome\": -0.5038663501637858}, {\"Feature 0\": -1.046204805239663, \"Feature 1\": -1.1331496078809589, \"Feature 2\": -1.2099840343520536, \"Outcome\": 0.7147349359301294}, {\"Feature 0\": -1.1861243265200012, \"Feature 1\": 0.5222602232817057, \"Feature 2\": -2.288304586804342, \"Outcome\": -1.0222154184299588}, {\"Feature 0\": 0.441466674601946, \"Feature 1\": 0.07947068579852516, \"Feature 2\": 0.7125724357390844, \"Outcome\": -0.054010797922697695}, {\"Feature 0\": -1.5222312239719504, \"Feature 1\": 1.8949042356252686, \"Feature 2\": -1.0529487051651985, \"Outcome\": -3.081607777936561}, {\"Feature 0\": 0.13702117462857713, \"Feature 1\": 1.3491907018420015, \"Feature 2\": 0.6315476635656359, \"Outcome\": -1.5021097068231142}, {\"Feature 0\": 0.7023916259041527, \"Feature 1\": 0.17583769380218678, \"Feature 2\": 0.5689835338346781, \"Outcome\": 1.0573254975807136}, {\"Feature 0\": -0.35763723073684167, \"Feature 1\": -0.0168995204976114, \"Feature 2\": -1.5288503881660669, \"Outcome\": 0.18996538060569912}, {\"Feature 0\": 0.5058965395927488, \"Feature 1\": 0.5683201332912602, \"Feature 2\": 1.2028254087388752, \"Outcome\": 0.3244193760587911}, {\"Feature 0\": 0.2180179065013092, \"Feature 1\": -0.06571343699889617, \"Feature 2\": 0.5459725164029487, \"Outcome\": -0.03043698075011808}, {\"Feature 0\": 1.079178151599866, \"Feature 1\": -0.19485805677209247, \"Feature 2\": 1.6437062756997336, \"Outcome\": 1.1988358573610522}, {\"Feature 0\": -0.21692195035932932, \"Feature 1\": 1.5615251370187042, \"Feature 2\": 0.023398183146804002, \"Outcome\": -1.628324967069952}, {\"Feature 0\": -0.7219342611149097, \"Feature 1\": 0.18589484082506605, \"Feature 2\": -0.9856386432231827, \"Outcome\": -0.8744724945823902}, {\"Feature 0\": -0.9135342461346077, \"Feature 1\": 0.2377132108444216, \"Feature 2\": -1.2123694686412656, \"Outcome\": -1.3186374963289726}, {\"Feature 0\": -1.3711354367184072, \"Feature 1\": 0.598465231538059, \"Feature 2\": -1.8131424611679767, \"Outcome\": -2.3700400753333284}, {\"Feature 0\": 0.9585010177262163, \"Feature 1\": 0.2209454963108598, \"Feature 2\": 0.8832469941037174, \"Outcome\": 1.220121866053215}, {\"Feature 0\": -1.8581787957797447, \"Feature 1\": -1.098611156056228, \"Feature 2\": -1.6366085857947454, \"Outcome\": -0.7912124345720107}, {\"Feature 0\": 0.3356565916024198, \"Feature 1\": -0.7796890783211257, \"Feature 2\": -0.10478831419001006, \"Outcome\": 0.5573065075646008}, {\"Feature 0\": 0.31427121575101175, \"Feature 1\": -0.2525931657337699, \"Feature 2\": 0.5583133613088356, \"Outcome\": 1.2966178217616573}, {\"Feature 0\": -0.3013107675256219, \"Feature 1\": 0.8473887727724732, \"Feature 2\": -0.21299055489947438, \"Outcome\": -0.9692253317987074}, {\"Feature 0\": -0.8283720918861176, \"Feature 1\": 0.43612140165708274, \"Feature 2\": -0.9116522401613417, \"Outcome\": -1.0577001306221476}, {\"Feature 0\": 1.5956478616705128, \"Feature 1\": 0.12309465731969972, \"Feature 2\": 0.5312909068307905, \"Outcome\": 1.4851800536339963}, {\"Feature 0\": -0.41360796793446697, \"Feature 1\": 0.23697215740959357, \"Feature 2\": -1.013864076528311, \"Outcome\": -0.7532095019098846}, {\"Feature 0\": -0.5877734560924098, \"Feature 1\": -0.645463241466558, \"Feature 2\": -0.7883378645644741, \"Outcome\": -1.1103897539613388}, {\"Feature 0\": -0.4254061693679324, \"Feature 1\": -1.8350784315741024, \"Feature 2\": -0.3083374942171729, \"Outcome\": 1.3680613908126662}, {\"Feature 0\": -0.36829006254281155, \"Feature 1\": -0.7871839276261687, \"Feature 2\": -0.8242111241551964, \"Outcome\": 0.2809228322021493}, {\"Feature 0\": -1.0373712239150572, \"Feature 1\": 0.19401751874805334, \"Feature 2\": -1.2880607443335441, \"Outcome\": -1.6153319006705016}, {\"Feature 0\": 1.0005703760129525, \"Feature 1\": 1.500103722871865, \"Feature 2\": 0.9906072523741756, \"Outcome\": -0.4805795679375523}, {\"Feature 0\": 0.44504195446463946, \"Feature 1\": 0.0012068077076963718, \"Feature 2\": 1.0560957235899975, \"Outcome\": 1.2560673271756206}, {\"Feature 0\": 0.49363440458289665, \"Feature 1\": 1.168915264785248, \"Feature 2\": 0.502692712006683, \"Outcome\": -0.7472701357540245}, {\"Feature 0\": 0.2977256162953005, \"Feature 1\": -0.9084906089196911, \"Feature 2\": 0.06659826878716077, \"Outcome\": 1.4457612998034597}, {\"Feature 0\": 0.5578754065996738, \"Feature 1\": -0.26098531187252955, \"Feature 2\": 1.2188380879573137, \"Outcome\": -0.021843497447212812}, {\"Feature 0\": -1.0926591309656712, \"Feature 1\": 0.691563508244664, \"Feature 2\": -0.723580332362061, \"Outcome\": -1.9524232853792565}, {\"Feature 0\": -0.47882595129986183, \"Feature 1\": -0.08796915261782838, \"Feature 2\": -0.3299789905221808, \"Outcome\": -0.2498745364328026}, {\"Feature 0\": -1.5405457673242122, \"Feature 1\": 0.9784315781033681, \"Feature 2\": -1.7983074971938304, \"Outcome\": -2.2266907160735876}, {\"Feature 0\": -0.30684127278769613, \"Feature 1\": -0.6861211604224562, \"Feature 2\": -1.0242445480428266, \"Outcome\": 0.15259841739279703}, {\"Feature 0\": 1.6542769661233399, \"Feature 1\": -0.06529753910142161, \"Feature 2\": 1.240587341279055, \"Outcome\": 2.527337407341091}, {\"Feature 0\": 0.046182236309014635, \"Feature 1\": 0.2386342931207067, \"Feature 2\": 0.2931002817678182, \"Outcome\": -0.35115670286866607}, {\"Feature 0\": 0.8391080763181064, \"Feature 1\": -0.6280128455894929, \"Feature 2\": 1.251782932193115, \"Outcome\": 1.2145209401324704}, {\"Feature 0\": 0.8183052974921325, \"Feature 1\": -0.9133499214111025, \"Feature 2\": 1.3615494119479559, \"Outcome\": 2.78891277729254}, {\"Feature 0\": -0.058957819231155395, \"Feature 1\": -1.2917092497217868, \"Feature 2\": -0.7811294285215699, \"Outcome\": 0.5997962102579593}, {\"Feature 0\": -0.46397817765729193, \"Feature 1\": 1.6935605928219217, \"Feature 2\": -0.7250043418989258, \"Outcome\": -2.3116342668748917}, {\"Feature 0\": -0.7066491428846913, \"Feature 1\": 0.29336989430143395, \"Feature 2\": -0.4846243987182769, \"Outcome\": -1.0027225441573056}, {\"Feature 0\": 0.9183783444537659, \"Feature 1\": -1.1322240411068827, \"Feature 2\": 1.5929293976930552, \"Outcome\": 2.1089651413737456}, {\"Feature 0\": -0.11482418486310257, \"Feature 1\": 0.4616314827204649, \"Feature 2\": 0.5837175694583004, \"Outcome\": -0.6325073053120036}, {\"Feature 0\": -0.0555837473771109, \"Feature 1\": -0.8333303296063949, \"Feature 2\": -0.0709695439327467, \"Outcome\": -0.41832039048910885}, {\"Feature 0\": 0.6928842832596546, \"Feature 1\": 0.41518419775125665, \"Feature 2\": 0.9622834188718792, \"Outcome\": 0.165809520117988}, {\"Feature 0\": -2.4469336125219923, \"Feature 1\": -0.07969070651935539, \"Feature 2\": -2.146713335559824, \"Outcome\": -2.524451474464576}, {\"Feature 0\": -0.4604383306333407, \"Feature 1\": 1.6854652290358803, \"Feature 2\": -0.6923661285688855, \"Outcome\": -1.7047196015564596}, {\"Feature 0\": -1.2496017112265807, \"Feature 1\": 0.1915977503113461, \"Feature 2\": -1.5847397986356115, \"Outcome\": -2.0113737050346714}, {\"Feature 0\": -0.33450793396334777, \"Feature 1\": 0.30027047419545894, \"Feature 2\": 0.09133275042973465, \"Outcome\": -0.5797452345879712}, {\"Feature 0\": -0.9235021771758747, \"Feature 1\": -1.2969528628381723, \"Feature 2\": -1.4839025622878368, \"Outcome\": 0.6116895486879717}, {\"Feature 0\": 0.5780366589760181, \"Feature 1\": -1.4793998384186455, \"Feature 2\": 0.6159954708132441, \"Outcome\": 1.8934883280496304}, {\"Feature 0\": 0.29644462621910356, \"Feature 1\": 0.17831477585902245, \"Feature 2\": -0.06618433639683718, \"Outcome\": -0.19763494822105}, {\"Feature 0\": 1.4149978822906863, \"Feature 1\": -1.5032101428108224, \"Feature 2\": 1.0711963058037108, \"Outcome\": 3.5504465977111375}, {\"Feature 0\": -1.8369657142785538, \"Feature 1\": 1.2613586997040405, \"Feature 2\": -3.167452250508389, \"Outcome\": -4.057301412340803}, {\"Feature 0\": -1.0272691436700274, \"Feature 1\": 0.36035724173400313, \"Feature 2\": -0.7422621695475697, \"Outcome\": -0.6193528914453805}, {\"Feature 0\": -0.5085390555544061, \"Feature 1\": -0.9131848264679816, \"Feature 2\": -0.991692249746243, \"Outcome\": 0.4279371446711434}, {\"Feature 0\": 0.573516996616167, \"Feature 1\": -1.0878496224757843, \"Feature 2\": 1.045676053949019, \"Outcome\": 1.5061838236904717}, {\"Feature 0\": -0.7769540842720853, \"Feature 1\": -1.3872631225735252, \"Feature 2\": -0.8962164607892871, \"Outcome\": 0.9063825814884728}, {\"Feature 0\": 0.48405038377243303, \"Feature 1\": -1.491821910676598, \"Feature 2\": 0.33765044841838543, \"Outcome\": 1.9640782456734314}, {\"Feature 0\": -1.765072645573017, \"Feature 1\": -0.5809470205603878, \"Feature 2\": -1.5083155110212116, \"Outcome\": -1.2129991259430353}, {\"Feature 0\": -0.8591210206901533, \"Feature 1\": 0.9847554462998672, \"Feature 2\": -0.32149548923426596, \"Outcome\": -1.5196248053501114}, {\"Feature 0\": -0.5975840201629369, \"Feature 1\": 1.1608307468306436, \"Feature 2\": -1.221804834522287, \"Outcome\": -1.1673443403894868}, {\"Feature 0\": -0.3843895271495918, \"Feature 1\": 0.32056492471550224, \"Feature 2\": -0.36060485113359475, \"Outcome\": -0.6300423041256353}, {\"Feature 0\": -1.185290936289606, \"Feature 1\": 0.7514736816029366, \"Feature 2\": -1.8509461553693556, \"Outcome\": -2.4617214461547157}, {\"Feature 0\": -1.3716166284317068, \"Feature 1\": -1.220131286048494, \"Feature 2\": -1.5730680996192707, \"Outcome\": 0.2647826299470046}, {\"Feature 0\": -0.2887343041936696, \"Feature 1\": 0.18450667371636498, \"Feature 2\": -0.5162102619268674, \"Outcome\": -0.528593518680031}, {\"Feature 0\": 0.10248613081185164, \"Feature 1\": 0.6752772882278405, \"Feature 2\": 0.6405324907246098, \"Outcome\": -0.296124796782225}, {\"Feature 0\": -0.16752599896085105, \"Feature 1\": 1.0586596216303599, \"Feature 2\": -0.013164077705261734, \"Outcome\": -1.2493475515057615}, {\"Feature 0\": -0.2576062149450208, \"Feature 1\": -0.6126830987551942, \"Feature 2\": -0.4109520317211636, \"Outcome\": -0.27022372285435803}, {\"Feature 0\": 1.777478071524789, \"Feature 1\": 0.510417255476162, \"Feature 2\": 2.5222243045966097, \"Outcome\": 1.0091091287876004}, {\"Feature 0\": 0.9007456227992541, \"Feature 1\": -1.8310158745912395, \"Feature 2\": 0.997996509521841, \"Outcome\": 3.183963755185758}, {\"Feature 0\": -1.0292209952926146, \"Feature 1\": -2.3981698976587316, \"Feature 2\": -1.4932588561400388, \"Outcome\": 1.594586623678473}, {\"Feature 0\": -0.49773910978385927, \"Feature 1\": 0.22393604226253425, \"Feature 2\": -0.7326413585190514, \"Outcome\": -1.6854588234519787}, {\"Feature 0\": 1.3403341079176336, \"Feature 1\": -0.5705326577714875, \"Feature 2\": 0.8225466933743111, \"Outcome\": 1.664151574894099}, {\"Feature 0\": -0.4348232689917541, \"Feature 1\": 0.8141883784253684, \"Feature 2\": -0.21156723949643708, \"Outcome\": -2.441821203988082}, {\"Feature 0\": 0.7644299673128166, \"Feature 1\": -0.4713741620896176, \"Feature 2\": 0.014608169171489438, \"Outcome\": 2.1161885052733562}, {\"Feature 0\": 0.009556965947693466, \"Feature 1\": -0.9343739890710406, \"Feature 2\": -0.3571261607361054, \"Outcome\": 0.9326838759950414}, {\"Feature 0\": 1.3167301922714065, \"Feature 1\": -0.6589808802753264, \"Feature 2\": 1.033546548948777, \"Outcome\": 2.991178608910342}, {\"Feature 0\": 0.23401075205937108, \"Feature 1\": 0.5698953819942919, \"Feature 2\": 0.1155924380564781, \"Outcome\": 0.22587494028468014}, {\"Feature 0\": 0.22377231462111002, \"Feature 1\": -0.6376654332816116, \"Feature 2\": 0.4607214385089714, \"Outcome\": 0.5465735360748853}, {\"Feature 0\": 1.091038633016429, \"Feature 1\": -0.7870658672494409, \"Feature 2\": 0.6449795332333215, \"Outcome\": 1.808783183778591}, {\"Feature 0\": 0.9261720240272456, \"Feature 1\": 0.5685900753312544, \"Feature 2\": 0.8537775211316693, \"Outcome\": 0.6491665940628397}, {\"Feature 0\": 0.5070494392331533, \"Feature 1\": 0.828673655536016, \"Feature 2\": 0.7621024173176136, \"Outcome\": -0.38664155575226167}, {\"Feature 0\": 0.16854117270558397, \"Feature 1\": -0.07555552206728373, \"Feature 2\": -0.002434350367707283, \"Outcome\": -0.17332848347943686}, {\"Feature 0\": 0.8395574487134261, \"Feature 1\": -1.2541339848289652, \"Feature 2\": 1.731181821623005, \"Outcome\": 2.675326745221799}, {\"Feature 0\": -0.3689792627136177, \"Feature 1\": -0.6697779847563751, \"Feature 2\": 0.24202281957228355, \"Outcome\": 0.40377364309757685}, {\"Feature 0\": 0.8229811151968759, \"Feature 1\": 1.3083806266080655, \"Feature 2\": 1.3708144507822952, \"Outcome\": 0.061356112834293985}, {\"Feature 0\": 1.3087536867940839, \"Feature 1\": -0.3381853647940875, \"Feature 2\": 1.1117251038108207, \"Outcome\": 1.436823405319627}, {\"Feature 0\": -0.13022108093179494, \"Feature 1\": -0.9113115935885732, \"Feature 2\": -0.34748362366047825, \"Outcome\": 0.6511985572555646}, {\"Feature 0\": 2.0144119808630965, \"Feature 1\": 1.5045717733877908, \"Feature 2\": 2.084607759737518, \"Outcome\": 0.13660811707990816}, {\"Feature 0\": 0.06770560836356869, \"Feature 1\": 0.14872100831741786, \"Feature 2\": -0.28757906759997887, \"Outcome\": -0.7998724862450318}, {\"Feature 0\": 0.6604126918254959, \"Feature 1\": -3.0404423724316705, \"Feature 2\": 0.2707916874011639, \"Outcome\": 2.9235520470386196}, {\"Feature 0\": 0.3732040983253557, \"Feature 1\": -0.9189190781042613, \"Feature 2\": -0.06412665211388935, \"Outcome\": 1.692499317549553}, {\"Feature 0\": 0.18914429234418825, \"Feature 1\": -0.19833156772807006, \"Feature 2\": 1.2284502343805932, \"Outcome\": 0.8103540180767514}, {\"Feature 0\": 0.7211979681745898, \"Feature 1\": -1.1062619851453717, \"Feature 2\": 1.7492582387834221, \"Outcome\": 1.737629256317083}, {\"Feature 0\": -0.3429325570290921, \"Feature 1\": -0.8982732391971052, \"Feature 2\": -0.6016126098923062, \"Outcome\": 0.45563770440573437}, {\"Feature 0\": -1.0748841617568001, \"Feature 1\": -0.9578943275951507, \"Feature 2\": -1.0850309076330182, \"Outcome\": 0.3667073928896573}, {\"Feature 0\": 0.5040931516129681, \"Feature 1\": 1.6919739598989256, \"Feature 2\": 0.16847758626243453, \"Outcome\": -0.9955942493152201}, {\"Feature 0\": -0.7575595964563417, \"Feature 1\": 0.7293488033259715, \"Feature 2\": -0.9439967829397654, \"Outcome\": -0.9063868516078463}, {\"Feature 0\": 1.4767857453038078, \"Feature 1\": -0.44948936314240523, \"Feature 2\": 0.9107156047579087, \"Outcome\": 2.31544708568669}, {\"Feature 0\": -0.7536747995504876, \"Feature 1\": -0.10841102210571685, \"Feature 2\": -0.9078583240549947, \"Outcome\": -0.7826354047195091}, {\"Feature 0\": -0.22958690869106532, \"Feature 1\": 0.5239502429208336, \"Feature 2\": 0.4292907044930926, \"Outcome\": -2.000122335140234}, {\"Feature 0\": -0.03810207463465361, \"Feature 1\": -0.3731652456354679, \"Feature 2\": 0.44410766144516767, \"Outcome\": 0.2613770037050196}, {\"Feature 0\": 0.9834566884304021, \"Feature 1\": 0.02026213825967065, \"Feature 2\": 1.2937163335577977, \"Outcome\": 1.2461581428087611}, {\"Feature 0\": -0.715766131098988, \"Feature 1\": -0.010153290756894908, \"Feature 2\": -1.1295377504387862, \"Outcome\": -0.7383846958205111}, {\"Feature 0\": -0.9327129639898057, \"Feature 1\": 0.9866057092614989, \"Feature 2\": -0.8162005860215008, \"Outcome\": -2.389184418516471}, {\"Feature 0\": -0.14288889056110723, \"Feature 1\": -0.8848247188952771, \"Feature 2\": -0.08848020075933849, \"Outcome\": 0.1493164684993653}, {\"Feature 0\": -0.4109202617307265, \"Feature 1\": 0.16204861609595658, \"Feature 2\": -0.4067721554250137, \"Outcome\": -1.042551784633325}, {\"Feature 0\": 1.1356277749408625, \"Feature 1\": -1.4843866792772997, \"Feature 2\": 0.17047773822189627, \"Outcome\": 2.284519070248401}, {\"Feature 0\": -0.37954919894937267, \"Feature 1\": 0.3354836384605148, \"Feature 2\": -0.8101386939999609, \"Outcome\": -1.2816071270755054}, {\"Feature 0\": -0.9075434763793511, \"Feature 1\": -0.6871314993681598, \"Feature 2\": -1.150062146740758, \"Outcome\": -0.2978517188414607}, {\"Feature 0\": -0.5626434802946793, \"Feature 1\": 0.7986778074879173, \"Feature 2\": -0.7355528518034171, \"Outcome\": -1.100226726832033}, {\"Feature 0\": -1.6286111029852404, \"Feature 1\": -0.09057147341706996, \"Feature 2\": -1.7253948552820866, \"Outcome\": -1.5800613045269385}, {\"Feature 0\": -0.6563816651052179, \"Feature 1\": -0.9650565117800768, \"Feature 2\": -0.7077711107272613, \"Outcome\": 0.4668731571547555}, {\"Feature 0\": 0.833227402824308, \"Feature 1\": -0.7196659991449116, \"Feature 2\": 1.0976536120624565, \"Outcome\": 2.4223105922932566}, {\"Feature 0\": 2.0948239297696216, \"Feature 1\": 1.6546129348578353, \"Feature 2\": 2.0736053274430297, \"Outcome\": -0.17321066991718137}, {\"Feature 0\": -1.6312835212928452, \"Feature 1\": 0.67364090151814, \"Feature 2\": -1.0766410138447307, \"Outcome\": -2.402098362366812}, {\"Feature 0\": -0.2530133937694737, \"Feature 1\": -0.915891260464847, \"Feature 2\": -0.517789299045762, \"Outcome\": 1.298750453417458}, {\"Feature 0\": 0.5646745197938364, \"Feature 1\": -1.1246292521588805, \"Feature 2\": 0.9494339975090254, \"Outcome\": 2.6607202568323856}, {\"Feature 0\": 0.7628339420339848, \"Feature 1\": -1.3052115175804428, \"Feature 2\": 0.3288032178091548, \"Outcome\": 2.322613480144698}, {\"Feature 0\": -0.4222949124836594, \"Feature 1\": -0.31503946861739135, \"Feature 2\": -0.6609142940580044, \"Outcome\": 0.23362752471196702}, {\"Feature 0\": -0.3219139064971387, \"Feature 1\": 0.4153047481343573, \"Feature 2\": -0.2949521092681813, \"Outcome\": -0.34366146747554394}, {\"Feature 0\": 1.3514303660308529, \"Feature 1\": -0.6450829519465008, \"Feature 2\": 0.8945464665386926, \"Outcome\": 2.3566778460334343}, {\"Feature 0\": -0.45154593303514357, \"Feature 1\": 0.36448388745301574, \"Feature 2\": -1.1286341336526513, \"Outcome\": -1.6552123578784552}, {\"Feature 0\": -0.4366673034675118, \"Feature 1\": 0.46667298776909183, \"Feature 2\": 0.09749461435968376, \"Outcome\": -1.4027931612303937}, {\"Feature 0\": -1.1888265110691274, \"Feature 1\": 0.8261342502951483, \"Feature 2\": -1.7504645232433407, \"Outcome\": -2.162286273190773}, {\"Feature 0\": -1.3555201585619663, \"Feature 1\": -0.2661678584884139, \"Feature 2\": -1.5263870287716215, \"Outcome\": -1.3512510040297148}, {\"Feature 0\": 1.328138102223638, \"Feature 1\": 0.8619872722835242, \"Feature 2\": 1.5149969249320034, \"Outcome\": 0.5970903243167665}, {\"Feature 0\": 0.6208053256016807, \"Feature 1\": 0.1978787964326393, \"Feature 2\": 0.055454689042550354, \"Outcome\": 0.49366094653951254}, {\"Feature 0\": 1.0876723314716876, \"Feature 1\": -0.04474853418080723, \"Feature 2\": 0.7588877609930795, \"Outcome\": 0.975763542078635}, {\"Feature 0\": -0.26121774827087924, \"Feature 1\": -1.587268646576065, \"Feature 2\": -0.31354709533515773, \"Outcome\": 1.6457759192392318}, {\"Feature 0\": -1.876920309247787, \"Feature 1\": -0.11824397363688258, \"Feature 2\": -2.0842818596313313, \"Outcome\": -1.259286297176891}, {\"Feature 0\": -0.7361067024266473, \"Feature 1\": -0.21087868581494007, \"Feature 2\": -0.5208416121360137, \"Outcome\": -0.3602156157124167}, {\"Feature 0\": -0.7322709789017123, \"Feature 1\": 0.025401950665929294, \"Feature 2\": -0.8109470069129916, \"Outcome\": -1.2723194628129209}, {\"Feature 0\": 0.46444656048626093, \"Feature 1\": -0.6037088148065326, \"Feature 2\": -0.7482788131356506, \"Outcome\": 0.7229177515724369}, {\"Feature 0\": 0.034183853572922286, \"Feature 1\": -0.5264913068429132, \"Feature 2\": 1.2563148704994713, \"Outcome\": 0.5996444416937103}, {\"Feature 0\": -1.6169194214279494, \"Feature 1\": -0.0509327656217884, \"Feature 2\": -2.266485222903331, \"Outcome\": -1.2708719781431024}, {\"Feature 0\": -0.6043085122850016, \"Feature 1\": 0.2474090638924776, \"Feature 2\": -0.3129976577572199, \"Outcome\": -1.3855324243986555}, {\"Feature 0\": 1.7390893926342879, \"Feature 1\": 0.39333101874090487, \"Feature 2\": 0.9050417418688417, \"Outcome\": 0.9344551427683434}, {\"Feature 0\": -0.5685016339523632, \"Feature 1\": -1.191020274724898, \"Feature 2\": -1.1378934315827802, \"Outcome\": 0.19449618053278955}, {\"Feature 0\": 0.28505562478655616, \"Feature 1\": 0.14301771143957, \"Feature 2\": 0.22562469687546513, \"Outcome\": 0.4789347717556758}, {\"Feature 0\": -0.39765576437040945, \"Feature 1\": 0.9902389813668502, \"Feature 2\": 0.11214435823133212, \"Outcome\": -1.7690199756346268}, {\"Feature 0\": 0.0013992564476849442, \"Feature 1\": -1.2831511185477005, \"Feature 2\": 0.21539930203317023, \"Outcome\": 1.5622976566704265}, {\"Feature 0\": -0.618939851610224, \"Feature 1\": -1.3434705039801238, \"Feature 2\": -1.2614709117451932, \"Outcome\": 0.9090025826333726}, {\"Feature 0\": 0.24920991003029241, \"Feature 1\": 0.7841297855136067, \"Feature 2\": 0.34583039465430343, \"Outcome\": -0.48287595463657934}, {\"Feature 0\": -0.1632982906247547, \"Feature 1\": -0.01595155394329392, \"Feature 2\": -0.13482211592350027, \"Outcome\": -0.5138487496903414}, {\"Feature 0\": -0.027018547739967327, \"Feature 1\": -0.4237121185433311, \"Feature 2\": 0.37798457612478875, \"Outcome\": 0.24722886657518262}, {\"Feature 0\": -0.4379034749107073, \"Feature 1\": -0.5632073142733913, \"Feature 2\": -0.33896731855500806, \"Outcome\": 0.2543897503591694}, {\"Feature 0\": -1.5872409146074749, \"Feature 1\": 0.9812466377472889, \"Feature 2\": -1.468302352487102, \"Outcome\": -1.823752360171504}, {\"Feature 0\": -0.425358937097521, \"Feature 1\": -0.7208107407267257, \"Feature 2\": -0.3797989410154053, \"Outcome\": 1.061269507348009}, {\"Feature 0\": 2.34782520344968, \"Feature 1\": 0.8143064274732827, \"Feature 2\": 2.1621186642114347, \"Outcome\": 1.244278954022184}, {\"Feature 0\": 2.074273604805159, \"Feature 1\": 0.8726364270587167, \"Feature 2\": 2.1224255945467245, \"Outcome\": 2.205263509208576}, {\"Feature 0\": 0.4162067455636893, \"Feature 1\": -0.4946609471958877, \"Feature 2\": 0.6099177402192041, \"Outcome\": 0.819006569639934}, {\"Feature 0\": -0.5596160512799927, \"Feature 1\": 0.45843632026477465, \"Feature 2\": -0.5339032743474912, \"Outcome\": -0.8991976258054694}, {\"Feature 0\": 0.7440586749304946, \"Feature 1\": 0.8425326040106886, \"Feature 2\": 0.6842437411132805, \"Outcome\": -0.40832381865384254}, {\"Feature 0\": 0.5847304964531427, \"Feature 1\": -1.5853411195800917, \"Feature 2\": 0.4852166066696053, \"Outcome\": 2.08119232851071}, {\"Feature 0\": -2.184201536298459, \"Feature 1\": -1.1240655603790737, \"Feature 2\": -2.4994281395457163, \"Outcome\": -1.3544333608429309}, {\"Feature 0\": -0.7909084454236512, \"Feature 1\": 1.2437764471826545, \"Feature 2\": -1.1774856198326782, \"Outcome\": -2.041326119383154}, {\"Feature 0\": -0.18201126843106075, \"Feature 1\": 1.0582415199876936, \"Feature 2\": -0.13745645088924513, \"Outcome\": -1.5097642371713993}, {\"Feature 0\": -0.61753633370123, \"Feature 1\": -0.17049722991115157, \"Feature 2\": -0.3567888515979748, \"Outcome\": -0.7401250597098423}, {\"Feature 0\": 2.5227840096340364, \"Feature 1\": 0.8246795358445336, \"Feature 2\": 2.1025428024229984, \"Outcome\": 1.7304647128309532}, {\"Feature 0\": 0.743078530501798, \"Feature 1\": -0.6584023719850187, \"Feature 2\": 1.4214500977030906, \"Outcome\": 0.8113591341318858}, {\"Feature 0\": 1.3493620923915461, \"Feature 1\": -1.112645421408698, \"Feature 2\": 0.6800720449775609, \"Outcome\": 2.176917050215127}, {\"Feature 0\": -0.2525667742172696, \"Feature 1\": -1.0533508806146097, \"Feature 2\": 0.9505737003502143, \"Outcome\": 0.624398120142936}, {\"Feature 0\": 0.061819079410678025, \"Feature 1\": 1.5377735798919747, \"Feature 2\": 0.19440586895154985, \"Outcome\": -1.8142395571451566}, {\"Feature 0\": -0.9401915016712556, \"Feature 1\": -0.9485210898043555, \"Feature 2\": -1.8559292777748095, \"Outcome\": -0.07651852951726874}, {\"Feature 0\": 0.4301934398163037, \"Feature 1\": -0.060061234119760484, \"Feature 2\": 0.49048628863537397, \"Outcome\": 0.9305564224508331}, {\"Feature 0\": 0.11771079926197715, \"Feature 1\": -0.9802051795432745, \"Feature 2\": 0.40953190874646306, \"Outcome\": 1.6072785285822708}, {\"Feature 0\": -0.08825309306341887, \"Feature 1\": 0.6916422941383308, \"Feature 2\": -0.49489123462466367, \"Outcome\": -1.0279525851525746}, {\"Feature 0\": -0.07736648615389403, \"Feature 1\": 0.5947982369018073, \"Feature 2\": -0.2796103014033726, \"Outcome\": -0.5427342424699786}, {\"Feature 0\": -0.13926024262772452, \"Feature 1\": -0.5761064085365253, \"Feature 2\": -0.22163442494182736, \"Outcome\": -0.0657208031667963}, {\"Feature 0\": -0.6101854340165631, \"Feature 1\": 0.3134461542028134, \"Feature 2\": -0.5218510750776378, \"Outcome\": -0.5469826344198228}, {\"Feature 0\": 0.3084086873547244, \"Feature 1\": -2.644330854180134, \"Feature 2\": -0.270647583197147, \"Outcome\": 2.963399934070673}, {\"Feature 0\": -0.8064775520052778, \"Feature 1\": -0.7631529087607302, \"Feature 2\": -0.6555854515749691, \"Outcome\": 1.2373254808104974}, {\"Feature 0\": 1.8270112760731925, \"Feature 1\": -1.3980490432330595, \"Feature 2\": 1.5258693718706455, \"Outcome\": 3.001532638731736}, {\"Feature 0\": 0.7389135758657595, \"Feature 1\": 1.3841171241725063, \"Feature 2\": 1.1158644711068053, \"Outcome\": 0.10464403529344612}, {\"Feature 0\": -0.10772849032336262, \"Feature 1\": -1.4716707866229999, \"Feature 2\": 0.4087455796314363, \"Outcome\": 1.2743948015245639}, {\"Feature 0\": -0.26686069240451976, \"Feature 1\": 0.7253555062376034, \"Feature 2\": 0.3695861885654757, \"Outcome\": -1.5039611451324935}, {\"Feature 0\": -0.05509885280626787, \"Feature 1\": 1.624316418894506, \"Feature 2\": -0.41465902711433006, \"Outcome\": -1.3457853580986443}, {\"Feature 0\": -0.43808312330272464, \"Feature 1\": -0.2684575818263152, \"Feature 2\": -0.2383356364548336, \"Outcome\": -0.5122661564793356}, {\"Feature 0\": -1.4831775320727145, \"Feature 1\": -0.3198730667100001, \"Feature 2\": -1.7435266662320852, \"Outcome\": -1.078850499903707}, {\"Feature 0\": 1.7426502517454565, \"Feature 1\": -0.22025093091674847, \"Feature 2\": 1.9237100020742122, \"Outcome\": 1.5701319835387793}, {\"Feature 0\": 0.3027766871935393, \"Feature 1\": 0.12254864865019532, \"Feature 2\": 0.07223887513881386, \"Outcome\": -0.0148544732623265}, {\"Feature 0\": 0.3097164750372838, \"Feature 1\": -1.2451034862523975, \"Feature 2\": 0.5176701000275574, \"Outcome\": 1.2783717218212243}, {\"Feature 0\": -0.13396132289705032, \"Feature 1\": -0.106898568911697, \"Feature 2\": 0.2927840574983343, \"Outcome\": 1.0735249981591637}, {\"Feature 0\": 0.15099585229119813, \"Feature 1\": -0.12103058283305579, \"Feature 2\": 0.3207672511079391, \"Outcome\": 0.4155806405323488}, {\"Feature 0\": -0.2871325169395521, \"Feature 1\": 0.2466038815093084, \"Feature 2\": -0.20633307756423908, \"Outcome\": -0.025517338014079738}, {\"Feature 0\": -0.28358563399835973, \"Feature 1\": -1.2336443857187338, \"Feature 2\": 0.0008563094370703239, \"Outcome\": -0.03885592896439527}, {\"Feature 0\": -0.47472660204567385, \"Feature 1\": 0.6606764060099084, \"Feature 2\": -1.1962858701964039, \"Outcome\": -0.8925565097307413}, {\"Feature 0\": -1.5842918197055513, \"Feature 1\": 0.7897349411483167, \"Feature 2\": -0.7407894206293093, \"Outcome\": -2.3457360023941676}, {\"Feature 0\": -1.4186499094573735, \"Feature 1\": 1.586020904500429, \"Feature 2\": -1.0922037001019371, \"Outcome\": -2.736877488702647}, {\"Feature 0\": 0.17466074392983627, \"Feature 1\": -1.6585042789794628, \"Feature 2\": 0.058170649476457434, \"Outcome\": 1.8216585694403922}, {\"Feature 0\": -0.9465252404665992, \"Feature 1\": -0.3346669985667652, \"Feature 2\": -1.6769458165323845, \"Outcome\": -0.3972070715436452}, {\"Feature 0\": -0.4262297868850915, \"Feature 1\": 0.7643305891980755, \"Feature 2\": -0.477606363684439, \"Outcome\": -1.4857703644810503}, {\"Feature 0\": 0.5484087242301764, \"Feature 1\": 1.302654420985412, \"Feature 2\": 0.6981959950457591, \"Outcome\": -1.0242805114366516}, {\"Feature 0\": -1.1548891247857727, \"Feature 1\": 0.85026502940666, \"Feature 2\": -1.1416444895928604, \"Outcome\": -1.637795937794597}, {\"Feature 0\": 0.675936494260314, \"Feature 1\": -0.21464089999505234, \"Feature 2\": 0.03891260907743466, \"Outcome\": 0.7509913884793207}, {\"Feature 0\": 0.16733509223740123, \"Feature 1\": 0.5221369035106546, \"Feature 2\": 0.6338031777402975, \"Outcome\": -0.2991437589088461}, {\"Feature 0\": -0.43849775701272115, \"Feature 1\": 0.24425252099760844, \"Feature 2\": -1.295778921444142, \"Outcome\": 0.040442382807703736}, {\"Feature 0\": -0.3335623147059417, \"Feature 1\": -0.3637039709810838, \"Feature 2\": -0.6515258316287381, \"Outcome\": -0.08624990710470926}, {\"Feature 0\": -0.9462218602500087, \"Feature 1\": 0.6966398497349712, \"Feature 2\": -1.5095803907727787, \"Outcome\": -1.6630030296837213}, {\"Feature 0\": 0.8555225132831106, \"Feature 1\": -0.4118649566519212, \"Feature 2\": 1.9785065265597597, \"Outcome\": 1.2668749736237495}, {\"Feature 0\": -0.09780983269116873, \"Feature 1\": -0.015102871724353515, \"Feature 2\": -0.17558451051510798, \"Outcome\": 0.45128556208174847}, {\"Feature 0\": -1.1011872088736139, \"Feature 1\": 2.370625693358918, \"Feature 2\": -1.6868525045529097, \"Outcome\": -3.8694262168535882}, {\"Feature 0\": 0.7444750836515133, \"Feature 1\": -0.9898116484016053, \"Feature 2\": 0.3278195113261781, \"Outcome\": 0.7723528793843852}, {\"Feature 0\": 0.4835204668120788, \"Feature 1\": -2.0538701809921167, \"Feature 2\": -0.40069447432089983, \"Outcome\": 2.9366761365830847}, {\"Feature 0\": 1.8812682701458754, \"Feature 1\": -0.10862424297587382, \"Feature 2\": 2.664091314436425, \"Outcome\": 2.831536904306784}, {\"Feature 0\": 0.3948052441516579, \"Feature 1\": 0.06973149216689262, \"Feature 2\": 0.019159026857265504, \"Outcome\": 0.8968322550202004}, {\"Feature 0\": 0.9050131792695062, \"Feature 1\": -0.7655390963285443, \"Feature 2\": 1.2096510011011774, \"Outcome\": 0.8500006975367965}, {\"Feature 0\": 1.2077509646664575, \"Feature 1\": 1.4791672820550732, \"Feature 2\": 1.39303277144749, \"Outcome\": -0.5542623745540222}, {\"Feature 0\": 1.0203411596717031, \"Feature 1\": -1.5346693605581563, \"Feature 2\": 0.28623047045146177, \"Outcome\": 2.543414095648332}, {\"Feature 0\": 0.328415122104977, \"Feature 1\": 0.573088249543684, \"Feature 2\": 0.6473543518095666, \"Outcome\": -0.5782003258433583}, {\"Feature 0\": -0.26107629882776695, \"Feature 1\": -0.42209166038494356, \"Feature 2\": 0.27873878022539067, \"Outcome\": 0.8045676775190687}, {\"Feature 0\": 0.9281537168032448, \"Feature 1\": -0.020783188063048637, \"Feature 2\": 0.66647412561083, \"Outcome\": 0.2793569848714298}, {\"Feature 0\": 0.67374996640316, \"Feature 1\": -1.0502810449118498, \"Feature 2\": 0.25705035281824434, \"Outcome\": 0.9261055947816088}, {\"Feature 0\": -1.7813953685591914, \"Feature 1\": 0.10797156633834185, \"Feature 2\": -2.725344872178323, \"Outcome\": -1.8109183002111966}, {\"Feature 0\": 0.27381363578859447, \"Feature 1\": 0.11986573647173922, \"Feature 2\": 0.2991666644272353, \"Outcome\": 0.08760024090511531}, {\"Feature 0\": -1.3545603019698556, \"Feature 1\": -0.5473610672488317, \"Feature 2\": -0.7014634075543587, \"Outcome\": -1.9344806420068612}, {\"Feature 0\": -0.8742546074691032, \"Feature 1\": 0.8157220550279454, \"Feature 2\": -0.9046315205147886, \"Outcome\": -0.7009075450507936}, {\"Feature 0\": 1.2305080634901795, \"Feature 1\": -0.03288978267272735, \"Feature 2\": 1.41081290105834, \"Outcome\": 0.5043543292380395}, {\"Feature 0\": 0.41512183475175346, \"Feature 1\": -0.6246549738130684, \"Feature 2\": 1.6201364219136227, \"Outcome\": 0.5669081157908673}, {\"Feature 0\": -0.35154948000793484, \"Feature 1\": 0.023064791864567516, \"Feature 2\": 0.7528427029697677, \"Outcome\": -0.6072915353393886}, {\"Feature 0\": 0.29505333984346993, \"Feature 1\": 0.5417563006295107, \"Feature 2\": -0.10040118845755835, \"Outcome\": -0.2893508374356553}, {\"Feature 0\": 1.394580589468754, \"Feature 1\": -0.6456756972369836, \"Feature 2\": 1.0514698423836148, \"Outcome\": 1.4058711335918725}, {\"Feature 0\": -1.2302220290695385, \"Feature 1\": -0.2503909291649363, \"Feature 2\": -1.5061708689394329, \"Outcome\": -0.15071748734789014}, {\"Feature 0\": -1.065204815660387, \"Feature 1\": 0.1365153206892189, \"Feature 2\": -0.1502188349860728, \"Outcome\": -1.6562966981347897}, {\"Feature 0\": -0.1543749948079377, \"Feature 1\": -0.9368785282603073, \"Feature 2\": -0.18502327866036014, \"Outcome\": 0.9780225421752614}, {\"Feature 0\": 1.6412574206892077, \"Feature 1\": 0.7476126410185933, \"Feature 2\": 1.1396393905053408, \"Outcome\": 0.9862958105336663}, {\"Feature 0\": 0.19502210245743967, \"Feature 1\": -0.5033862312873776, \"Feature 2\": 0.7193579675403096, \"Outcome\": 1.5769771114680937}, {\"Feature 0\": -1.3374239382819961, \"Feature 1\": 0.33623934222189905, \"Feature 2\": 0.1288607790504841, \"Outcome\": -1.4316453081979335}, {\"Feature 0\": -0.7468978710204669, \"Feature 1\": -1.5932204827835834, \"Feature 2\": -0.41126199661007834, \"Outcome\": 1.7442653100435632}, {\"Feature 0\": 0.7045422160075667, \"Feature 1\": 0.4906611663618398, \"Feature 2\": 0.9035062992445015, \"Outcome\": -0.10553685698995835}, {\"Feature 0\": 0.8408880083756863, \"Feature 1\": 0.16064161776830624, \"Feature 2\": -0.051503737844920794, \"Outcome\": -0.18037966476822165}, {\"Feature 0\": -0.05942190839665517, \"Feature 1\": 1.2880904059093055, \"Feature 2\": -0.016212086331776003, \"Outcome\": -1.7463059930571676}, {\"Feature 0\": 1.2505692809842464, \"Feature 1\": -1.5593213789053604, \"Feature 2\": 1.5494333842593109, \"Outcome\": 3.109409815895608}, {\"Feature 0\": 1.021292729904388, \"Feature 1\": 2.5863896342398904, \"Feature 2\": 0.44957364244993103, \"Outcome\": -0.7999344882107635}, {\"Feature 0\": -1.7950460209030459, \"Feature 1\": -0.8994462941699871, \"Feature 2\": -2.7275112233788943, \"Outcome\": -1.1100953927357506}, {\"Feature 0\": -0.4421324017024153, \"Feature 1\": 0.6562480422348961, \"Feature 2\": -0.19762520256713265, \"Outcome\": -0.5771957167443916}, {\"Feature 0\": 1.3156781140880134, \"Feature 1\": -0.445158214742391, \"Feature 2\": 0.7534638774392424, \"Outcome\": 1.9396035664503024}, {\"Feature 0\": -0.6544223968856804, \"Feature 1\": 0.5488553111110775, \"Feature 2\": -1.928336324789659, \"Outcome\": -1.3932514258735225}, {\"Feature 0\": 0.5480143552426495, \"Feature 1\": -0.5625616388896204, \"Feature 2\": 0.08053692431758008, \"Outcome\": 1.7167509528439857}, {\"Feature 0\": -0.4770179795048088, \"Feature 1\": -0.5545975944135687, \"Feature 2\": -0.8259314159114981, \"Outcome\": 0.32513403377839045}, {\"Feature 0\": 0.499732601626197, \"Feature 1\": 1.0961763942922071, \"Feature 2\": 0.9751952136230022, \"Outcome\": 0.10556588789079402}, {\"Feature 0\": -0.2880227223134355, \"Feature 1\": 1.808853075658552, \"Feature 2\": 0.7362514406265424, \"Outcome\": -2.5169257924782946}, {\"Feature 0\": 0.6588969711820563, \"Feature 1\": -1.018855308936268, \"Feature 2\": 0.5045086435312334, \"Outcome\": 1.2073949608732433}, {\"Feature 0\": 0.3480923238435778, \"Feature 1\": 0.654185196904342, \"Feature 2\": 0.8104731366683843, \"Outcome\": 0.18736394690936342}, {\"Feature 0\": -0.6837098468976079, \"Feature 1\": -0.45887261634846005, \"Feature 2\": -0.36741915186283614, \"Outcome\": -1.1837975080650578}, {\"Feature 0\": -1.1968093651331129, \"Feature 1\": 1.3393647184943505, \"Feature 2\": -0.8988146774853809, \"Outcome\": -2.5864187186119554}, {\"Feature 0\": 0.8299569006420998, \"Feature 1\": 0.4890820633921509, \"Feature 2\": 0.5598086312259938, \"Outcome\": 1.5764351213216568}, {\"Feature 0\": -1.9499897773370012, \"Feature 1\": -1.456392873339335, \"Feature 2\": -2.3182963923454802, \"Outcome\": -0.8987904708283434}, {\"Feature 0\": -0.5104997793023031, \"Feature 1\": 0.24201290739987352, \"Feature 2\": -0.00812843446830347, \"Outcome\": -1.014939007815531}, {\"Feature 0\": 1.12534360433397, \"Feature 1\": -0.7327714771131537, \"Feature 2\": 1.151514802783186, \"Outcome\": 2.2120292385505804}, {\"Feature 0\": -0.3458144539585536, \"Feature 1\": -0.4865551595862253, \"Feature 2\": 0.8322166747590293, \"Outcome\": -0.49718295273162405}, {\"Feature 0\": 0.6503862201300996, \"Feature 1\": -0.9149021611737925, \"Feature 2\": 0.4805660621426573, \"Outcome\": 1.047127193313374}, {\"Feature 0\": 0.8011873561731638, \"Feature 1\": 1.0901700767998774, \"Feature 2\": 0.26475526221598833, \"Outcome\": -0.49206903150057013}, {\"Feature 0\": 0.16759655308877894, \"Feature 1\": 0.07154421426507246, \"Feature 2\": 0.4999372095944328, \"Outcome\": -0.1811507271265361}, {\"Feature 0\": 0.6372259167263348, \"Feature 1\": -0.6617392731397429, \"Feature 2\": 1.3833210597187082, \"Outcome\": 1.6405640479326176}, {\"Feature 0\": 1.0699341260907445, \"Feature 1\": -2.0744140412502454, \"Feature 2\": 1.7217750998441925, \"Outcome\": 3.356401351696442}, {\"Feature 0\": -0.9305920961000573, \"Feature 1\": 0.5006286611169721, \"Feature 2\": -0.762724024287948, \"Outcome\": -1.3876089901366386}, {\"Feature 0\": -0.09688806988439452, \"Feature 1\": -0.4085343394893056, \"Feature 2\": -0.16608507418552454, \"Outcome\": 0.16303360281255147}, {\"Feature 0\": 1.8021454147978064, \"Feature 1\": 0.02928916018411212, \"Feature 2\": 1.0305195401150011, \"Outcome\": 1.7505027697959454}, {\"Feature 0\": -0.33713878388876917, \"Feature 1\": -0.4564588073506955, \"Feature 2\": -0.9083489998156613, \"Outcome\": 0.5953531735206181}, {\"Feature 0\": 0.7737235572232992, \"Feature 1\": -1.8441115365155314, \"Feature 2\": 0.7221316095641211, \"Outcome\": 2.3067763593234414}, {\"Feature 0\": 0.03654134065464422, \"Feature 1\": 0.9088386647523623, \"Feature 2\": 0.7950189073836413, \"Outcome\": -1.0194813539226948}, {\"Feature 0\": 0.44455250565019144, \"Feature 1\": 0.8429525360661317, \"Feature 2\": 0.5900477748531591, \"Outcome\": -1.1131558080925865}, {\"Feature 0\": -0.8063944009729853, \"Feature 1\": 0.3147658535519694, \"Feature 2\": -1.2785174660527567, \"Outcome\": -2.0297017712747376}]}}, {\"mode\": \"vega-lite\"});\n",
       "</script>"
      ],
      "text/plain": [
       "alt.RepeatChart(...)"
      ]
     },
     "execution_count": 17,
     "metadata": {},
     "output_type": "execute_result"
    }
   ],
   "source": [
    "data = pd.DataFrame({'Feature 0': X[:, 0], 'Feature 1': X[:, 1], 'Feature 2': X[:, 2], 'Outcome': Y.squeeze()})\n",
    "alt.Chart(data).mark_point(filled=True).encode(\n",
    "    x=alt.X(alt.repeat('column'), type='quantitative', scale=alt.Scale(domain=[-4, 4])),\n",
    "    y=alt.Y('Outcome:Q', scale=alt.Scale(domain=[-6, 6]))\n",
    ").properties(\n",
    "    height=200,\n",
    "    width=200\n",
    ").repeat(\n",
    "    column=['Feature 0', 'Feature 1', 'Feature 2']\n",
    ").properties(\n",
    "    title='The relationship between the outcome and the three features in our simulated data'\n",
    ").configure_axis(\n",
    "    labelFontSize=15,\n",
    "    labelFontWeight=alt.FontWeight('lighter'),\n",
    "    titleFontSize=15,\n",
    "    titleFontWeight=alt.FontWeight('normal')\n",
    ").configure_title(\n",
    "    fontSize=18\n",
    ")"
   ]
  },
  {
   "cell_type": "code",
   "execution_count": 18,
   "id": "structural-college",
   "metadata": {},
   "outputs": [],
   "source": [
    "class CustomDataset(Dataset):\n",
    "    def __init__(self, x, y=None):\n",
    "        self.x=x\n",
    "        self.y=y\n",
    "    \n",
    "    def __len__(self):\n",
    "        return len(self.x)\n",
    "    \n",
    "    def __getitem__(self, index):        \n",
    "        if self.y is not None:\n",
    "            return self.x[index], self.y[index]\n",
    "        else:\n",
    "            return self.x[index]"
   ]
  },
  {
   "cell_type": "code",
   "execution_count": 19,
   "id": "numerical-triumph",
   "metadata": {},
   "outputs": [],
   "source": [
    "batch_size=20\n",
    "\n",
    "dataset=CustomDataset(x=X,y=Y)\n",
    "train_dataset, test_dataset, valid_dataset=random_split(dataset, [int(n_samples*0.8), int(n_samples*0.1), int(n_samples*0.1)])\n",
    "\n",
    "train_dataloader=DataLoader(dataset=train_dataset, batch_size=20, shuffle=True, drop_last=True)\n",
    "test_dataloader=DataLoader(dataset=test_dataset, batch_size=len(test_dataset), shuffle=True, drop_last=True)\n",
    "valid_dataloader=DataLoader(dataset=valid_dataset, batch_size=len(valid_dataset), shuffle=True, drop_last=True)"
   ]
  },
  {
   "cell_type": "code",
   "execution_count": 12,
   "id": "incorporated-consumer",
   "metadata": {},
   "outputs": [],
   "source": [
    "class MLP(torch.nn.Module):\n",
    "    def __init__(self):\n",
    "        super(MLP,self).__init__()\n",
    "        self.layers=torch.nn.Sequential(torch.nn.Linear(2,1),\n",
    "                                      torch.nn.Sigmoid())\n",
    "    def forward(self,x):\n",
    "        x=self.layers(x)\n",
    "        return x"
   ]
  },
  {
   "cell_type": "code",
   "execution_count": 13,
   "id": "exotic-causing",
   "metadata": {},
   "outputs": [],
   "source": [
    "class CustomModel(torch.nn.Module):\n",
    "    def __init__(self):\n",
    "        super(CustomModel,self).__init__()\n",
    "        self.layers=torch.nn.Sequential(torch.nn.Linear(n_features,5),\n",
    "                                        torch.nn.ReLU(),\n",
    "                                        torch.nn.Linear(5,1))\n",
    "                                        \n",
    "    def forward(self, x):\n",
    "        return self.layers(x)"
   ]
  },
  {
   "cell_type": "markdown",
   "id": "found-authority",
   "metadata": {},
   "source": [
    "## train with an attribution prior"
   ]
  },
  {
   "cell_type": "code",
   "execution_count": 281,
   "id": "breathing-slide",
   "metadata": {},
   "outputs": [
    {
     "name": "stdout",
     "output_type": "stream",
     "text": [
      "MSE: 0.2743835151195526\n"
     ]
    }
   ],
   "source": [
    "device=torch.device('cuda')\n",
    "model=CustomModel().to(device)\n",
    "\n",
    "\n",
    "explainer = AttributionPriorExplainer(train_dataset[:][0], batch_size=batch_size, k=1)\n",
    "explainer_valid = AttributionPriorExplainer(valid_dataset[:][0], batch_size=100, k=1)\n",
    "\n",
    "optimizer=torch.optim.SGD(model.parameters(), lr=1e-2, momentum=0, dampening=0)\n",
    "\n",
    "loss_func = torch.nn.MSELoss()\n",
    "\n",
    "batch_count=0\n",
    "valid_loss_list=[]\n",
    "step_list=[]\n",
    "for epoch in range(15):\n",
    "    for i, (x, y_true) in enumerate(train_dataloader):\n",
    "        batch_count+=1\n",
    "\n",
    "        x, y_true= x.float().to(device), y_true.float().to(device)\n",
    "        optimizer.zero_grad()\n",
    "\n",
    "        y_pred=model(x)\n",
    "        \n",
    "        eg=explainer.attribution(model, x)\n",
    "        \n",
    "        loss=loss_func(y_pred, y_true) + 30*(eg*eg)[:,2].mean()\n",
    "\n",
    "        loss.backward()\n",
    "        optimizer.step()\n",
    "        \n",
    "        if batch_count%10==0:\n",
    "            valid_loss=[]\n",
    "            for i, (x, y_true) in enumerate(valid_dataloader):\n",
    "\n",
    "                x, y_true= x.float().to(device), y_true.float().to(device)\n",
    "\n",
    "                y_pred = model(x)\n",
    "                loss=loss_func(y_pred, y_true)\n",
    "                valid_loss.append(loss.item())\n",
    "\n",
    "                eg=explainer_valid.attribution(model,x)\n",
    "\n",
    "                #print(eg.abs().mean(axis=0).detach().cpu())\n",
    "\n",
    "            valid_loss_list.append(np.mean(valid_loss))\n",
    "            step_list.append(batch_count)\n",
    "\n",
    "                    \n",
    "test_loss=[]                    \n",
    "for i, (x, y_true) in enumerate(test_dataloader):\n",
    "\n",
    "    x, y_true= x.float().to(device), y_true.float().to(device)\n",
    "\n",
    "    y_pred = model(x)\n",
    "    loss=loss_func(y_pred, y_true)\n",
    "    test_loss.append(loss.item())\n",
    "    \n",
    "print('MSE:',np.mean(test_loss))"
   ]
  },
  {
   "cell_type": "code",
   "execution_count": 285,
   "id": "fourth-orleans",
   "metadata": {},
   "outputs": [
    {
     "data": {
      "text/html": [
       "\n",
       "<div id=\"altair-viz-2c76a2ce522148809809f18d6be4a221\"></div>\n",
       "<script type=\"text/javascript\">\n",
       "  (function(spec, embedOpt){\n",
       "    let outputDiv = document.currentScript.previousElementSibling;\n",
       "    if (outputDiv.id !== \"altair-viz-2c76a2ce522148809809f18d6be4a221\") {\n",
       "      outputDiv = document.getElementById(\"altair-viz-2c76a2ce522148809809f18d6be4a221\");\n",
       "    }\n",
       "    const paths = {\n",
       "      \"vega\": \"https://cdn.jsdelivr.net/npm//vega@5?noext\",\n",
       "      \"vega-lib\": \"https://cdn.jsdelivr.net/npm//vega-lib?noext\",\n",
       "      \"vega-lite\": \"https://cdn.jsdelivr.net/npm//vega-lite@4.8.1?noext\",\n",
       "      \"vega-embed\": \"https://cdn.jsdelivr.net/npm//vega-embed@6?noext\",\n",
       "    };\n",
       "\n",
       "    function loadScript(lib) {\n",
       "      return new Promise(function(resolve, reject) {\n",
       "        var s = document.createElement('script');\n",
       "        s.src = paths[lib];\n",
       "        s.async = true;\n",
       "        s.onload = () => resolve(paths[lib]);\n",
       "        s.onerror = () => reject(`Error loading script: ${paths[lib]}`);\n",
       "        document.getElementsByTagName(\"head\")[0].appendChild(s);\n",
       "      });\n",
       "    }\n",
       "\n",
       "    function showError(err) {\n",
       "      outputDiv.innerHTML = `<div class=\"error\" style=\"color:red;\">${err}</div>`;\n",
       "      throw err;\n",
       "    }\n",
       "\n",
       "    function displayChart(vegaEmbed) {\n",
       "      vegaEmbed(outputDiv, spec, embedOpt)\n",
       "        .catch(err => showError(`Javascript Error: ${err.message}<br>This usually means there's a typo in your chart specification. See the javascript console for the full traceback.`));\n",
       "    }\n",
       "\n",
       "    if(typeof define === \"function\" && define.amd) {\n",
       "      requirejs.config({paths});\n",
       "      require([\"vega-embed\"], displayChart, err => showError(`Error loading script: ${err.message}`));\n",
       "    } else if (typeof vegaEmbed === \"function\") {\n",
       "      displayChart(vegaEmbed);\n",
       "    } else {\n",
       "      loadScript(\"vega\")\n",
       "        .then(() => loadScript(\"vega-lite\"))\n",
       "        .then(() => loadScript(\"vega-embed\"))\n",
       "        .catch(showError)\n",
       "        .then(() => displayChart(vegaEmbed));\n",
       "    }\n",
       "  })({\"config\": {\"view\": {\"continuousWidth\": 400, \"continuousHeight\": 300}}, \"data\": {\"name\": \"data-330d26ca88c660e34c636fd1b52a6eec\"}, \"mark\": \"line\", \"encoding\": {\"x\": {\"type\": \"quantitative\", \"field\": \"Iteration\"}, \"y\": {\"type\": \"quantitative\", \"field\": \"Validation Loss\", \"scale\": {\"domain\": [0.0, 2.5]}}}, \"$schema\": \"https://vega.github.io/schema/vega-lite/v4.8.1.json\", \"datasets\": {\"data-330d26ca88c660e34c636fd1b52a6eec\": [{\"Iteration\": 10, \"Validation Loss\": 2.184967517852783}, {\"Iteration\": 20, \"Validation Loss\": 2.0374460220336914}, {\"Iteration\": 30, \"Validation Loss\": 1.8915618658065796}, {\"Iteration\": 40, \"Validation Loss\": 1.77567720413208}, {\"Iteration\": 50, \"Validation Loss\": 1.642638921737671}, {\"Iteration\": 60, \"Validation Loss\": 1.5231029987335205}, {\"Iteration\": 70, \"Validation Loss\": 1.3499938249588013}, {\"Iteration\": 80, \"Validation Loss\": 1.1783982515335083}, {\"Iteration\": 90, \"Validation Loss\": 1.0336235761642456}, {\"Iteration\": 100, \"Validation Loss\": 0.9225605726242065}, {\"Iteration\": 110, \"Validation Loss\": 0.7990993857383728}, {\"Iteration\": 120, \"Validation Loss\": 0.6848658323287964}, {\"Iteration\": 130, \"Validation Loss\": 0.6068490743637085}, {\"Iteration\": 140, \"Validation Loss\": 0.5196830034255981}, {\"Iteration\": 150, \"Validation Loss\": 0.4538739323616028}, {\"Iteration\": 160, \"Validation Loss\": 0.40040281414985657}, {\"Iteration\": 170, \"Validation Loss\": 0.35792869329452515}, {\"Iteration\": 180, \"Validation Loss\": 0.3257487714290619}, {\"Iteration\": 190, \"Validation Loss\": 0.28248247504234314}, {\"Iteration\": 200, \"Validation Loss\": 0.260765939950943}, {\"Iteration\": 210, \"Validation Loss\": 0.24282844364643097}, {\"Iteration\": 220, \"Validation Loss\": 0.23205940425395966}, {\"Iteration\": 230, \"Validation Loss\": 0.2224251925945282}, {\"Iteration\": 240, \"Validation Loss\": 0.2194446176290512}, {\"Iteration\": 250, \"Validation Loss\": 0.214365154504776}, {\"Iteration\": 260, \"Validation Loss\": 0.21140678226947784}, {\"Iteration\": 270, \"Validation Loss\": 0.21254679560661316}, {\"Iteration\": 280, \"Validation Loss\": 0.2124822735786438}, {\"Iteration\": 290, \"Validation Loss\": 0.21234439313411713}, {\"Iteration\": 300, \"Validation Loss\": 0.21053139865398407}, {\"Iteration\": 310, \"Validation Loss\": 0.21280823647975922}, {\"Iteration\": 320, \"Validation Loss\": 0.21169888973236084}, {\"Iteration\": 330, \"Validation Loss\": 0.21252945065498352}, {\"Iteration\": 340, \"Validation Loss\": 0.2119559645652771}, {\"Iteration\": 350, \"Validation Loss\": 0.2119762897491455}, {\"Iteration\": 360, \"Validation Loss\": 0.21422694623470306}, {\"Iteration\": 370, \"Validation Loss\": 0.21453513205051422}, {\"Iteration\": 380, \"Validation Loss\": 0.21522216498851776}, {\"Iteration\": 390, \"Validation Loss\": 0.21670977771282196}, {\"Iteration\": 400, \"Validation Loss\": 0.21576276421546936}, {\"Iteration\": 410, \"Validation Loss\": 0.21652249991893768}, {\"Iteration\": 420, \"Validation Loss\": 0.21689459681510925}, {\"Iteration\": 430, \"Validation Loss\": 0.21846675872802734}, {\"Iteration\": 440, \"Validation Loss\": 0.21982896327972412}, {\"Iteration\": 450, \"Validation Loss\": 0.22103139758110046}, {\"Iteration\": 460, \"Validation Loss\": 0.22073841094970703}, {\"Iteration\": 470, \"Validation Loss\": 0.22117964923381805}, {\"Iteration\": 480, \"Validation Loss\": 0.22109153866767883}, {\"Iteration\": 490, \"Validation Loss\": 0.22109122574329376}, {\"Iteration\": 500, \"Validation Loss\": 0.22138172388076782}, {\"Iteration\": 510, \"Validation Loss\": 0.22239062190055847}, {\"Iteration\": 520, \"Validation Loss\": 0.2234669327735901}, {\"Iteration\": 530, \"Validation Loss\": 0.2241465449333191}, {\"Iteration\": 540, \"Validation Loss\": 0.22379904985427856}, {\"Iteration\": 550, \"Validation Loss\": 0.2234930694103241}, {\"Iteration\": 560, \"Validation Loss\": 0.22521789371967316}, {\"Iteration\": 570, \"Validation Loss\": 0.2257792055606842}, {\"Iteration\": 580, \"Validation Loss\": 0.22626590728759766}, {\"Iteration\": 590, \"Validation Loss\": 0.22512872517108917}, {\"Iteration\": 600, \"Validation Loss\": 0.22625115513801575}]}}, {\"mode\": \"vega-lite\"});\n",
       "</script>"
      ],
      "text/plain": [
       "alt.Chart(...)"
      ]
     },
     "execution_count": 285,
     "metadata": {},
     "output_type": "execute_result"
    }
   ],
   "source": [
    "data = pd.DataFrame({\n",
    "    'Iteration': step_list,\n",
    "    'Validation Loss': valid_loss_list\n",
    "})\n",
    "alt.Chart(data\n",
    ").mark_line().encode(alt.X('Iteration:Q'), alt.Y('Validation Loss:Q', scale=alt.Scale(domain=[0.0, 2.5])))\n",
    "\n"
   ]
  },
  {
   "cell_type": "markdown",
   "id": "intensive-stack",
   "metadata": {},
   "source": [
    "### using shap.GradientExplainer"
   ]
  },
  {
   "cell_type": "code",
   "execution_count": 283,
   "id": "oriented-block",
   "metadata": {},
   "outputs": [],
   "source": [
    "explainer=shap.GradientExplainer(model=model, data=torch.Tensor(X).to(device))\n",
    "shap_values=explainer.shap_values(torch.Tensor(X).to(device), nsamples=200)"
   ]
  },
  {
   "cell_type": "code",
   "execution_count": 286,
   "id": "written-heath",
   "metadata": {},
   "outputs": [
    {
     "data": {
      "image/png": "[encoded data removed]",
      "text/plain": [
       "<Figure size 576x194.4 with 2 Axes>"
      ]
     },
     "metadata": {
      "needs_background": "light"
     },
     "output_type": "display_data"
    }
   ],
   "source": [
    "shap.summary_plot(shap_values, X)"
   ]
  },
  {
   "cell_type": "markdown",
   "id": "military-partner",
   "metadata": {},
   "source": [
    "### using implemented explainer"
   ]
  },
  {
   "cell_type": "code",
   "execution_count": 287,
   "id": "worldwide-satin",
   "metadata": {},
   "outputs": [],
   "source": [
    "explainer_temp = AttributionPriorExplainer(dataset[:][0], batch_size=5, k=200)\n",
    "\n",
    "temp_dataloader=DataLoader(dataset=dataset, batch_size=5, shuffle=True, drop_last=True)\n",
    "\n",
    "eg_list=[]\n",
    "x_list=[]\n",
    "for i, (x, y_true) in enumerate(temp_dataloader):\n",
    "    x, y_true= x.float().to(device), y_true.float().to(device)\n",
    "\n",
    "    eg_temp=explainer_temp.attribution(model, x)\n",
    "    eg_list.append(eg_temp.detach().cpu().numpy())\n",
    "    x_list.append(x.detach().cpu().numpy())\n",
    "eg_list_concat=np.concatenate(eg_list)\n",
    "x_list_concat=np.concatenate(x_list)    "
   ]
  },
  {
   "cell_type": "code",
   "execution_count": 289,
   "id": "pharmaceutical-growing",
   "metadata": {},
   "outputs": [
    {
     "data": {
      "image/png": "[encoded data removed]",
      "text/plain": [
       "<Figure size 576x194.4 with 2 Axes>"
      ]
     },
     "metadata": {
      "needs_background": "light"
     },
     "output_type": "display_data"
    }
   ],
   "source": [
    "shap.summary_plot(eg_list_concat, x_list_concat)"
   ]
  },
  {
   "cell_type": "markdown",
   "id": "selective-bottom",
   "metadata": {},
   "source": [
    "## train without an attribution prior"
   ]
  },
  {
   "cell_type": "code",
   "execution_count": 292,
   "id": "mysterious-imaging",
   "metadata": {},
   "outputs": [
    {
     "name": "stdout",
     "output_type": "stream",
     "text": [
      "MSE: 0.28417477011680603\n"
     ]
    }
   ],
   "source": [
    "device=torch.device('cuda')\n",
    "model=CustomModel().to(device)\n",
    "\n",
    "\n",
    "explainer = AttributionPriorExplainer(train_dataset[:][0], batch_size=batch_size, k=1)\n",
    "explainer_valid = AttributionPriorExplainer(valid_dataset[:][0], batch_size=100, k=1)\n",
    "\n",
    "optimizer=torch.optim.SGD(model.parameters(), lr=1e-2, momentum=0, dampening=0)\n",
    "\n",
    "loss_func = torch.nn.MSELoss()\n",
    "\n",
    "batch_count=0\n",
    "valid_loss_list=[]\n",
    "step_list=[]\n",
    "for epoch in range(15):\n",
    "    for i, (x, y_true) in enumerate(train_dataloader):\n",
    "        batch_count+=1\n",
    "\n",
    "        x, y_true= x.float().to(device), y_true.float().to(device)\n",
    "        optimizer.zero_grad()\n",
    "\n",
    "        y_pred=model(x)\n",
    "        \n",
    "        eg=explainer.attribution(model, x)\n",
    "        \n",
    "        loss=loss_func(y_pred, y_true)# + 30*(eg*eg)[:,2].mean()\n",
    "\n",
    "        loss.backward()\n",
    "        optimizer.step()\n",
    "        \n",
    "        if batch_count%10==0:\n",
    "            valid_loss=[]\n",
    "            for i, (x, y_true) in enumerate(valid_dataloader):\n",
    "\n",
    "                x, y_true= x.float().to(device), y_true.float().to(device)\n",
    "\n",
    "                y_pred = model(x)\n",
    "                loss=loss_func(y_pred, y_true)\n",
    "                valid_loss.append(loss.item())\n",
    "\n",
    "                eg=explainer_valid.attribution(model,x)\n",
    "\n",
    "                #print(eg.abs().mean(axis=0).detach().cpu())\n",
    "\n",
    "            valid_loss_list.append(np.mean(valid_loss))\n",
    "            step_list.append(batch_count)\n",
    "\n",
    "                    \n",
    "test_loss=[]                    \n",
    "for i, (x, y_true) in enumerate(test_dataloader):\n",
    "\n",
    "    x, y_true= x.float().to(device), y_true.float().to(device)\n",
    "\n",
    "    y_pred = model(x)\n",
    "    loss=loss_func(y_pred, y_true)\n",
    "    test_loss.append(loss.item())\n",
    "    \n",
    "print('MSE:',np.mean(test_loss))"
   ]
  },
  {
   "cell_type": "code",
   "execution_count": 293,
   "id": "bored-promise",
   "metadata": {},
   "outputs": [
    {
     "data": {
      "text/html": [
       "\n",
       "<div id=\"altair-viz-d1ce6b62b4164772a6e3a627c91e6263\"></div>\n",
       "<script type=\"text/javascript\">\n",
       "  (function(spec, embedOpt){\n",
       "    let outputDiv = document.currentScript.previousElementSibling;\n",
       "    if (outputDiv.id !== \"altair-viz-d1ce6b62b4164772a6e3a627c91e6263\") {\n",
       "      outputDiv = document.getElementById(\"altair-viz-d1ce6b62b4164772a6e3a627c91e6263\");\n",
       "    }\n",
       "    const paths = {\n",
       "      \"vega\": \"https://cdn.jsdelivr.net/npm//vega@5?noext\",\n",
       "      \"vega-lib\": \"https://cdn.jsdelivr.net/npm//vega-lib?noext\",\n",
       "      \"vega-lite\": \"https://cdn.jsdelivr.net/npm//vega-lite@4.8.1?noext\",\n",
       "      \"vega-embed\": \"https://cdn.jsdelivr.net/npm//vega-embed@6?noext\",\n",
       "    };\n",
       "\n",
       "    function loadScript(lib) {\n",
       "      return new Promise(function(resolve, reject) {\n",
       "        var s = document.createElement('script');\n",
       "        s.src = paths[lib];\n",
       "        s.async = true;\n",
       "        s.onload = () => resolve(paths[lib]);\n",
       "        s.onerror = () => reject(`Error loading script: ${paths[lib]}`);\n",
       "        document.getElementsByTagName(\"head\")[0].appendChild(s);\n",
       "      });\n",
       "    }\n",
       "\n",
       "    function showError(err) {\n",
       "      outputDiv.innerHTML = `<div class=\"error\" style=\"color:red;\">${err}</div>`;\n",
       "      throw err;\n",
       "    }\n",
       "\n",
       "    function displayChart(vegaEmbed) {\n",
       "      vegaEmbed(outputDiv, spec, embedOpt)\n",
       "        .catch(err => showError(`Javascript Error: ${err.message}<br>This usually means there's a typo in your chart specification. See the javascript console for the full traceback.`));\n",
       "    }\n",
       "\n",
       "    if(typeof define === \"function\" && define.amd) {\n",
       "      requirejs.config({paths});\n",
       "      require([\"vega-embed\"], displayChart, err => showError(`Error loading script: ${err.message}`));\n",
       "    } else if (typeof vegaEmbed === \"function\") {\n",
       "      displayChart(vegaEmbed);\n",
       "    } else {\n",
       "      loadScript(\"vega\")\n",
       "        .then(() => loadScript(\"vega-lite\"))\n",
       "        .then(() => loadScript(\"vega-embed\"))\n",
       "        .catch(showError)\n",
       "        .then(() => displayChart(vegaEmbed));\n",
       "    }\n",
       "  })({\"config\": {\"view\": {\"continuousWidth\": 400, \"continuousHeight\": 300}}, \"data\": {\"name\": \"data-5c465bf43252d5c19f4c4b523982d3b5\"}, \"mark\": \"line\", \"encoding\": {\"x\": {\"type\": \"quantitative\", \"field\": \"Iteration\"}, \"y\": {\"type\": \"quantitative\", \"field\": \"Validation Loss\", \"scale\": {\"domain\": [0.0, 2.5]}}}, \"$schema\": \"https://vega.github.io/schema/vega-lite/v4.8.1.json\", \"datasets\": {\"data-5c465bf43252d5c19f4c4b523982d3b5\": [{\"Iteration\": 10, \"Validation Loss\": 1.928336501121521}, {\"Iteration\": 20, \"Validation Loss\": 1.7443113327026367}, {\"Iteration\": 30, \"Validation Loss\": 1.5886762142181396}, {\"Iteration\": 40, \"Validation Loss\": 1.3929880857467651}, {\"Iteration\": 50, \"Validation Loss\": 1.1991711854934692}, {\"Iteration\": 60, \"Validation Loss\": 1.0039989948272705}, {\"Iteration\": 70, \"Validation Loss\": 0.8363227844238281}, {\"Iteration\": 80, \"Validation Loss\": 0.6866224408149719}, {\"Iteration\": 90, \"Validation Loss\": 0.5640023946762085}, {\"Iteration\": 100, \"Validation Loss\": 0.46620622277259827}, {\"Iteration\": 110, \"Validation Loss\": 0.4108719229698181}, {\"Iteration\": 120, \"Validation Loss\": 0.3585785925388336}, {\"Iteration\": 130, \"Validation Loss\": 0.3289390206336975}, {\"Iteration\": 140, \"Validation Loss\": 0.3188410997390747}, {\"Iteration\": 150, \"Validation Loss\": 0.30388304591178894}, {\"Iteration\": 160, \"Validation Loss\": 0.2976183295249939}, {\"Iteration\": 170, \"Validation Loss\": 0.29410675168037415}, {\"Iteration\": 180, \"Validation Loss\": 0.28926917910575867}, {\"Iteration\": 190, \"Validation Loss\": 0.2869860529899597}, {\"Iteration\": 200, \"Validation Loss\": 0.28653988242149353}, {\"Iteration\": 210, \"Validation Loss\": 0.2847367525100708}, {\"Iteration\": 220, \"Validation Loss\": 0.28307533264160156}, {\"Iteration\": 230, \"Validation Loss\": 0.2831917405128479}, {\"Iteration\": 240, \"Validation Loss\": 0.28264719247817993}, {\"Iteration\": 250, \"Validation Loss\": 0.28214141726493835}, {\"Iteration\": 260, \"Validation Loss\": 0.27879011631011963}, {\"Iteration\": 270, \"Validation Loss\": 0.2796487510204315}, {\"Iteration\": 280, \"Validation Loss\": 0.2784554064273834}, {\"Iteration\": 290, \"Validation Loss\": 0.2786526083946228}, {\"Iteration\": 300, \"Validation Loss\": 0.27781206369400024}, {\"Iteration\": 310, \"Validation Loss\": 0.27564600110054016}, {\"Iteration\": 320, \"Validation Loss\": 0.27442866563796997}, {\"Iteration\": 330, \"Validation Loss\": 0.2734379768371582}, {\"Iteration\": 340, \"Validation Loss\": 0.27337855100631714}, {\"Iteration\": 350, \"Validation Loss\": 0.2731385827064514}, {\"Iteration\": 360, \"Validation Loss\": 0.27077141404151917}, {\"Iteration\": 370, \"Validation Loss\": 0.2689010798931122}, {\"Iteration\": 380, \"Validation Loss\": 0.2714554965496063}, {\"Iteration\": 390, \"Validation Loss\": 0.27110594511032104}, {\"Iteration\": 400, \"Validation Loss\": 0.2670726776123047}, {\"Iteration\": 410, \"Validation Loss\": 0.26483917236328125}, {\"Iteration\": 420, \"Validation Loss\": 0.2660204768180847}, {\"Iteration\": 430, \"Validation Loss\": 0.2658556401729584}, {\"Iteration\": 440, \"Validation Loss\": 0.26442471146583557}, {\"Iteration\": 450, \"Validation Loss\": 0.26216810941696167}, {\"Iteration\": 460, \"Validation Loss\": 0.2606826424598694}, {\"Iteration\": 470, \"Validation Loss\": 0.26104629039764404}, {\"Iteration\": 480, \"Validation Loss\": 0.26190000772476196}, {\"Iteration\": 490, \"Validation Loss\": 0.25873324275016785}, {\"Iteration\": 500, \"Validation Loss\": 0.25950559973716736}, {\"Iteration\": 510, \"Validation Loss\": 0.2607499361038208}, {\"Iteration\": 520, \"Validation Loss\": 0.25877487659454346}, {\"Iteration\": 530, \"Validation Loss\": 0.2579386532306671}, {\"Iteration\": 540, \"Validation Loss\": 0.257194846868515}, {\"Iteration\": 550, \"Validation Loss\": 0.25702306628227234}, {\"Iteration\": 560, \"Validation Loss\": 0.25611642003059387}, {\"Iteration\": 570, \"Validation Loss\": 0.2542525827884674}, {\"Iteration\": 580, \"Validation Loss\": 0.2535788416862488}, {\"Iteration\": 590, \"Validation Loss\": 0.25377169251441956}, {\"Iteration\": 600, \"Validation Loss\": 0.254547119140625}]}}, {\"mode\": \"vega-lite\"});\n",
       "</script>"
      ],
      "text/plain": [
       "alt.Chart(...)"
      ]
     },
     "execution_count": 293,
     "metadata": {},
     "output_type": "execute_result"
    }
   ],
   "source": [
    "data = pd.DataFrame({\n",
    "    'Iteration': step_list,\n",
    "    'Validation Loss': valid_loss_list\n",
    "})\n",
    "alt.Chart(data\n",
    ").mark_line().encode(alt.X('Iteration:Q'), alt.Y('Validation Loss:Q', scale=alt.Scale(domain=[0.0, 2.5])))\n",
    "\n"
   ]
  },
  {
   "cell_type": "markdown",
   "id": "worldwide-gibson",
   "metadata": {},
   "source": [
    "### using shap.GradientExplainer"
   ]
  },
  {
   "cell_type": "code",
   "execution_count": 294,
   "id": "related-baseball",
   "metadata": {},
   "outputs": [],
   "source": [
    "explainer=shap.GradientExplainer(model=model, data=torch.Tensor(X).to(device))\n",
    "shap_values=explainer.shap_values(torch.Tensor(X).to(device), nsamples=200)"
   ]
  },
  {
   "cell_type": "code",
   "execution_count": 295,
   "id": "south-litigation",
   "metadata": {},
   "outputs": [
    {
     "data": {
      "image/png": "[encoded data removed]",
      "text/plain": [
       "<Figure size 576x194.4 with 2 Axes>"
      ]
     },
     "metadata": {
      "needs_background": "light"
     },
     "output_type": "display_data"
    }
   ],
   "source": [
    "shap.summary_plot(shap_values, X)"
   ]
  },
  {
   "cell_type": "markdown",
   "id": "considerable-mechanics",
   "metadata": {},
   "source": [
    "### using implemented explainer"
   ]
  },
  {
   "cell_type": "code",
   "execution_count": 296,
   "id": "marine-programmer",
   "metadata": {},
   "outputs": [],
   "source": [
    "explainer_temp = AttributionPriorExplainer(dataset[:][0], batch_size=5, k=200)\n",
    "\n",
    "temp_dataloader=DataLoader(dataset=dataset, batch_size=5, shuffle=True, drop_last=True)\n",
    "\n",
    "eg_list=[]\n",
    "x_list=[]\n",
    "for i, (x, y_true) in enumerate(temp_dataloader):\n",
    "    x, y_true= x.float().to(device), y_true.float().to(device)\n",
    "\n",
    "    eg_temp=explainer_temp.attribution(model, x)\n",
    "    eg_list.append(eg_temp.detach().cpu().numpy())\n",
    "    x_list.append(x.detach().cpu().numpy())\n",
    "eg_list_concat=np.concatenate(eg_list)\n",
    "x_list_concat=np.concatenate(x_list)    "
   ]
  },
  {
   "cell_type": "code",
   "execution_count": 297,
   "id": "rough-contract",
   "metadata": {},
   "outputs": [
    {
     "data": {
      "image/png": "[encoded data removed]",
      "text/plain": [
       "<Figure size 576x194.4 with 2 Axes>"
      ]
     },
     "metadata": {
      "needs_background": "light"
     },
     "output_type": "display_data"
    }
   ],
   "source": [
    "shap.summary_plot(eg_list_concat, x_list_concat)"
   ]
  },
  {
   "cell_type": "markdown",
   "id": "greek-begin",
   "metadata": {},
   "source": [
    "# MNIST"
   ]
  },
  {
   "cell_type": "markdown",
   "id": "intellectual-warrant",
   "metadata": {},
   "source": [
    "## download dataset"
   ]
  },
  {
   "cell_type": "code",
   "execution_count": 15,
   "id": "nonprofit-lounge",
   "metadata": {},
   "outputs": [],
   "source": [
    "train_dataset=torchvision.datasets.MNIST('./data', train=True, download=True, transform=transforms.Compose([transforms.RandomRotation([-15,15], fill = (0,)),\n",
    "                                                                                                            transforms.RandomAffine(degrees=0, translate=(4/28,4/28), fillcolor=0),\n",
    "                                                                                                            transforms.ToTensor(),\n",
    "                                                                                                            transforms.Normalize(mean=(0.5,), std=(1,)),\n",
    "                                                                                                            ]))\n",
    "train_dataset=Subset(train_dataset,range(5000,len(train_dataset)))\n",
    "\n",
    "valid_dataset=torchvision.datasets.MNIST('./data', train=True, download=True, transform=transforms.Compose([transforms.ToTensor(),\n",
    "                                                                                                            transforms.Normalize(mean=(0.5,), std=(1,)),\n",
    "                                                                                                            ]))\n",
    "valid_dataset=Subset(valid_dataset,range(5000))\n",
    "\n",
    "test_dataset=torchvision.datasets.MNIST('./data', train=False, download=True, transform=transforms.Compose([transforms.ToTensor(),\n",
    "                                                                                                            transforms.Normalize(mean=(0.5,), std=(1,)),\n",
    "                                                                                                            ]))"
   ]
  },
  {
   "cell_type": "code",
   "execution_count": 16,
   "id": "whole-lobby",
   "metadata": {},
   "outputs": [],
   "source": [
    "train_dataloader=DataLoader(train_dataset, shuffle=True, drop_last=True, batch_size=50)\n",
    "valid_dataloader=DataLoader(valid_dataset, shuffle=False, drop_last=True, batch_size=50)\n",
    "test_dataloader=DataLoader(test_dataset, shuffle=False, drop_last=True, batch_size=50)"
   ]
  },
  {
   "cell_type": "code",
   "execution_count": 18,
   "id": "chubby-endorsement",
   "metadata": {},
   "outputs": [],
   "source": [
    "class MNISTModel(torch.nn.Module):\n",
    "    def __init__(self):\n",
    "        super(MNISTModel,self).__init__()\n",
    "        \n",
    "        \n",
    "        layer1_conv=torch.nn.Conv2d(in_channels=1, out_channels=32, kernel_size=5, padding=int((5-1)/2));torch.nn.init.xavier_uniform_(layer1_conv.weight);torch.nn.init.zeros_(layer1_conv.bias);    \n",
    "        layer1_batchnorm=torch.nn.BatchNorm2d(num_features=32, momentum=0.1)\n",
    "        layer1_activation=torch.nn.ReLU()\n",
    "        layer1_maxpool=torch.nn.MaxPool2d(kernel_size=2, padding=0)\n",
    "        \n",
    "        layer2_conv=torch.nn.Conv2d(in_channels=32, out_channels=64, kernel_size=5, padding=int((5-1)/2));torch.nn.init.xavier_uniform_(layer2_conv.weight);torch.nn.init.zeros_(layer2_conv.bias);    \n",
    "        layer2_batchnorm=torch.nn.BatchNorm2d(num_features=64, momentum=0.1)\n",
    "        layer2_activation=torch.nn.ReLU()\n",
    "        layer2_maxpool=torch.nn.MaxPool2d(kernel_size=2, padding=0)        \n",
    "        \n",
    "        layer3_flatten=torch.nn.Flatten()\n",
    "        layer3_fc=torch.nn.Linear(3136,1024);torch.nn.init.xavier_uniform_(layer3_fc.weight);torch.nn.init.zeros_(layer3_fc.bias);\n",
    "        layer3_activation=torch.nn.ReLU()\n",
    "        layer3_dropout=torch.nn.Dropout(p=0.5)\n",
    "        \n",
    "        layer4_fc=torch.nn.Linear(1024, 10)\n",
    "        \n",
    "        \n",
    "        self.layers=torch.nn.Sequential(layer1_conv, layer1_batchnorm, layer1_activation, layer1_maxpool,\n",
    "                                        layer2_conv, layer2_batchnorm, layer2_activation, layer2_maxpool,\n",
    "                                        layer3_flatten, layer3_fc, layer3_activation, layer3_dropout,\n",
    "                                        layer4_fc)\n",
    "        #print(dir(self.layers))\n",
    "        #print(self.layers._get_name())\n",
    "        \n",
    "    def forward(self,x):\n",
    "        x=self.layers(x)\n",
    "        return x\n",
    "    \n"
   ]
  },
  {
   "cell_type": "code",
   "execution_count": 20,
   "id": "japanese-bennett",
   "metadata": {},
   "outputs": [],
   "source": [
    "device=torch.device('cuda')\n",
    "model=MNISTModel().to(device)"
   ]
  },
  {
   "cell_type": "code",
   "execution_count": 64,
   "id": "split-spring",
   "metadata": {
    "scrolled": true
   },
   "outputs": [
    {
     "data": {
      "text/plain": [
       "55000"
      ]
     },
     "execution_count": 64,
     "metadata": {},
     "output_type": "execute_result"
    }
   ],
   "source": [
    "len(train_dataset)"
   ]
  },
  {
   "cell_type": "code",
   "execution_count": 94,
   "id": "judicial-homeless",
   "metadata": {},
   "outputs": [],
   "source": [
    "optimizer1 = torch.optim.Adam(model.parameters(), lr=1e-4)\n",
    "scheduler1 = torch.optim.lr_scheduler.ExponentialLR(optimizer=optimizer1, gamma=0.95)\n",
    "#scheduler1 = torch.optim.lr_scheduler.StepLR(optimizer1, step_size=5, gamma=0.5)"
   ]
  },
  {
   "cell_type": "code",
   "execution_count": 38,
   "id": "female-heaven",
   "metadata": {},
   "outputs": [],
   "source": [
    "global_step=0\n",
    "\n",
    "for epoch in range(60):\n",
    "    for i, (images, labels) in enumerate(train_loader):\n",
    "        optimizer.zero_grad()\n",
    "        \n",
    "        \n",
    "        optimizer.step()\n",
    "        \n",
    "        \n",
    "        global_step+=1\n",
    "        if (global_step*50)%60000==0:\n",
    "            pass\n",
    "    scheduler1.step()\n",
    "        \n",
    "        \n",
    "    "
   ]
  },
  {
   "cell_type": "code",
   "execution_count": 103,
   "id": "czech-constraint",
   "metadata": {},
   "outputs": [
    {
     "data": {
      "text/plain": [
       "False"
      ]
     },
     "execution_count": 103,
     "metadata": {},
     "output_type": "execute_result"
    }
   ],
   "source": [
    "optimizer1.param_groups[0]['amsgrad']"
   ]
  },
  {
   "cell_type": "code",
   "execution_count": 98,
   "id": "criminal-telescope",
   "metadata": {},
   "outputs": [],
   "source": [
    "optimizer2 = torch.optim.Adam(model.parameters(), lr=1e-4)\n",
    "scheduler2 = torch.optim.lr_scheduler.ExponentialLR(optimizer=optimizer2, gamma=0.95)\n",
    "#scheduler1 = torch.optim.lr_scheduler.StepLR(optimizer1, step_size=5, gamma=0.5)"
   ]
  },
  {
   "cell_type": "code",
   "execution_count": 99,
   "id": "genuine-architecture",
   "metadata": {},
   "outputs": [
    {
     "data": {
      "text/plain": [
       "Parameter containing:\n",
       "tensor([-0.0015,  0.0211,  0.0202, -0.0191, -0.0076,  0.0261,  0.0183,  0.0278,\n",
       "        -0.0307, -0.0147], device='cuda:0', requires_grad=True)"
      ]
     },
     "execution_count": 99,
     "metadata": {},
     "output_type": "execute_result"
    }
   ],
   "source": [
    "optimizer2.param_groups[0]['params'][-1]"
   ]
  },
  {
   "cell_type": "code",
   "execution_count": 96,
   "id": "regional-algebra",
   "metadata": {},
   "outputs": [
    {
     "data": {
      "text/plain": [
       "1"
      ]
     },
     "execution_count": 96,
     "metadata": {},
     "output_type": "execute_result"
    }
   ],
   "source": [
    "len(optimizer1.param_groups)"
   ]
  },
  {
   "cell_type": "code",
   "execution_count": 70,
   "id": "central-pizza",
   "metadata": {},
   "outputs": [
    {
     "data": {
      "text/plain": [
       "[9.5e-05]"
      ]
     },
     "execution_count": 70,
     "metadata": {},
     "output_type": "execute_result"
    }
   ],
   "source": [
    "scheduler1.get_last_lr()"
   ]
  },
  {
   "cell_type": "code",
   "execution_count": 71,
   "id": "utility-border",
   "metadata": {},
   "outputs": [],
   "source": [
    "scheduler1.step()"
   ]
  },
  {
   "cell_type": "code",
   "execution_count": 72,
   "id": "formed-listing",
   "metadata": {},
   "outputs": [
    {
     "data": {
      "text/plain": [
       "0.0001"
      ]
     },
     "execution_count": 72,
     "metadata": {},
     "output_type": "execute_result"
    }
   ],
   "source": [
    "optimizer1.param_groups[0]['initial_lr']"
   ]
  },
  {
   "cell_type": "code",
   "execution_count": 73,
   "id": "suburban-cleaners",
   "metadata": {},
   "outputs": [
    {
     "data": {
      "text/plain": [
       "9.025e-05"
      ]
     },
     "execution_count": 73,
     "metadata": {},
     "output_type": "execute_result"
    }
   ],
   "source": [
    "optimizer1.param_groups[0]['lr']"
   ]
  },
  {
   "cell_type": "code",
   "execution_count": 63,
   "id": "close-institute",
   "metadata": {},
   "outputs": [
    {
     "data": {
      "text/plain": [
       "Dataset MNIST\n",
       "    Number of datapoints: 10000\n",
       "    Root location: ./data\n",
       "    Split: Test\n",
       "    StandardTransform\n",
       "Transform: Compose(\n",
       "               ToTensor()\n",
       "               Normalize(mean=(0.5,), std=(1,))\n",
       "           )"
      ]
     },
     "execution_count": 63,
     "metadata": {},
     "output_type": "execute_result"
    }
   ],
   "source": [
    "test_dataset"
   ]
  },
  {
   "cell_type": "code",
   "execution_count": null,
   "id": "phantom-drove",
   "metadata": {},
   "outputs": [],
   "source": [
    "device=torch.device('cuda')\n",
    "\n",
    "convergence_list1_list_eg=[]\n",
    "convergence_list2_list_eg=[]\n",
    "convergence_list3_list_eg=[]\n",
    "\n",
    "for k in [1,2,3,4,5]:\n",
    "\n",
    "    print('k =',k)\n",
    "    \n",
    "    model=MLP().to(device)\n",
    "    \n",
    "    with torch.no_grad():\n",
    "        model.layers[0].weight[0,0]=10\n",
    "        model.layers[0].weight[0,1]=10\n",
    "        model.layers[0].bias[0]=-6\n",
    "        \n",
    "    x_zeros = torch.ones_like(x_train[:,:])\n",
    "    background_dataset = BinaryData(x_zeros)\n",
    "\n",
    "    explainer = AttributionPriorExplainer(background_dataset, 64, k=k)        \n",
    "        \n",
    "\n",
    "    optimizer = torch.optim.Adam(model.parameters(), lr=1e-2)\n",
    "    bce_term = torch.nn.BCELoss()\n",
    "    \n",
    "    train_loss_list_mean_list=[]\n",
    "    \n",
    "    convergence_list1=[]\n",
    "    convergence_list2=[]\n",
    "    convergence_list3=[]\n",
    "        \n",
    "    for epoch in range(200):\n",
    "        \n",
    "        train_loss_list=[]\n",
    "        \n",
    "        for i, (x, y_true) in enumerate(train_loader):\n",
    "            x, y_true= x.float().to(device), y_true.float().to(device)\n",
    "            optimizer.zero_grad()\n",
    "            \n",
    "            y_pred=model(x)\n",
    "            \n",
    "            eg=explainer.attribution(model, x)\n",
    "            eg_abs_mean=eg.abs().mean(0)\n",
    "            \n",
    "            loss=bce_term(y_pred, y_true.unsqueeze(1)) + eg_abs_mean[1]\n",
    "            \n",
    "            loss.backward(retain_graph=True)\n",
    "            optimizer.step()\n",
    "            train_loss_list.append(loss.item())\n",
    "            \n",
    "        train_loss_list_mean=np.mean(train_loss_list)\n",
    "        \n",
    "        train_loss_list_mean_list.append(train_loss_list_mean)\n",
    "        convergence_list1.append(calculate_dependence(model)[0])\n",
    "        convergence_list2.append(calculate_dependence(model)[1])\n",
    "        convergence_list3.append(calculate_dependence(model)[2])\n",
    "        \n",
    "    convergence_list1_list_eg.append(convergence_list1)\n",
    "    convergence_list2_list_eg.append(convergence_list2)\n",
    "    convergence_list3_list_eg.append(convergence_list3)"
   ]
  },
  {
   "cell_type": "code",
   "execution_count": 12,
   "id": "orange-stable",
   "metadata": {},
   "outputs": [
    {
     "data": {
      "text/plain": [
       "(tensor([[ 1.7051e-01, -9.0027e-01,  2.6485e-01,  1.3276e-01,  6.8088e-01,\n",
       "           2.0468e-01, -8.0064e-01,  1.8387e-01,  1.1786e+00,  4.3168e-01],\n",
       "         [ 4.9254e-01,  1.9631e-01,  1.5949e-01,  1.0267e+00,  6.4631e-03,\n",
       "           5.1652e-01,  5.7739e-01,  1.1331e+00, -8.5396e-02, -1.7443e-01],\n",
       "         [-5.7186e-01,  7.6871e-01, -3.6368e-01,  2.0005e-01,  3.9858e-01,\n",
       "           4.4502e-01, -4.5243e-02,  3.9672e-01,  1.6317e+00,  5.1657e-01],\n",
       "         [ 6.1337e-01, -2.5391e-01, -1.7952e-01, -8.8335e-02, -8.0266e-01,\n",
       "          -8.2843e-01, -1.5498e-01,  1.1513e+00, -2.6314e-01,  1.3754e-02],\n",
       "         [ 9.9703e-01,  8.4184e-01, -2.5169e-01,  2.1888e-01,  1.5385e-01,\n",
       "          -1.6915e-01,  1.9417e-01,  4.9207e-01,  1.3116e-01,  3.8430e-01],\n",
       "         [ 3.2576e-01,  5.1697e-01, -5.6247e-01, -7.2443e-01, -7.0746e-01,\n",
       "           1.1664e+00, -1.0313e+00,  4.8841e-01,  1.4285e+00, -5.7030e-02],\n",
       "         [ 1.8233e-01, -9.9167e-02, -7.5018e-01, -3.1680e-01, -3.9804e-01,\n",
       "           2.1690e-01,  2.7149e-01,  1.1633e+00, -7.6086e-01,  6.7615e-01],\n",
       "         [ 1.3677e-01,  1.8078e-01, -8.2962e-01,  5.8471e-02, -6.5303e-01,\n",
       "           7.1539e-02, -5.1973e-02,  1.1411e+00, -5.2098e-01,  8.6629e-01],\n",
       "         [ 4.6097e-01,  5.1878e-03,  1.0582e+00, -1.9703e-01,  4.1929e-01,\n",
       "          -3.4263e-03,  3.8300e-03,  5.2827e-01,  2.1867e-01,  3.0677e-01],\n",
       "         [-4.0520e-02, -6.4433e-01, -1.5106e+00, -5.6980e-01,  3.9977e-01,\n",
       "           2.2826e-02,  1.9895e-01,  2.4152e-01,  1.7411e+00,  5.5421e-01],\n",
       "         [ 1.2135e+00,  2.8437e-01,  5.6831e-02, -5.7404e-01,  1.1509e+00,\n",
       "           4.1573e-01,  4.7929e-02,  6.5373e-01,  1.7732e-04,  1.4656e-01],\n",
       "         [ 1.5742e-01, -5.8880e-01, -3.3870e-01,  3.8106e-01,  7.8710e-01,\n",
       "           1.2266e-01, -1.5167e-01,  1.2846e+00,  2.5908e-01,  3.3730e-01],\n",
       "         [ 2.9272e-01, -8.9801e-02, -1.4435e+00, -1.1611e+00,  3.0734e-01,\n",
       "           5.7664e-01,  8.0941e-01,  1.3406e+00,  1.1392e+00, -2.0388e-01],\n",
       "         [ 7.1183e-01, -1.5866e-01, -2.0705e-02,  2.0437e-01,  1.6932e-01,\n",
       "           6.8870e-01, -2.1168e-01,  4.1497e-01,  1.3327e+00,  6.4341e-01],\n",
       "         [ 8.6863e-02,  4.7396e-02, -7.8728e-01,  6.7203e-01, -2.4610e-01,\n",
       "          -4.0319e-01,  2.1174e-01,  3.0159e-01,  4.1430e-01,  7.0423e-01],\n",
       "         [ 1.1657e+00, -1.9986e-01, -1.2224e+00, -6.7778e-01, -2.4254e-01,\n",
       "           3.1497e-01,  6.8133e-01,  1.1743e+00,  7.7911e-01,  7.1951e-01],\n",
       "         [ 3.1266e-01, -9.8148e-01, -7.5132e-02, -4.3909e-01,  4.6019e-01,\n",
       "           9.3469e-01,  1.4285e+00,  6.7470e-01, -5.1923e-01,  1.0380e+00],\n",
       "         [ 8.4417e-01,  2.7758e-02, -7.2551e-01,  3.1870e-01,  6.6096e-02,\n",
       "           1.7608e+00,  4.7599e-01,  9.1385e-01,  3.7130e-01,  1.6023e+00],\n",
       "         [ 1.9548e-01, -5.9429e-01, -1.3027e+00, -4.3252e-01,  3.2499e-02,\n",
       "           1.6671e-01,  1.8415e-01,  9.9261e-01,  7.5552e-01,  8.6215e-01],\n",
       "         [ 2.1221e-01, -1.6642e-01,  5.1211e-01, -1.7111e-01,  6.7265e-01,\n",
       "           1.1237e+00, -2.4217e-01,  4.0117e-01,  5.1348e-01,  2.0780e+00],\n",
       "         [ 4.8529e-01,  6.9454e-01, -3.1854e-01,  5.6569e-01,  8.7477e-01,\n",
       "          -2.1222e-01, -5.4924e-01, -3.8684e-01,  5.6913e-01,  8.2935e-01],\n",
       "         [ 1.0108e+00, -1.2214e-01, -1.2209e-01, -1.4854e-01,  3.3371e-01,\n",
       "           1.2977e+00, -1.5100e+00,  8.7620e-01,  1.1452e+00,  5.2239e-01],\n",
       "         [-3.6680e-01, -7.9951e-01, -3.3311e-01,  1.8672e-01, -3.8991e-01,\n",
       "          -1.3263e-01,  9.2284e-01,  3.4533e-01,  8.9579e-01,  5.4414e-01],\n",
       "         [ 2.3301e-01, -3.2849e-01, -4.4561e-01,  1.5811e-01, -6.3072e-01,\n",
       "          -5.9891e-01,  8.5701e-01,  8.5956e-01,  9.2263e-01,  2.2470e-01],\n",
       "         [ 7.6999e-01, -1.6999e-01,  1.2256e-01, -6.9417e-01, -2.0818e-01,\n",
       "          -1.9522e-02,  7.5822e-01,  4.9416e-01,  1.6680e+00,  5.8796e-01],\n",
       "         [ 8.5434e-01, -5.5768e-01, -3.2496e-01, -2.3311e-01,  4.4469e-01,\n",
       "          -4.3205e-01, -2.1643e-01,  1.0198e+00,  3.8702e-01,  6.3143e-01],\n",
       "         [-4.5720e-01, -2.1316e-01, -7.9977e-01, -7.6975e-01,  8.6973e-02,\n",
       "           1.1845e+00,  9.1062e-02,  1.6436e+00,  1.1257e+00,  6.7059e-01],\n",
       "         [ 2.1987e-01,  5.5640e-01, -5.9733e-01, -6.0715e-01,  9.1471e-01,\n",
       "           3.9600e-01, -4.4409e-01,  4.3965e-01,  5.5195e-01,  2.4663e+00],\n",
       "         [-2.4693e-01, -1.0276e+00, -1.0778e-01,  1.3789e-01, -1.0079e-01,\n",
       "          -3.6789e-01, -8.8230e-01, -8.5538e-02,  1.3482e+00,  2.8212e-01],\n",
       "         [ 6.6891e-01,  6.3813e-02,  8.4460e-01,  1.3846e-01, -9.3330e-02,\n",
       "           1.3912e-01, -1.2486e+00,  9.3636e-01,  1.7549e+00,  7.5097e-01],\n",
       "         [ 1.3506e+00,  7.7745e-01,  2.2201e-01,  4.4569e-01, -4.6451e-01,\n",
       "           3.7586e-01,  9.9866e-01,  7.6969e-01,  7.9458e-01,  2.1748e-01],\n",
       "         [ 1.0344e+00,  4.8223e-01, -6.2136e-02, -1.7752e-01,  1.0724e+00,\n",
       "           1.1895e+00,  2.9230e-01,  8.4063e-01,  1.4679e+00,  9.8518e-01],\n",
       "         [-1.0883e-01,  2.8531e-01, -1.5232e-01, -2.7457e-01,  9.3909e-02,\n",
       "           5.7022e-01,  4.7073e-01,  5.4256e-01, -7.1451e-03,  1.6548e-01],\n",
       "         [ 5.6508e-01, -6.8576e-01, -1.2219e+00, -5.9811e-01,  5.1678e-01,\n",
       "           7.5521e-04, -3.3455e-01,  1.9049e+00,  1.1449e+00,  1.1189e+00],\n",
       "         [-4.1138e-01, -3.5379e-02, -4.2839e-01,  3.9216e-02,  4.9019e-01,\n",
       "          -4.6991e-02,  3.9951e-01,  9.6383e-02,  9.5775e-01,  2.5400e-01],\n",
       "         [ 8.8435e-01, -3.4006e-01,  9.3954e-02, -5.9200e-01,  6.6443e-01,\n",
       "          -1.6359e-01, -3.8475e-01,  7.5884e-01,  9.2715e-01,  6.8890e-01],\n",
       "         [ 2.7643e-01, -5.2104e-01,  8.5790e-01, -1.2117e-01, -5.7615e-02,\n",
       "           6.4388e-01,  1.7761e-01,  5.7347e-01,  4.1392e-01,  6.4710e-01],\n",
       "         [ 3.9269e-01,  3.0034e-01, -2.3484e-01,  4.7921e-01,  6.2378e-01,\n",
       "           3.1750e-01,  7.5229e-01,  1.3077e+00,  8.4256e-01,  1.0151e+00],\n",
       "         [ 1.1317e+00, -5.5100e-01, -7.7512e-01,  5.4735e-01, -1.2684e-01,\n",
       "          -1.1215e+00,  3.5958e-02,  1.4091e+00,  1.4202e+00,  1.5122e+00],\n",
       "         [ 2.8674e-01,  4.6201e-01, -1.0906e+00, -1.1307e-01,  1.3834e-01,\n",
       "          -7.1465e-01,  3.4661e-01,  3.5899e-01,  1.9425e+00,  1.3764e-01],\n",
       "         [-2.1629e-01,  5.7115e-01, -1.7492e-01,  1.9834e-01,  3.9638e-01,\n",
       "           4.6927e-01, -2.9373e-01,  8.2588e-01,  2.0516e-01,  7.0180e-01],\n",
       "         [-7.5187e-02, -3.1598e-01, -5.8644e-01,  1.3685e-01, -5.9083e-01,\n",
       "          -4.4198e-01,  3.9872e-01,  8.5891e-01,  4.8856e-01, -9.3823e-02],\n",
       "         [ 9.7050e-01,  7.9170e-01,  1.6147e-01,  6.3448e-01,  2.1307e-02,\n",
       "           8.8117e-01, -2.9644e-01, -9.0746e-02,  4.9954e-01,  2.2694e-01],\n",
       "         [ 8.1273e-01,  4.3382e-01, -5.3724e-01,  2.4499e-02, -1.0470e-01,\n",
       "          -5.3272e-01,  1.1750e+00,  8.2754e-01,  3.4380e-01,  8.1299e-01],\n",
       "         [ 5.7145e-01, -2.7277e-02,  2.6609e-01,  1.2177e-01,  2.7603e-01,\n",
       "           5.5507e-01,  4.5936e-01,  1.1682e+00, -7.8571e-02,  9.5644e-01],\n",
       "         [ 6.0488e-01,  3.3755e-01, -1.1551e+00,  6.7215e-01,  9.0104e-01,\n",
       "           2.1126e-01, -1.0323e-01,  2.2398e+00,  1.0391e+00,  7.2558e-01],\n",
       "         [ 1.2441e+00,  1.1484e+00,  3.3013e-02,  4.8950e-02,  4.8952e-01,\n",
       "           3.9368e-01, -1.1857e-01,  7.3234e-01,  3.8328e-01,  6.0727e-01],\n",
       "         [ 1.4724e-01,  6.5423e-01, -7.3591e-01, -8.4233e-01, -6.9419e-01,\n",
       "          -1.0309e+00,  6.0771e-01,  1.3395e+00,  2.8917e-01,  3.8237e-01],\n",
       "         [ 4.0958e-01,  4.5855e-01, -6.0241e-01,  2.7180e-01,  5.2706e-01,\n",
       "           1.0694e-01,  1.0650e-02,  1.1000e+00,  1.0733e+00,  8.2194e-01],\n",
       "         [-9.4471e-02,  3.5276e-01, -2.7358e-01, -2.2851e-01, -2.3531e-01,\n",
       "          -1.6422e-01,  3.0751e-01,  9.7113e-01, -1.8514e-01,  1.6205e+00]],\n",
       "        grad_fn=<AddmmBackward>),\n",
       " torch.Size([50, 10]))"
      ]
     },
     "execution_count": 12,
     "metadata": {},
     "output_type": "execute_result"
    }
   ],
   "source": [
    "model(img),model(img).shape"
   ]
  },
  {
   "cell_type": "code",
   "execution_count": 14,
   "id": "representative-museum",
   "metadata": {},
   "outputs": [
    {
     "data": {
      "text/plain": [
       "torch.Size([50, 10])"
      ]
     },
     "execution_count": 14,
     "metadata": {},
     "output_type": "execute_result"
    }
   ],
   "source": [
    "model(img).shape"
   ]
  },
  {
   "cell_type": "code",
   "execution_count": 63,
   "id": "rural-relative",
   "metadata": {},
   "outputs": [
    {
     "data": {
      "text/plain": [
       "torch.Size([10, 1, 28, 28])"
      ]
     },
     "execution_count": 63,
     "metadata": {},
     "output_type": "execute_result"
    }
   ],
   "source": [
    "img.shape"
   ]
  },
  {
   "cell_type": "code",
   "execution_count": null,
   "id": "catholic-jungle",
   "metadata": {},
   "outputs": [],
   "source": []
  },
  {
   "cell_type": "code",
   "execution_count": null,
   "id": "empirical-opportunity",
   "metadata": {},
   "outputs": [],
   "source": []
  },
  {
   "cell_type": "code",
   "execution_count": null,
   "id": "precious-sessions",
   "metadata": {},
   "outputs": [],
   "source": []
  },
  {
   "cell_type": "code",
   "execution_count": null,
   "id": "forced-hanging",
   "metadata": {},
   "outputs": [],
   "source": []
  },
  {
   "cell_type": "code",
   "execution_count": null,
   "id": "mechanical-munich",
   "metadata": {},
   "outputs": [],
   "source": []
  },
  {
   "cell_type": "code",
   "execution_count": null,
   "id": "treated-place",
   "metadata": {},
   "outputs": [],
   "source": []
  },
  {
   "cell_type": "code",
   "execution_count": null,
   "id": "received-surge",
   "metadata": {},
   "outputs": [],
   "source": []
  },
  {
   "cell_type": "code",
   "execution_count": null,
   "id": "painted-future",
   "metadata": {},
   "outputs": [],
   "source": []
  },
  {
   "cell_type": "code",
   "execution_count": 53,
   "id": "brief-barcelona",
   "metadata": {},
   "outputs": [
    {
     "name": "stdout",
     "output_type": "stream",
     "text": [
      "tensor([[[[-0.5000, -0.5000, -0.5000,  ..., -0.5000, -0.5000, -0.5000],\n",
      "          [-0.5000, -0.5000, -0.5000,  ..., -0.5000, -0.5000, -0.5000],\n",
      "          [-0.5000, -0.5000, -0.5000,  ..., -0.5000, -0.5000, -0.5000],\n",
      "          ...,\n",
      "          [-0.5000, -0.5000, -0.5000,  ..., -0.5000, -0.5000, -0.5000],\n",
      "          [-0.5000, -0.5000, -0.5000,  ..., -0.5000, -0.5000, -0.5000],\n",
      "          [-0.5000, -0.5000, -0.5000,  ..., -0.5000, -0.5000, -0.5000]]],\n",
      "\n",
      "\n",
      "        [[[-0.5000, -0.5000, -0.5000,  ..., -0.5000, -0.5000, -0.5000],\n",
      "          [-0.5000, -0.5000, -0.5000,  ..., -0.5000, -0.5000, -0.5000],\n",
      "          [-0.5000, -0.5000, -0.5000,  ..., -0.5000, -0.5000, -0.5000],\n",
      "          ...,\n",
      "          [-0.5000, -0.5000, -0.5000,  ..., -0.5000, -0.5000, -0.5000],\n",
      "          [-0.5000, -0.5000, -0.5000,  ..., -0.5000, -0.5000, -0.5000],\n",
      "          [-0.5000, -0.5000, -0.5000,  ..., -0.5000, -0.5000, -0.5000]]],\n",
      "\n",
      "\n",
      "        [[[-0.5000, -0.5000, -0.5000,  ..., -0.5000, -0.5000, -0.5000],\n",
      "          [-0.5000, -0.5000, -0.5000,  ..., -0.5000, -0.5000, -0.5000],\n",
      "          [-0.5000, -0.5000, -0.5000,  ..., -0.5000, -0.5000, -0.5000],\n",
      "          ...,\n",
      "          [-0.5000, -0.5000, -0.5000,  ..., -0.5000, -0.5000, -0.5000],\n",
      "          [-0.5000, -0.5000, -0.5000,  ..., -0.5000, -0.5000, -0.5000],\n",
      "          [-0.5000, -0.5000, -0.5000,  ..., -0.5000, -0.5000, -0.5000]]],\n",
      "\n",
      "\n",
      "        ...,\n",
      "\n",
      "\n",
      "        [[[-0.5000, -0.5000, -0.5000,  ..., -0.5000, -0.5000, -0.5000],\n",
      "          [-0.5000, -0.5000, -0.5000,  ..., -0.5000, -0.5000, -0.5000],\n",
      "          [-0.5000, -0.5000, -0.5000,  ..., -0.5000, -0.5000, -0.5000],\n",
      "          ...,\n",
      "          [-0.5000, -0.5000, -0.5000,  ..., -0.5000, -0.5000, -0.5000],\n",
      "          [-0.5000, -0.5000, -0.5000,  ..., -0.5000, -0.5000, -0.5000],\n",
      "          [-0.5000, -0.5000, -0.5000,  ..., -0.5000, -0.5000, -0.5000]]],\n",
      "\n",
      "\n",
      "        [[[-0.5000, -0.5000, -0.5000,  ..., -0.5000, -0.5000, -0.5000],\n",
      "          [-0.5000, -0.5000, -0.5000,  ..., -0.5000, -0.5000, -0.5000],\n",
      "          [-0.5000, -0.5000, -0.5000,  ..., -0.5000, -0.5000, -0.5000],\n",
      "          ...,\n",
      "          [-0.5000, -0.5000, -0.5000,  ..., -0.5000, -0.5000, -0.5000],\n",
      "          [-0.5000, -0.5000, -0.5000,  ..., -0.5000, -0.5000, -0.5000],\n",
      "          [-0.5000, -0.5000, -0.5000,  ..., -0.5000, -0.5000, -0.5000]]],\n",
      "\n",
      "\n",
      "        [[[-0.5000, -0.5000, -0.5000,  ..., -0.5000, -0.5000, -0.5000],\n",
      "          [-0.5000, -0.5000, -0.5000,  ..., -0.5000, -0.5000, -0.5000],\n",
      "          [-0.5000, -0.5000, -0.5000,  ..., -0.5000, -0.5000, -0.5000],\n",
      "          ...,\n",
      "          [-0.5000, -0.5000, -0.5000,  ..., -0.5000, -0.5000, -0.5000],\n",
      "          [-0.5000, -0.5000, -0.5000,  ..., -0.5000, -0.5000, -0.5000],\n",
      "          [-0.5000, -0.5000, -0.5000,  ..., -0.5000, -0.5000, -0.5000]]]])\n"
     ]
    }
   ],
   "source": [
    "train_dataloader=DataLoader(dataset=train_dataset, batch_size=10)\n",
    "for img,label in train_dataloader:\n",
    "    print(img)\n",
    "    break"
   ]
  },
  {
   "cell_type": "code",
   "execution_count": 47,
   "id": "separated-asian",
   "metadata": {},
   "outputs": [
    {
     "data": {
      "text/plain": [
       "MaxPool2d(kernel_size=2, stride=2, padding=valid, dilation=1, ceil_mode=False)"
      ]
     },
     "execution_count": 47,
     "metadata": {},
     "output_type": "execute_result"
    }
   ],
   "source": [
    "torch.nn.MaxPool2d(kernel_size=2, padding='valid')"
   ]
  },
  {
   "cell_type": "code",
   "execution_count": 48,
   "id": "terminal-philosophy",
   "metadata": {},
   "outputs": [
    {
     "data": {
      "text/plain": [
       "MaxPool2d(kernel_size=2, stride=2, padding=0, dilation=1, ceil_mode=False)"
      ]
     },
     "execution_count": 48,
     "metadata": {},
     "output_type": "execute_result"
    }
   ],
   "source": [
    "torch.nn.MaxPool2d(kernel_size=2)"
   ]
  },
  {
   "cell_type": "code",
   "execution_count": null,
   "id": "difficult-passion",
   "metadata": {},
   "outputs": [],
   "source": []
  },
  {
   "cell_type": "code",
   "execution_count": null,
   "id": "architectural-panama",
   "metadata": {},
   "outputs": [],
   "source": []
  },
  {
   "cell_type": "code",
   "execution_count": 33,
   "id": "tender-paint",
   "metadata": {},
   "outputs": [
    {
     "name": "stdout",
     "output_type": "stream",
     "text": [
      "Sequential(\n",
      "  (0): Conv2d(1, 32, kernel_size=(5, 5), stride=(1, 1))\n",
      "  (1): MaxPool2d(kernel_size=2, stride=2, padding=0, dilation=1, ceil_mode=False)\n",
      "  (2): Conv2d(32, 64, kernel_size=(5, 5), stride=(1, 1))\n",
      "  (3): MaxPool2d(kernel_size=2, stride=2, padding=0, dilation=1, ceil_mode=False)\n",
      "  (4): Flatten()\n",
      "  (5): Linear(in_features=1024, out_features=1024, bias=True)\n",
      "  (6): ReLU()\n",
      "  (7): Dropout(p=0.5, inplace=False)\n",
      "  (8): Linear(in_features=1024, out_features=10, bias=True)\n",
      ")\n"
     ]
    },
    {
     "ename": "NameError",
     "evalue": "name 'train_dataset' is not defined",
     "output_type": "error",
     "traceback": [
      "\u001b[0;31m---------------------------------------------------------------------------\u001b[0m",
      "\u001b[0;31mNameError\u001b[0m                                 Traceback (most recent call last)",
      "\u001b[0;32m<ipython-input-33-c663fbd3a5a4>\u001b[0m in \u001b[0;36m<module>\u001b[0;34m\u001b[0m\n\u001b[1;32m     27\u001b[0m \u001b[0mmodel\u001b[0m\u001b[0;34m=\u001b[0m\u001b[0mMNISTModel\u001b[0m\u001b[0;34m(\u001b[0m\u001b[0;34m)\u001b[0m\u001b[0;34m\u001b[0m\u001b[0;34m\u001b[0m\u001b[0m\n\u001b[1;32m     28\u001b[0m \u001b[0;34m\u001b[0m\u001b[0m\n\u001b[0;32m---> 29\u001b[0;31m \u001b[0mtrain_dataloader\u001b[0m\u001b[0;34m=\u001b[0m\u001b[0mDataLoader\u001b[0m\u001b[0;34m(\u001b[0m\u001b[0mdataset\u001b[0m\u001b[0;34m=\u001b[0m\u001b[0mtrain_dataset\u001b[0m\u001b[0;34m,\u001b[0m \u001b[0mbatch_size\u001b[0m\u001b[0;34m=\u001b[0m\u001b[0;36m10\u001b[0m\u001b[0;34m)\u001b[0m\u001b[0;34m\u001b[0m\u001b[0;34m\u001b[0m\u001b[0m\n\u001b[0m\u001b[1;32m     30\u001b[0m \u001b[0mloss_func\u001b[0m\u001b[0;34m=\u001b[0m\u001b[0mtorch\u001b[0m\u001b[0;34m.\u001b[0m\u001b[0mnn\u001b[0m\u001b[0;34m.\u001b[0m\u001b[0mCrossEntropyLoss\u001b[0m\u001b[0;34m(\u001b[0m\u001b[0;34m)\u001b[0m\u001b[0;34m\u001b[0m\u001b[0;34m\u001b[0m\u001b[0m\n\u001b[1;32m     31\u001b[0m \u001b[0;34m\u001b[0m\u001b[0m\n",
      "\u001b[0;31mNameError\u001b[0m: name 'train_dataset' is not defined"
     ]
    }
   ],
   "source": [
    "    \n",
    "train_dataloader=DataLoader(dataset=train_dataset, batch_size=10)\n",
    "loss_func=torch.nn.CrossEntropyLoss()\n",
    "\n",
    "for images, labels_true in train_dataloader:\n",
    "    images=images\n",
    "    labels_pred=model.forward(images)\n",
    "    print(labels_pred.shape)\n",
    "    \n",
    "    loss_func(labels_pred, labels_true)\n",
    "    \n",
    "    "
   ]
  },
  {
   "cell_type": "code",
   "execution_count": 8,
   "id": "smaller-charleston",
   "metadata": {},
   "outputs": [],
   "source": [
    "import tensorflow as tf"
   ]
  },
  {
   "cell_type": "code",
   "execution_count": 20,
   "id": "successful-palmer",
   "metadata": {},
   "outputs": [],
   "source": [
    "image = tf.constant(np.arange(1, 24+1, dtype=np.int32), shape=[2,2, 2, 3])"
   ]
  },
  {
   "cell_type": "code",
   "execution_count": 21,
   "id": "conditional-northern",
   "metadata": {},
   "outputs": [],
   "source": [
    "new_image = tf.image.per_image_standardization(image)"
   ]
  },
  {
   "cell_type": "code",
   "execution_count": 28,
   "id": "relative-binary",
   "metadata": {},
   "outputs": [
    {
     "data": {
      "text/plain": [
       "1.0"
      ]
     },
     "execution_count": 28,
     "metadata": {},
     "output_type": "execute_result"
    }
   ],
   "source": [
    "np.var(new_image[0])"
   ]
  },
  {
   "cell_type": "code",
   "execution_count": 26,
   "id": "another-boring",
   "metadata": {},
   "outputs": [
    {
     "data": {
      "text/plain": [
       "<tf.Tensor: shape=(2, 2, 2, 3), dtype=float32, numpy=\n",
       "array([[[[-1.593255  , -1.3035723 , -1.0138896 ],\n",
       "         [-0.7242068 , -0.4345241 , -0.14484136]],\n",
       "\n",
       "        [[ 0.14484136,  0.4345241 ,  0.7242068 ],\n",
       "         [ 1.0138896 ,  1.3035723 ,  1.593255  ]]],\n",
       "\n",
       "\n",
       "       [[[-1.593255  , -1.3035723 , -1.0138896 ],\n",
       "         [-0.7242068 , -0.4345241 , -0.14484136]],\n",
       "\n",
       "        [[ 0.14484136,  0.4345241 ,  0.7242068 ],\n",
       "         [ 1.0138896 ,  1.3035723 ,  1.593255  ]]]], dtype=float32)>"
      ]
     },
     "execution_count": 26,
     "metadata": {},
     "output_type": "execute_result"
    }
   ],
   "source": [
    "new_image"
   ]
  },
  {
   "cell_type": "code",
   "execution_count": 24,
   "id": "gentle-browse",
   "metadata": {},
   "outputs": [
    {
     "data": {
      "text/plain": [
       "1.0"
      ]
     },
     "execution_count": 24,
     "metadata": {},
     "output_type": "execute_result"
    }
   ],
   "source": [
    "np.var(new_image)"
   ]
  },
  {
   "cell_type": "code",
   "execution_count": 185,
   "id": "thermal-justice",
   "metadata": {},
   "outputs": [],
   "source": [
    "torch.nn.Dropout?"
   ]
  },
  {
   "cell_type": "code",
   "execution_count": 28,
   "id": "pleased-junction",
   "metadata": {},
   "outputs": [],
   "source": [
    "import torch"
   ]
  },
  {
   "cell_type": "code",
   "execution_count": 35,
   "id": "polar-gateway",
   "metadata": {},
   "outputs": [],
   "source": [
    "torch.nn.Conv2d??"
   ]
  },
  {
   "cell_type": "code",
   "execution_count": 43,
   "id": "copyrighted-marker",
   "metadata": {},
   "outputs": [],
   "source": [
    "from __future__ import print_function\n",
    "import argparse\n",
    "import torch\n",
    "import torch.nn as nn\n",
    "import torch.nn.functional as F\n",
    "import torch.optim as optim\n",
    "from torchvision import datasets, transforms\n",
    "from torch.optim.lr_scheduler import StepLR\n",
    "\n",
    "\n",
    "class Net(nn.Module):\n",
    "    def __init__(self):\n",
    "        super(Net, self).__init__()\n",
    "        self.conv1 = nn.Conv2d(1, 32, 3, 1)\n",
    "        self.conv2 = nn.Conv2d(32, 64, 3, 1)\n",
    "        self.dropout1 = nn.Dropout(0.25)\n",
    "        self.dropout2 = nn.Dropout(0.5)\n",
    "        self.fc1 = nn.Linear(9216, 128)\n",
    "        self.fc2 = nn.Linear(128, 10)\n",
    "\n",
    "    def forward(self, x):\n",
    "        x = self.conv1(x)\n",
    "        x = F.relu(x)\n",
    "        x = self.conv2(x)\n",
    "        x = F.relu(x)\n",
    "        x = F.max_pool2d(x, 2)\n",
    "        x = self.dropout1(x)\n",
    "        x = torch.flatten(x, 1)\n",
    "        x = self.fc1(x)\n",
    "        x = F.relu(x)\n",
    "        x = self.dropout2(x)\n",
    "        x = self.fc2(x)\n",
    "        output = F.log_softmax(x, dim=1)\n",
    "        return output\n",
    "\n",
    "\n",
    "def train(args, model, device, train_loader, optimizer, epoch):\n",
    "    model.train()\n",
    "    for batch_idx, (data, target) in enumerate(train_loader):\n",
    "        data, target = data.to(device), target.to(device)\n",
    "        optimizer.zero_grad()\n",
    "        output = model(data)\n",
    "        loss = F.nll_loss(output, target)\n",
    "        loss.backward()\n",
    "        optimizer.step()\n",
    "        if batch_idx % args.log_interval == 0:\n",
    "            print('Train Epoch: {} [{}/{} ({:.0f}%)]\\tLoss: {:.6f}'.format(\n",
    "                epoch, batch_idx * len(data), len(train_loader.dataset),\n",
    "                100. * batch_idx / len(train_loader), loss.item()))\n",
    "            if args.dry_run:\n",
    "                break\n",
    "\n",
    "\n",
    "def test(model, device, test_loader):\n",
    "    model.eval()\n",
    "    test_loss = 0\n",
    "    correct = 0\n",
    "    with torch.no_grad():\n",
    "        for data, target in test_loader:\n",
    "            data, target = data.to(device), target.to(device)\n",
    "            output = model(data)\n",
    "            test_loss += F.nll_loss(output, target, reduction='sum').item()  # sum up batch loss\n",
    "            pred = output.argmax(dim=1, keepdim=True)  # get the index of the max log-probability\n",
    "            correct += pred.eq(target.view_as(pred)).sum().item()\n",
    "\n",
    "    test_loss /= len(test_loader.dataset)\n",
    "\n",
    "    print('\\nTest set: Average loss: {:.4f}, Accuracy: {}/{} ({:.0f}%)\\n'.format(\n",
    "        test_loss, correct, len(test_loader.dataset),\n",
    "        100. * correct / len(test_loader.dataset)))"
   ]
  },
  {
   "cell_type": "code",
   "execution_count": 45,
   "id": "coral-tackle",
   "metadata": {},
   "outputs": [
    {
     "name": "stdout",
     "output_type": "stream",
     "text": [
      "Downloading http://yann.lecun.com/exdb/mnist/train-images-idx3-ubyte.gz to ../data/MNIST/raw/train-images-idx3-ubyte.gz\n"
     ]
    },
    {
     "data": {
      "application/vnd.jupyter.widget-view+json": {
       "model_id": "d30c0807262246f3a9b5ddc1da9382d0",
       "version_major": 2,
       "version_minor": 0
      },
      "text/plain": [
       "0it [00:00, ?it/s]"
      ]
     },
     "metadata": {},
     "output_type": "display_data"
    },
    {
     "name": "stdout",
     "output_type": "stream",
     "text": [
      "Extracting ../data/MNIST/raw/train-images-idx3-ubyte.gz to ../data/MNIST/raw\n",
      "Downloading http://yann.lecun.com/exdb/mnist/train-labels-idx1-ubyte.gz to ../data/MNIST/raw/train-labels-idx1-ubyte.gz\n"
     ]
    },
    {
     "data": {
      "application/vnd.jupyter.widget-view+json": {
       "model_id": "79a660d966774059810d75bcaf65a686",
       "version_major": 2,
       "version_minor": 0
      },
      "text/plain": [
       "0it [00:00, ?it/s]"
      ]
     },
     "metadata": {},
     "output_type": "display_data"
    },
    {
     "name": "stdout",
     "output_type": "stream",
     "text": [
      "Extracting ../data/MNIST/raw/train-labels-idx1-ubyte.gz to ../data/MNIST/raw\n",
      "Downloading http://yann.lecun.com/exdb/mnist/t10k-images-idx3-ubyte.gz to ../data/MNIST/raw/t10k-images-idx3-ubyte.gz\n"
     ]
    },
    {
     "data": {
      "application/vnd.jupyter.widget-view+json": {
       "model_id": "7659ece96bb24311b28bfbe88251b44c",
       "version_major": 2,
       "version_minor": 0
      },
      "text/plain": [
       "0it [00:00, ?it/s]"
      ]
     },
     "metadata": {},
     "output_type": "display_data"
    },
    {
     "name": "stdout",
     "output_type": "stream",
     "text": [
      "Extracting ../data/MNIST/raw/t10k-images-idx3-ubyte.gz to ../data/MNIST/raw\n",
      "Downloading http://yann.lecun.com/exdb/mnist/t10k-labels-idx1-ubyte.gz to ../data/MNIST/raw/t10k-labels-idx1-ubyte.gz\n"
     ]
    },
    {
     "data": {
      "application/vnd.jupyter.widget-view+json": {
       "model_id": "c6036e3e0b4d4678a5134f29fcd4ab69",
       "version_major": 2,
       "version_minor": 0
      },
      "text/plain": [
       "0it [00:00, ?it/s]"
      ]
     },
     "metadata": {},
     "output_type": "display_data"
    },
    {
     "name": "stdout",
     "output_type": "stream",
     "text": [
      "Extracting ../data/MNIST/raw/t10k-labels-idx1-ubyte.gz to ../data/MNIST/raw\n",
      "Processing...\n",
      "Done!\n"
     ]
    }
   ],
   "source": [
    "\n",
    "transform=transforms.Compose([\n",
    "    transforms.ToTensor(),\n",
    "    transforms.Normalize((0.1307,), (0.3081,))\n",
    "    ])\n",
    "    \n",
    "dataset1 = datasets.MNIST('../data', train=True, download=True,\n",
    "                   transform=transform)\n",
    "dataset2 = datasets.MNIST('../data', train=False,\n",
    "                   transform=transform)"
   ]
  },
  {
   "cell_type": "code",
   "execution_count": 46,
   "id": "finished-national",
   "metadata": {},
   "outputs": [],
   "source": [
    "model = Net()"
   ]
  },
  {
   "cell_type": "code",
   "execution_count": 48,
   "id": "excellent-simpson",
   "metadata": {},
   "outputs": [],
   "source": [
    "train_loader = torch.utils.data.DataLoader(dataset1,batch_size=64)\n",
    "test_loader = torch.utils.data.DataLoader(dataset2, batch_size=1000)"
   ]
  },
  {
   "cell_type": "code",
   "execution_count": 51,
   "id": "treated-glory",
   "metadata": {},
   "outputs": [],
   "source": [
    "device=torch.device('cuda')\n",
    "for batch_idx, (data, target) in enumerate(train_loader):\n",
    "    data, target = data.to(device), target.to(device)\n",
    "    break"
   ]
  },
  {
   "cell_type": "code",
   "execution_count": 52,
   "id": "linear-forty",
   "metadata": {},
   "outputs": [
    {
     "data": {
      "text/plain": [
       "torch.Size([64, 1, 28, 28])"
      ]
     },
     "execution_count": 52,
     "metadata": {},
     "output_type": "execute_result"
    }
   ],
   "source": [
    "data.shape"
   ]
  },
  {
   "cell_type": "code",
   "execution_count": null,
   "id": "driving-requirement",
   "metadata": {},
   "outputs": [],
   "source": [
    "def main():\n",
    "    # Training settings\n",
    "    parser = argparse.ArgumentParser(description='PyTorch MNIST Example')\n",
    "    parser.add_argument('--batch-size', type=int, default=64, metavar='N',\n",
    "                        help='input batch size for training (default: 64)')\n",
    "    parser.add_argument('--test-batch-size', type=int, default=1000, metavar='N',\n",
    "                        help='input batch size for testing (default: 1000)')\n",
    "    parser.add_argument('--epochs', type=int, default=14, metavar='N',\n",
    "                        help='number of epochs to train (default: 14)')\n",
    "    parser.add_argument('--lr', type=float, default=1.0, metavar='LR',\n",
    "                        help='learning rate (default: 1.0)')\n",
    "    parser.add_argument('--gamma', type=float, default=0.7, metavar='M',\n",
    "                        help='Learning rate step gamma (default: 0.7)')\n",
    "    parser.add_argument('--no-cuda', action='store_true', default=False,\n",
    "                        help='disables CUDA training')\n",
    "    parser.add_argument('--dry-run', action='store_true', default=False,\n",
    "                        help='quickly check a single pass')\n",
    "    parser.add_argument('--seed', type=int, default=1, metavar='S',\n",
    "                        help='random seed (default: 1)')\n",
    "    parser.add_argument('--log-interval', type=int, default=10, metavar='N',\n",
    "                        help='how many batches to wait before logging training status')\n",
    "    parser.add_argument('--save-model', action='store_true', default=False,\n",
    "                        help='For Saving the current Model')\n",
    "    args = parser.parse_args()\n",
    "    use_cuda = not args.no_cuda and torch.cuda.is_available()\n",
    "\n",
    "    torch.manual_seed(args.seed)\n",
    "\n",
    "    device = torch.device(\"cuda\" if use_cuda else \"cpu\")\n",
    "\n",
    "    train_kwargs = {'batch_size': args.batch_size}\n",
    "    test_kwargs = {'batch_size': args.test_batch_size}\n",
    "    if use_cuda:\n",
    "        cuda_kwargs = {'num_workers': 1,\n",
    "                       'pin_memory': True,\n",
    "                       'shuffle': True}\n",
    "        train_kwargs.update(cuda_kwargs)\n",
    "        test_kwargs.update(cuda_kwargs)\n",
    "\n",
    "    transform=transforms.Compose([\n",
    "        transforms.ToTensor(),\n",
    "        transforms.Normalize((0.1307,), (0.3081,))\n",
    "        ])\n",
    "    dataset1 = datasets.MNIST('../data', train=True, download=True,\n",
    "                       transform=transform)\n",
    "    dataset2 = datasets.MNIST('../data', train=False,\n",
    "                       transform=transform)\n",
    "    train_loader = torch.utils.data.DataLoader(dataset1,**train_kwargs)\n",
    "    test_loader = torch.utils.data.DataLoader(dataset2, **test_kwargs)\n",
    "\n",
    "    model = Net().to(device)\n",
    "    optimizer = optim.Adadelta(model.parameters(), lr=args.lr)\n",
    "\n",
    "    scheduler = StepLR(optimizer, step_size=1, gamma=args.gamma)\n",
    "    for epoch in range(1, args.epochs + 1):\n",
    "        train(args, model, device, train_loader, optimizer, epoch)\n",
    "        test(model, device, test_loader)\n",
    "        scheduler.step()\n",
    "\n",
    "    if args.save_model:\n",
    "        torch.save(model.state_dict(), \"mnist_cnn.pt\")"
   ]
  },
  {
   "cell_type": "code",
   "execution_count": null,
   "id": "verbal-lecture",
   "metadata": {},
   "outputs": [],
   "source": []
  },
  {
   "cell_type": "code",
   "execution_count": null,
   "id": "meaningful-philippines",
   "metadata": {},
   "outputs": [],
   "source": []
  },
  {
   "cell_type": "code",
   "execution_count": null,
   "id": "inside-friend",
   "metadata": {},
   "outputs": [],
   "source": []
  },
  {
   "cell_type": "code",
   "execution_count": null,
   "id": "theoretical-defendant",
   "metadata": {},
   "outputs": [],
   "source": []
  },
  {
   "cell_type": "code",
   "execution_count": null,
   "id": "small-backup",
   "metadata": {},
   "outputs": [],
   "source": []
  },
  {
   "cell_type": "markdown",
   "id": "certain-crown",
   "metadata": {},
   "source": [
    "# AttributionPriorExplainer"
   ]
  },
  {
   "cell_type": "code",
   "execution_count": 291,
   "id": "opened-presentation",
   "metadata": {
    "scrolled": true
   },
   "outputs": [],
   "source": [
    "\"\"\"\n",
    "\n",
    "https://github.com/suinleelab/attributionpriors/blob/master/attributionpriors/pytorch_ops.py\n",
    "https://github.com/slundberg/shap/blob/master/shap/explainers/_gradient.py\n",
    "\n",
    "\"\"\"\n",
    "\n",
    "from torch.autograd import grad\n",
    "from torch.utils.data import Dataset, DataLoader\n",
    "\n",
    "class AttributionPriorExplainer():\n",
    "    def __init__(self, reference_dataset, batch_size, k):\n",
    "        self.reference_dataloader=DataLoader(dataset=reference_dataset,\n",
    "                                             batch_size=batch_size*k,\n",
    "                                             shuffle=True,\n",
    "                                             drop_last=True)\n",
    "        self.reference_dataloader_iterator=iter(self.reference_dataloader)\n",
    "        \n",
    "        self.batch_size=batch_size\n",
    "        self.k=k\n",
    "        \n",
    "    def get_reference_data(self):\n",
    "        try:\n",
    "            reference_data=next(self.reference_dataloader_iterator)\n",
    "        except:\n",
    "            self.reference_dataloader_iterator=iter(self.reference_dataloader)\n",
    "            reference_data=next(self.reference_dataloader_iterator)\n",
    "        \n",
    "        return reference_data\n",
    "    \n",
    "    def interpolate_input_reference(self, input_data, reference_data):\n",
    "        \n",
    "        alpha=torch.empty(self.batch_size, self.k).uniform_(0,1).to(input_data.device)\n",
    "        alpha=alpha.view(*([self.batch_size, self.k,]+[1]*len(input_data.shape[1:])))\n",
    "        \n",
    "        input_reference_interpolated=(1-alpha)*reference_data+(alpha)*input_data.unsqueeze(1)\n",
    "        \n",
    "        return input_reference_interpolated\n",
    "        \n",
    "    def diff_input_reference(self, input_data, reference_data):\n",
    "        return input_data.unsqueeze(1)-reference_data\n",
    "    \n",
    "    def get_grad(self, model, input_reference_interpolated):\n",
    "        input_reference_interpolated.requires_grad=True\n",
    "        \n",
    "        input_reference_interpolated_grad=torch.zeros(input_reference_interpolated.shape).float().to(input_reference_interpolated.device)\n",
    "        for i in range(self.k):\n",
    "            batch_input=input_reference_interpolated[:,i,]\n",
    "            batch_output=model(batch_input)\n",
    "            \n",
    "            \n",
    "            grad_out=grad(outputs=batch_output,\n",
    "                     inputs=batch_input,\n",
    "                     grad_outputs=torch.ones_like(batch_output).to(input_reference_interpolated.device),\n",
    "                     create_graph=True)[0]\n",
    "            input_reference_interpolated_grad[:,i,]=grad_out\n",
    "        \n",
    "        return input_reference_interpolated_grad\n",
    "        \n",
    "    def attribution(self, model, input_data):\n",
    "        model_dtype=next(model.parameters()).dtype\n",
    "        reference_data=self.get_reference_data().to(model_dtype).to(input_data.device)\n",
    "        \n",
    "        assert input_data.dtype==model_dtype\n",
    "        assert input_data.shape[0]==self.batch_size\n",
    "        assert input_data.shape[1:]==reference_data.shape[1:]\n",
    "        assert input_data.device==next(model.parameters()).device\n",
    "        \n",
    "        reference_data=reference_data.view(self.batch_size, self.k, *reference_data.shape[1:])\n",
    "        \n",
    "        input_reference_interpolated=self.interpolate_input_reference(input_data, reference_data)\n",
    "        input_reference_diff=self.diff_input_reference(input_data, reference_data)\n",
    "        \n",
    "        input_reference_interpolated_grad=self.get_grad(model, input_reference_interpolated)\n",
    "        \n",
    "        diff_interpolated_grad=input_reference_diff*input_reference_interpolated_grad\n",
    "        expected_grad=diff_interpolated_grad.mean(axis=1)\n",
    "    \n",
    "        return expected_grad"
   ]
  },
  {
   "cell_type": "code",
   "execution_count": null,
   "id": "integrated-wayne",
   "metadata": {},
   "outputs": [],
   "source": []
  }
 ],
 "metadata": {
  "kernelspec": {
   "display_name": "MarcoPolo",
   "language": "python",
   "name": "marcopolo"
  },
  "language_info": {
   "codemirror_mode": {
    "name": "ipython",
    "version": 3
   },
   "file_extension": ".py",
   "mimetype": "text/x-python",
   "name": "python",
   "nbconvert_exporter": "python",
   "pygments_lexer": "ipython3",
   "version": "3.7.9"
  }
 },
 "nbformat": 4,
 "nbformat_minor": 5
}
