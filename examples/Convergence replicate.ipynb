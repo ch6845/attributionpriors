{
 "cells": [
  {
   "cell_type": "code",
   "execution_count": 1,
   "id": "legal-saturday",
   "metadata": {},
   "outputs": [],
   "source": [
    "import sys\n",
    "sys.path.insert(0, '../')"
   ]
  },
  {
   "cell_type": "code",
   "execution_count": 2,
   "id": "bibliographic-surgeon",
   "metadata": {},
   "outputs": [],
   "source": [
    "from attributionpriors.pytorch_ops import AttributionPriorExplainer"
   ]
  },
  {
   "cell_type": "code",
   "execution_count": 3,
   "id": "encouraging-school",
   "metadata": {},
   "outputs": [],
   "source": [
    "from path_explain import PathExplainerTorch"
   ]
  },
  {
   "cell_type": "code",
   "execution_count": 4,
   "id": "supreme-bangkok",
   "metadata": {},
   "outputs": [],
   "source": [
    "import numpy as np\n",
    "\n",
    "import matplotlib.pyplot as plt\n",
    "\n",
    "import torch\n",
    "from torch.autograd import grad\n",
    "\n",
    "from torch.utils.data import Dataset, DataLoader"
   ]
  },
  {
   "cell_type": "code",
   "execution_count": 5,
   "id": "powerful-relief",
   "metadata": {},
   "outputs": [],
   "source": [
    "device=torch.device('cuda')"
   ]
  },
  {
   "cell_type": "code",
   "execution_count": 6,
   "id": "incorporated-disorder",
   "metadata": {},
   "outputs": [],
   "source": [
    "class BinaryData(Dataset):\n",
    "    def __init__(self, X, y=None, transform=None):\n",
    "        self.X=X\n",
    "        self.y=y\n",
    "        self.transform=transform\n",
    "    \n",
    "    def __len__(self):\n",
    "        return len(self.X)\n",
    "    \n",
    "    def __getitem__(self, index):\n",
    "        sample=self.X[index,:]\n",
    "        \n",
    "        if self.transform is not None:\n",
    "            sample=self.transform(sample)\n",
    "        \n",
    "        if self.y is not None:\n",
    "            return sample, self.y[index]\n",
    "        else:\n",
    "            return sample"
   ]
  },
  {
   "cell_type": "code",
   "execution_count": 7,
   "id": "prescribed-howard",
   "metadata": {},
   "outputs": [],
   "source": [
    "a_train=torch.empty(1000,1).uniform_(0,1)\n",
    "x_train=torch.bernoulli(a_train)\n",
    "x_train=torch.cat([x_train,x_train],axis=1)"
   ]
  },
  {
   "cell_type": "code",
   "execution_count": 8,
   "id": "identical-joyce",
   "metadata": {},
   "outputs": [],
   "source": [
    "a_test=torch.empty(1000,2).uniform_(0,1)\n",
    "x_test=torch.bernoulli(a_test)"
   ]
  },
  {
   "cell_type": "code",
   "execution_count": 9,
   "id": "palestinian-topic",
   "metadata": {},
   "outputs": [],
   "source": [
    "y_train=x_train[:,0]\n",
    "y_test=x_test[:,0]"
   ]
  },
  {
   "cell_type": "code",
   "execution_count": 10,
   "id": "recovered-velvet",
   "metadata": {},
   "outputs": [],
   "source": [
    "train_dataset=BinaryData(x_train, y_train)\n",
    "train_loader=DataLoader(dataset=train_dataset, batch_size=64, shuffle=True, drop_last=True)"
   ]
  },
  {
   "cell_type": "code",
   "execution_count": 11,
   "id": "distant-relative",
   "metadata": {},
   "outputs": [],
   "source": [
    "test_dataset=BinaryData(x_test, y_test)\n",
    "test_loader=DataLoader(dataset=test_dataset, batch_size=64, shuffle=True, drop_last=True)"
   ]
  },
  {
   "cell_type": "code",
   "execution_count": 12,
   "id": "thirty-helicopter",
   "metadata": {},
   "outputs": [],
   "source": [
    "class MLP(torch.nn.Module):\n",
    "    def __init__(self):\n",
    "        super(MLP,self).__init__()\n",
    "        self.layers=torch.nn.Sequential(torch.nn.Linear(2,1),\n",
    "                                      torch.nn.Sigmoid())\n",
    "    def forward(self,x):\n",
    "        x=self.layers(x)\n",
    "        return x"
   ]
  },
  {
   "cell_type": "code",
   "execution_count": 13,
   "id": "stretch-former",
   "metadata": {},
   "outputs": [],
   "source": [
    "def calculate_dependence(model):\n",
    "    zero_arange=torch.tensor(np.concatenate([np.zeros(100).reshape(-1,1),\n",
    "                                             np.arange(0,1,0.01).reshape(-1,1)],axis=1)).float().to(device)\n",
    "    one_arange=torch.tensor(np.concatenate([np.ones(100).reshape(-1,1),\n",
    "                                             np.arange(0,1,0.01).reshape(-1,1)],axis=1)).float().to(device)\n",
    "\n",
    "\n",
    "    arange_zero=torch.tensor(np.concatenate([np.arange(0,1,0.01).reshape(-1,1),\n",
    "                                            np.zeros(100).reshape(-1,1)],axis=1)).float().to(device)\n",
    "    arange_one=torch.tensor(np.concatenate([np.arange(0,1,0.01).reshape(-1,1),\n",
    "                                            np.ones(100).reshape(-1,1)],axis=1)).float().to(device)\n",
    "\n",
    "    dep1=(model(one_arange)-model(zero_arange)).mean().detach().cpu().numpy().reshape(-1)[0]\n",
    "    dep2=(model(arange_one)-model(arange_zero)).mean().detach().cpu().numpy().reshape(-1)[0]\n",
    "    \n",
    "    return dep2/dep1, dep1, dep2"
   ]
  },
  {
   "cell_type": "markdown",
   "id": "friendly-modern",
   "metadata": {},
   "source": [
    "# EG"
   ]
  },
  {
   "cell_type": "code",
   "execution_count": null,
   "id": "anticipated-virgin",
   "metadata": {},
   "outputs": [],
   "source": [
    "convergence_list1_list_eg=[]\n",
    "convergence_list2_list_eg=[]\n",
    "convergence_list3_list_eg=[]\n",
    "\n",
    "for k in [1,2,3,4,5]:\n",
    "\n",
    "    print('k =',k)\n",
    "    \n",
    "    model=MLP().to(device)\n",
    "    \n",
    "    with torch.no_grad():\n",
    "        model.layers[0].weight[0,0]=10\n",
    "        model.layers[0].weight[0,1]=10\n",
    "        model.layers[0].bias[0]=-6\n",
    "        \n",
    "    x_zeros = torch.zeros_like(x_train[:,0:1])\n",
    "    background_dataset = BinaryData(x_zeros, y_train)\n",
    "\n",
    "    APExp = AttributionPriorExplainer(background_dataset, 64, k=k)        \n",
    "        \n",
    "\n",
    "    optimizer = torch.optim.Adam(model.parameters(), lr=1e-2)\n",
    "    bce_term = torch.nn.BCELoss()\n",
    "    \n",
    "    train_loss_list_mean_list=[]\n",
    "    valid_loss_list_mean_list=[]\n",
    "    \n",
    "    train_loss_list_mean_best=np.inf\n",
    "    epoch_best=None\n",
    "    \n",
    "    convergence_list1=[]\n",
    "    convergence_list2=[]\n",
    "    convergence_list3=[]\n",
    "        \n",
    "    for epoch in range(200):\n",
    "        model.train()\n",
    "        \n",
    "        train_loss_list=[]\n",
    "        \n",
    "        for i, (X, y) in enumerate(train_loader):\n",
    "            X, y= X.float().to(device), y.float().to(device)\n",
    "            optimizer.zero_grad()\n",
    "            \n",
    "            output=model(X)\n",
    "            \n",
    "            eg=APExp.shap_values(model, X)\n",
    "            eg_abs_mean=eg.abs().mean(0)\n",
    "            \n",
    "            loss=bce_term(output, y) + eg_abs_mean[1].abs()\n",
    "            \n",
    "            loss.backward(retain_graph=True)\n",
    "            optimizer.step()\n",
    "            train_loss_list.append(loss.item())\n",
    "        \n",
    "        train_loss_list_mean=np.mean(train_loss_list)\n",
    "        \n",
    "        train_loss_list_mean_list.append(train_loss_list_mean)\n",
    "        convergence_list1.append(calculate_dependence(model)[0])\n",
    "        convergence_list2.append(calculate_dependence(model)[1])\n",
    "        convergence_list3.append(calculate_dependence(model)[2])\n",
    "        \n",
    "        if train_loss_list_mean < train_loss_list_mean_best:\n",
    "            epoch_best=epoch\n",
    "            train_loss_list_mean_best=train_loss_list_mean\n",
    "        \n",
    "    convergence_list1_list_eg.append(convergence_list1)\n",
    "    convergence_list2_list_eg.append(convergence_list2)\n",
    "    convergence_list3_list_eg.append(convergence_list3)"
   ]
  },
  {
   "cell_type": "code",
   "execution_count": 29,
   "id": "statutory-batman",
   "metadata": {},
   "outputs": [
    {
     "data": {
      "image/png": "[encoded data removed]",
      "text/plain": [
       "<Figure size 432x432 with 1 Axes>"
      ]
     },
     "metadata": {
      "needs_background": "light"
     },
     "output_type": "display_data"
    }
   ],
   "source": [
    "plt.figure(figsize=(6,6))\n",
    "\n",
    "for k, convergence_list1 in enumerate(convergence_list1_list_eg):\n",
    "    plt.plot((np.arange(len(convergence_list1))+1)*(k+1), convergence_list1,label=k+1)\n",
    "    \n",
    "plt.xlim([0,350])\n",
    "plt.ylim([0,0.4])\n",
    "plt.legend(title='k')\n",
    "\n",
    "plt.xlabel('gradient calls per training example')\n",
    "plt.ylabel('fractional dependence on feature 2')\n",
    "plt.show()"
   ]
  },
  {
   "cell_type": "markdown",
   "id": "convertible-packing",
   "metadata": {},
   "source": [
    "# log"
   ]
  },
  {
   "cell_type": "code",
   "execution_count": 38,
   "id": "fourth-marble",
   "metadata": {},
   "outputs": [],
   "source": [
    "model=MLP().to(device)\n",
    "\n",
    "with torch.no_grad():\n",
    "    model.layers[0].weight[0,0]=10\n",
    "    model.layers[0].weight[0,1]=10\n",
    "    model.layers[0].bias[0]=-6\n",
    "\n",
    "optimizer = torch.optim.Adam(model.parameters(), lr=1e-2)\n",
    "BCE_term = torch.nn.BCELoss()\n",
    "\n",
    "train_loss_list_mean_list=[]\n",
    "valid_loss_list_mean_list=[]\n",
    "\n",
    "train_loss_list_mean_best=np.inf\n",
    "epoch_best=None\n",
    "\n",
    "convergence_list1_log=[]\n",
    "convergence_list2_log=[]\n",
    "convergence_list3_log=[]\n",
    "\n",
    "for epoch in range(200):\n",
    "    model.train()\n",
    "\n",
    "    train_loss_list=[]\n",
    "\n",
    "    for i, (X, y) in enumerate(train_loader):\n",
    "        X, y= X.float().to(device), y.float().to(device)\n",
    "        X.requires_grad=True\n",
    "        \n",
    "        optimizer.zero_grad()\n",
    "\n",
    "        output=model(X)\n",
    "\n",
    "        output_log=torch.log(output)\n",
    "        X_grad=grad(outputs=output_log, inputs=X, grad_outputs=torch.ones_like(output),\n",
    "                    create_graph=True)[0]\n",
    "        ig_abs_mean=X_grad.abs().mean(axis=0)\n",
    "        \n",
    "        loss=bce_term(output, y) + ig_abs_mean[1].abs()\n",
    "\n",
    "        loss.backward(retain_graph=True)\n",
    "        optimizer.step()\n",
    "        train_loss_list.append(loss.item())\n",
    "\n",
    "    train_loss_list_mean=np.mean(train_loss_list)\n",
    "\n",
    "    train_loss_list_mean_list.append(train_loss_list_mean)\n",
    "    convergence_list1_log.append(calculate_dependence(model)[0])\n",
    "    convergence_list2_log.append(calculate_dependence(model)[1])\n",
    "    convergence_list3_log.append(calculate_dependence(model)[2])\n",
    "\n",
    "    if train_loss_list_mean < train_loss_list_mean_best:\n",
    "        epoch_best=epoch\n",
    "        train_loss_list_mean_best=train_loss_list_mean\n",
    "    "
   ]
  },
  {
   "cell_type": "markdown",
   "id": "scheduled-seeking",
   "metadata": {},
   "source": [
    "# "
   ]
  },
  {
   "cell_type": "code",
   "execution_count": 37,
   "id": "divided-laundry",
   "metadata": {},
   "outputs": [
    {
     "data": {
      "image/png": "[encoded data removed]",
      "text/plain": [
       "<Figure size 432x432 with 1 Axes>"
      ]
     },
     "metadata": {
      "needs_background": "light"
     },
     "output_type": "display_data"
    }
   ],
   "source": [
    "plt.figure(figsize=(6,6))\n",
    "\n",
    "plt.plot(convergence_list1_log)\n",
    "\n",
    "plt.show()"
   ]
  },
  {
   "cell_type": "code",
   "execution_count": 34,
   "id": "emerging-crime",
   "metadata": {},
   "outputs": [
    {
     "data": {
      "image/png": "[encoded data removed]",
      "text/plain": [
       "<Figure size 432x432 with 1 Axes>"
      ]
     },
     "metadata": {
      "needs_background": "light"
     },
     "output_type": "display_data"
    }
   ],
   "source": [
    "plt.figure(figsize=(6,6))\n",
    "\n",
    "plt.plot(convergence_list1_log)\n",
    "\n",
    "plt.show()"
   ]
  },
  {
   "cell_type": "code",
   "execution_count": 254,
   "id": "square-stanley",
   "metadata": {},
   "outputs": [],
   "source": [
    "X, y= X.float().to(device), y.float().to(device)\n",
    "X.requires_grad=True\n",
    "\n",
    "optimizer.zero_grad()\n",
    "\n",
    "output=model(X)\n",
    "\n",
    "output_log=torch.log(output)\n",
    "\"\"\"\n",
    "X_grad=grad(outputs=output_log, inputs=X,\n",
    "           grad_outputs=torch.ones_like(output),\n",
    "           )\n",
    "\"\"\"           \n",
    "output_log.backward(gradient=torch.ones_like(output))"
   ]
  },
  {
   "cell_type": "code",
   "execution_count": 248,
   "id": "black-scene",
   "metadata": {},
   "outputs": [
    {
     "data": {
      "text/plain": [
       "tensor([[9.9753e+00, 9.9753e+00],\n",
       "        [8.3447e-06, 8.3447e-06]], device='cuda:0')"
      ]
     },
     "execution_count": 248,
     "metadata": {},
     "output_type": "execute_result"
    }
   ],
   "source": [
    "X_grad[0][:2,:2]"
   ]
  },
  {
   "cell_type": "code",
   "execution_count": 255,
   "id": "planned-glass",
   "metadata": {},
   "outputs": [
    {
     "data": {
      "text/plain": [
       "tensor([[9.9753e+00, 9.9753e+00],\n",
       "        [8.3447e-06, 8.3447e-06],\n",
       "        [9.9753e+00, 9.9753e+00],\n",
       "        [9.9753e+00, 9.9753e+00],\n",
       "        [9.9753e+00, 9.9753e+00],\n",
       "        [8.3447e-06, 8.3447e-06],\n",
       "        [8.3447e-06, 8.3447e-06],\n",
       "        [9.9753e+00, 9.9753e+00],\n",
       "        [9.9753e+00, 9.9753e+00],\n",
       "        [9.9753e+00, 9.9753e+00],\n",
       "        [9.9753e+00, 9.9753e+00],\n",
       "        [8.3447e-06, 8.3447e-06],\n",
       "        [9.9753e+00, 9.9753e+00],\n",
       "        [9.9753e+00, 9.9753e+00],\n",
       "        [8.3447e-06, 8.3447e-06],\n",
       "        [9.9753e+00, 9.9753e+00],\n",
       "        [9.9753e+00, 9.9753e+00],\n",
       "        [8.3447e-06, 8.3447e-06],\n",
       "        [9.9753e+00, 9.9753e+00],\n",
       "        [9.9753e+00, 9.9753e+00],\n",
       "        [8.3447e-06, 8.3447e-06],\n",
       "        [9.9753e+00, 9.9753e+00],\n",
       "        [8.3447e-06, 8.3447e-06],\n",
       "        [9.9753e+00, 9.9753e+00],\n",
       "        [9.9753e+00, 9.9753e+00],\n",
       "        [8.3447e-06, 8.3447e-06],\n",
       "        [8.3447e-06, 8.3447e-06],\n",
       "        [9.9753e+00, 9.9753e+00],\n",
       "        [9.9753e+00, 9.9753e+00],\n",
       "        [9.9753e+00, 9.9753e+00],\n",
       "        [8.3447e-06, 8.3447e-06],\n",
       "        [8.3447e-06, 8.3447e-06],\n",
       "        [8.3447e-06, 8.3447e-06],\n",
       "        [8.3447e-06, 8.3447e-06],\n",
       "        [8.3447e-06, 8.3447e-06],\n",
       "        [9.9753e+00, 9.9753e+00],\n",
       "        [8.3447e-06, 8.3447e-06],\n",
       "        [9.9753e+00, 9.9753e+00],\n",
       "        [8.3447e-06, 8.3447e-06],\n",
       "        [8.3447e-06, 8.3447e-06],\n",
       "        [8.3447e-06, 8.3447e-06],\n",
       "        [9.9753e+00, 9.9753e+00],\n",
       "        [8.3447e-06, 8.3447e-06],\n",
       "        [9.9753e+00, 9.9753e+00],\n",
       "        [8.3447e-06, 8.3447e-06],\n",
       "        [8.3447e-06, 8.3447e-06],\n",
       "        [8.3447e-06, 8.3447e-06],\n",
       "        [8.3447e-06, 8.3447e-06],\n",
       "        [9.9753e+00, 9.9753e+00],\n",
       "        [8.3447e-06, 8.3447e-06],\n",
       "        [8.3447e-06, 8.3447e-06],\n",
       "        [8.3447e-06, 8.3447e-06],\n",
       "        [8.3447e-06, 8.3447e-06],\n",
       "        [9.9753e+00, 9.9753e+00],\n",
       "        [9.9753e+00, 9.9753e+00],\n",
       "        [8.3447e-06, 8.3447e-06],\n",
       "        [8.3447e-06, 8.3447e-06],\n",
       "        [9.9753e+00, 9.9753e+00],\n",
       "        [9.9753e+00, 9.9753e+00],\n",
       "        [9.9753e+00, 9.9753e+00],\n",
       "        [9.9753e+00, 9.9753e+00],\n",
       "        [8.3447e-06, 8.3447e-06],\n",
       "        [9.9753e+00, 9.9753e+00],\n",
       "        [8.3447e-06, 8.3447e-06]], device='cuda:0')"
      ]
     },
     "execution_count": 255,
     "metadata": {},
     "output_type": "execute_result"
    }
   ],
   "source": [
    "X.grad"
   ]
  },
  {
   "cell_type": "code",
   "execution_count": 242,
   "id": "surgical-fifty",
   "metadata": {},
   "outputs": [],
   "source": [
    "Q = (3*a**3 - b**2).sum()"
   ]
  },
  {
   "cell_type": "code",
   "execution_count": 243,
   "id": "exact-burke",
   "metadata": {},
   "outputs": [],
   "source": [
    "Q.backward(gradient=torch.tensor(1).float())"
   ]
  },
  {
   "cell_type": "code",
   "execution_count": 244,
   "id": "distinct-brunei",
   "metadata": {},
   "outputs": [
    {
     "data": {
      "text/plain": [
       "tensor([36., 81.])"
      ]
     },
     "execution_count": 244,
     "metadata": {},
     "output_type": "execute_result"
    }
   ],
   "source": [
    "a.grad"
   ]
  },
  {
   "cell_type": "code",
   "execution_count": 223,
   "id": "israeli-injury",
   "metadata": {},
   "outputs": [],
   "source": [
    "external_grad = torch.tensor([1., 1.])\n",
    "Q.backward(gradient=external_grad)"
   ]
  },
  {
   "cell_type": "code",
   "execution_count": 224,
   "id": "demonstrated-smile",
   "metadata": {},
   "outputs": [
    {
     "data": {
      "text/plain": [
       "tensor([ 72., 162.])"
      ]
     },
     "execution_count": 224,
     "metadata": {},
     "output_type": "execute_result"
    }
   ],
   "source": [
    "a.grad"
   ]
  },
  {
   "cell_type": "code",
   "execution_count": 226,
   "id": "complete-python",
   "metadata": {},
   "outputs": [
    {
     "data": {
      "text/plain": [
       "tensor([-12.,  65.], grad_fn=<SubBackward0>)"
      ]
     },
     "execution_count": 226,
     "metadata": {},
     "output_type": "execute_result"
    }
   ],
   "source": []
  },
  {
   "cell_type": "code",
   "execution_count": 221,
   "id": "entertaining-harvard",
   "metadata": {},
   "outputs": [
    {
     "data": {
      "text/plain": [
       "tensor([36., 81.], grad_fn=<MulBackward0>)"
      ]
     },
     "execution_count": 221,
     "metadata": {},
     "output_type": "execute_result"
    }
   ],
   "source": [
    "9*a**2"
   ]
  },
  {
   "cell_type": "code",
   "execution_count": 214,
   "id": "parallel-maryland",
   "metadata": {},
   "outputs": [
    {
     "data": {
      "text/plain": [
       "(tensor([[9.9753e+00, 9.9753e+00],\n",
       "         [8.3447e-06, 8.3447e-06],\n",
       "         [9.9753e+00, 9.9753e+00],\n",
       "         [9.9753e+00, 9.9753e+00],\n",
       "         [9.9753e+00, 9.9753e+00],\n",
       "         [8.3447e-06, 8.3447e-06],\n",
       "         [8.3447e-06, 8.3447e-06],\n",
       "         [9.9753e+00, 9.9753e+00],\n",
       "         [9.9753e+00, 9.9753e+00],\n",
       "         [9.9753e+00, 9.9753e+00],\n",
       "         [9.9753e+00, 9.9753e+00],\n",
       "         [8.3447e-06, 8.3447e-06],\n",
       "         [9.9753e+00, 9.9753e+00],\n",
       "         [9.9753e+00, 9.9753e+00],\n",
       "         [8.3447e-06, 8.3447e-06],\n",
       "         [9.9753e+00, 9.9753e+00],\n",
       "         [9.9753e+00, 9.9753e+00],\n",
       "         [8.3447e-06, 8.3447e-06],\n",
       "         [9.9753e+00, 9.9753e+00],\n",
       "         [9.9753e+00, 9.9753e+00],\n",
       "         [8.3447e-06, 8.3447e-06],\n",
       "         [9.9753e+00, 9.9753e+00],\n",
       "         [8.3447e-06, 8.3447e-06],\n",
       "         [9.9753e+00, 9.9753e+00],\n",
       "         [9.9753e+00, 9.9753e+00],\n",
       "         [8.3447e-06, 8.3447e-06],\n",
       "         [8.3447e-06, 8.3447e-06],\n",
       "         [9.9753e+00, 9.9753e+00],\n",
       "         [9.9753e+00, 9.9753e+00],\n",
       "         [9.9753e+00, 9.9753e+00],\n",
       "         [8.3447e-06, 8.3447e-06],\n",
       "         [8.3447e-06, 8.3447e-06],\n",
       "         [8.3447e-06, 8.3447e-06],\n",
       "         [8.3447e-06, 8.3447e-06],\n",
       "         [8.3447e-06, 8.3447e-06],\n",
       "         [9.9753e+00, 9.9753e+00],\n",
       "         [8.3447e-06, 8.3447e-06],\n",
       "         [9.9753e+00, 9.9753e+00],\n",
       "         [8.3447e-06, 8.3447e-06],\n",
       "         [8.3447e-06, 8.3447e-06],\n",
       "         [8.3447e-06, 8.3447e-06],\n",
       "         [9.9753e+00, 9.9753e+00],\n",
       "         [8.3447e-06, 8.3447e-06],\n",
       "         [9.9753e+00, 9.9753e+00],\n",
       "         [8.3447e-06, 8.3447e-06],\n",
       "         [8.3447e-06, 8.3447e-06],\n",
       "         [8.3447e-06, 8.3447e-06],\n",
       "         [8.3447e-06, 8.3447e-06],\n",
       "         [9.9753e+00, 9.9753e+00],\n",
       "         [8.3447e-06, 8.3447e-06],\n",
       "         [8.3447e-06, 8.3447e-06],\n",
       "         [8.3447e-06, 8.3447e-06],\n",
       "         [8.3447e-06, 8.3447e-06],\n",
       "         [9.9753e+00, 9.9753e+00],\n",
       "         [9.9753e+00, 9.9753e+00],\n",
       "         [8.3447e-06, 8.3447e-06],\n",
       "         [8.3447e-06, 8.3447e-06],\n",
       "         [9.9753e+00, 9.9753e+00],\n",
       "         [9.9753e+00, 9.9753e+00],\n",
       "         [9.9753e+00, 9.9753e+00],\n",
       "         [9.9753e+00, 9.9753e+00],\n",
       "         [8.3447e-06, 8.3447e-06],\n",
       "         [9.9753e+00, 9.9753e+00],\n",
       "         [8.3447e-06, 8.3447e-06]], device='cuda:0'),\n",
       " tensor([[4.9876e+00, 4.9876e+00],\n",
       "         [4.1723e-06, 4.1723e-06],\n",
       "         [4.9876e+00, 4.9876e+00],\n",
       "         [4.9876e+00, 4.9876e+00],\n",
       "         [4.9876e+00, 4.9876e+00],\n",
       "         [4.1723e-06, 4.1723e-06],\n",
       "         [4.1723e-06, 4.1723e-06],\n",
       "         [4.9876e+00, 4.9876e+00],\n",
       "         [4.9876e+00, 4.9876e+00],\n",
       "         [4.9876e+00, 4.9876e+00],\n",
       "         [4.9876e+00, 4.9876e+00],\n",
       "         [4.1723e-06, 4.1723e-06],\n",
       "         [4.9876e+00, 4.9876e+00],\n",
       "         [4.9876e+00, 4.9876e+00],\n",
       "         [4.1723e-06, 4.1723e-06],\n",
       "         [4.9876e+00, 4.9876e+00],\n",
       "         [4.9876e+00, 4.9876e+00],\n",
       "         [4.1723e-06, 4.1723e-06],\n",
       "         [4.9876e+00, 4.9876e+00],\n",
       "         [4.9876e+00, 4.9876e+00],\n",
       "         [4.1723e-06, 4.1723e-06],\n",
       "         [4.9876e+00, 4.9876e+00],\n",
       "         [4.1723e-06, 4.1723e-06],\n",
       "         [4.9876e+00, 4.9876e+00],\n",
       "         [4.9876e+00, 4.9876e+00],\n",
       "         [4.1723e-06, 4.1723e-06],\n",
       "         [4.1723e-06, 4.1723e-06],\n",
       "         [4.9876e+00, 4.9876e+00],\n",
       "         [4.9876e+00, 4.9876e+00],\n",
       "         [4.9876e+00, 4.9876e+00],\n",
       "         [4.1723e-06, 4.1723e-06],\n",
       "         [4.1723e-06, 4.1723e-06],\n",
       "         [4.1723e-06, 4.1723e-06],\n",
       "         [4.1723e-06, 4.1723e-06],\n",
       "         [4.1723e-06, 4.1723e-06],\n",
       "         [4.9876e+00, 4.9876e+00],\n",
       "         [4.1723e-06, 4.1723e-06],\n",
       "         [4.9876e+00, 4.9876e+00],\n",
       "         [4.1723e-06, 4.1723e-06],\n",
       "         [4.1723e-06, 4.1723e-06],\n",
       "         [4.1723e-06, 4.1723e-06],\n",
       "         [4.9876e+00, 4.9876e+00],\n",
       "         [4.1723e-06, 4.1723e-06],\n",
       "         [4.9876e+00, 4.9876e+00],\n",
       "         [4.1723e-06, 4.1723e-06],\n",
       "         [4.1723e-06, 4.1723e-06],\n",
       "         [4.1723e-06, 4.1723e-06],\n",
       "         [4.1723e-06, 4.1723e-06],\n",
       "         [4.9876e+00, 4.9876e+00],\n",
       "         [4.1723e-06, 4.1723e-06],\n",
       "         [4.1723e-06, 4.1723e-06],\n",
       "         [4.1723e-06, 4.1723e-06],\n",
       "         [4.1723e-06, 4.1723e-06],\n",
       "         [4.9876e+00, 4.9876e+00],\n",
       "         [4.9876e+00, 4.9876e+00],\n",
       "         [4.1723e-06, 4.1723e-06],\n",
       "         [4.1723e-06, 4.1723e-06],\n",
       "         [4.9876e+00, 4.9876e+00],\n",
       "         [4.9876e+00, 4.9876e+00],\n",
       "         [4.9876e+00, 4.9876e+00],\n",
       "         [4.9876e+00, 4.9876e+00],\n",
       "         [4.1723e-06, 4.1723e-06],\n",
       "         [4.9876e+00, 4.9876e+00],\n",
       "         [4.1723e-06, 4.1723e-06]], device='cuda:0'))"
      ]
     },
     "execution_count": 214,
     "metadata": {},
     "output_type": "execute_result"
    }
   ],
   "source": [
    "X_grad[0],X_grad1[0]"
   ]
  },
  {
   "cell_type": "code",
   "execution_count": 199,
   "id": "driving-casting",
   "metadata": {},
   "outputs": [
    {
     "ename": "RuntimeError",
     "evalue": "Trying to backward through the graph a second time, but the buffers have already been freed. Specify retain_graph=True when calling backward the first time.",
     "output_type": "error",
     "traceback": [
      "\u001b[0;31m---------------------------------------------------------------------------\u001b[0m",
      "\u001b[0;31mRuntimeError\u001b[0m                              Traceback (most recent call last)",
      "\u001b[0;32m<ipython-input-199-94c6419ceb27>\u001b[0m in \u001b[0;36m<module>\u001b[0;34m\u001b[0m\n\u001b[1;32m      1\u001b[0m X_grad1=grad(outputs=output_log, inputs=X,\n\u001b[0;32m----> 2\u001b[0;31m            \u001b[0mgrad_outputs\u001b[0m\u001b[0;34m=\u001b[0m\u001b[0mtorch\u001b[0m\u001b[0;34m.\u001b[0m\u001b[0mzeros_like\u001b[0m\u001b[0;34m(\u001b[0m\u001b[0moutput\u001b[0m\u001b[0;34m)\u001b[0m\u001b[0;34m,\u001b[0m\u001b[0;34m\u001b[0m\u001b[0;34m\u001b[0m\u001b[0m\n\u001b[0m\u001b[1;32m      3\u001b[0m            )\n",
      "\u001b[0;32m~/tools/miniconda3/envs/MarcoPolo/lib/python3.7/site-packages/torch/autograd/__init__.py\u001b[0m in \u001b[0;36mgrad\u001b[0;34m(outputs, inputs, grad_outputs, retain_graph, create_graph, only_inputs, allow_unused)\u001b[0m\n\u001b[1;32m    155\u001b[0m     return Variable._execution_engine.run_backward(\n\u001b[1;32m    156\u001b[0m         \u001b[0moutputs\u001b[0m\u001b[0;34m,\u001b[0m \u001b[0mgrad_outputs\u001b[0m\u001b[0;34m,\u001b[0m \u001b[0mretain_graph\u001b[0m\u001b[0;34m,\u001b[0m \u001b[0mcreate_graph\u001b[0m\u001b[0;34m,\u001b[0m\u001b[0;34m\u001b[0m\u001b[0;34m\u001b[0m\u001b[0m\n\u001b[0;32m--> 157\u001b[0;31m         inputs, allow_unused)\n\u001b[0m\u001b[1;32m    158\u001b[0m \u001b[0;34m\u001b[0m\u001b[0m\n\u001b[1;32m    159\u001b[0m \u001b[0;34m\u001b[0m\u001b[0m\n",
      "\u001b[0;31mRuntimeError\u001b[0m: Trying to backward through the graph a second time, but the buffers have already been freed. Specify retain_graph=True when calling backward the first time."
     ]
    }
   ],
   "source": [
    "X_grad1=grad(outputs=output_log, inputs=X,\n",
    "           grad_outputs=torch.zeros_like(output),\n",
    "           )"
   ]
  },
  {
   "cell_type": "code",
   "execution_count": null,
   "id": "coral-destination",
   "metadata": {},
   "outputs": [],
   "source": []
  },
  {
   "cell_type": "markdown",
   "id": "pressed-spanking",
   "metadata": {},
   "source": [
    "# gradient"
   ]
  },
  {
   "cell_type": "code",
   "execution_count": null,
   "id": "equivalent-example",
   "metadata": {},
   "outputs": [],
   "source": []
  },
  {
   "cell_type": "markdown",
   "id": "thermal-prototype",
   "metadata": {},
   "source": [
    "# IG2"
   ]
  },
  {
   "cell_type": "code",
   "execution_count": null,
   "id": "bearing-overview",
   "metadata": {},
   "outputs": [],
   "source": []
  },
  {
   "cell_type": "markdown",
   "id": "important-television",
   "metadata": {},
   "source": [
    "# IG4"
   ]
  },
  {
   "cell_type": "code",
   "execution_count": null,
   "id": "lovely-thanksgiving",
   "metadata": {},
   "outputs": [],
   "source": []
  },
  {
   "cell_type": "code",
   "execution_count": null,
   "id": "connected-burst",
   "metadata": {},
   "outputs": [],
   "source": []
  },
  {
   "cell_type": "code",
   "execution_count": 48,
   "id": "phantom-preserve",
   "metadata": {},
   "outputs": [
    {
     "data": {
      "text/plain": [
       "tensor([[1.0000, 0.0000],\n",
       "        [1.0000, 0.0100],\n",
       "        [1.0000, 0.0200],\n",
       "        [1.0000, 0.0300],\n",
       "        [1.0000, 0.0400],\n",
       "        [1.0000, 0.0500],\n",
       "        [1.0000, 0.0600],\n",
       "        [1.0000, 0.0700],\n",
       "        [1.0000, 0.0800],\n",
       "        [1.0000, 0.0900],\n",
       "        [1.0000, 0.1000],\n",
       "        [1.0000, 0.1100],\n",
       "        [1.0000, 0.1200],\n",
       "        [1.0000, 0.1300],\n",
       "        [1.0000, 0.1400],\n",
       "        [1.0000, 0.1500],\n",
       "        [1.0000, 0.1600],\n",
       "        [1.0000, 0.1700],\n",
       "        [1.0000, 0.1800],\n",
       "        [1.0000, 0.1900],\n",
       "        [1.0000, 0.2000],\n",
       "        [1.0000, 0.2100],\n",
       "        [1.0000, 0.2200],\n",
       "        [1.0000, 0.2300],\n",
       "        [1.0000, 0.2400],\n",
       "        [1.0000, 0.2500],\n",
       "        [1.0000, 0.2600],\n",
       "        [1.0000, 0.2700],\n",
       "        [1.0000, 0.2800],\n",
       "        [1.0000, 0.2900],\n",
       "        [1.0000, 0.3000],\n",
       "        [1.0000, 0.3100],\n",
       "        [1.0000, 0.3200],\n",
       "        [1.0000, 0.3300],\n",
       "        [1.0000, 0.3400],\n",
       "        [1.0000, 0.3500],\n",
       "        [1.0000, 0.3600],\n",
       "        [1.0000, 0.3700],\n",
       "        [1.0000, 0.3800],\n",
       "        [1.0000, 0.3900],\n",
       "        [1.0000, 0.4000],\n",
       "        [1.0000, 0.4100],\n",
       "        [1.0000, 0.4200],\n",
       "        [1.0000, 0.4300],\n",
       "        [1.0000, 0.4400],\n",
       "        [1.0000, 0.4500],\n",
       "        [1.0000, 0.4600],\n",
       "        [1.0000, 0.4700],\n",
       "        [1.0000, 0.4800],\n",
       "        [1.0000, 0.4900],\n",
       "        [1.0000, 0.5000],\n",
       "        [1.0000, 0.5100],\n",
       "        [1.0000, 0.5200],\n",
       "        [1.0000, 0.5300],\n",
       "        [1.0000, 0.5400],\n",
       "        [1.0000, 0.5500],\n",
       "        [1.0000, 0.5600],\n",
       "        [1.0000, 0.5700],\n",
       "        [1.0000, 0.5800],\n",
       "        [1.0000, 0.5900],\n",
       "        [1.0000, 0.6000],\n",
       "        [1.0000, 0.6100],\n",
       "        [1.0000, 0.6200],\n",
       "        [1.0000, 0.6300],\n",
       "        [1.0000, 0.6400],\n",
       "        [1.0000, 0.6500],\n",
       "        [1.0000, 0.6600],\n",
       "        [1.0000, 0.6700],\n",
       "        [1.0000, 0.6800],\n",
       "        [1.0000, 0.6900],\n",
       "        [1.0000, 0.7000],\n",
       "        [1.0000, 0.7100],\n",
       "        [1.0000, 0.7200],\n",
       "        [1.0000, 0.7300],\n",
       "        [1.0000, 0.7400],\n",
       "        [1.0000, 0.7500],\n",
       "        [1.0000, 0.7600],\n",
       "        [1.0000, 0.7700],\n",
       "        [1.0000, 0.7800],\n",
       "        [1.0000, 0.7900],\n",
       "        [1.0000, 0.8000],\n",
       "        [1.0000, 0.8100],\n",
       "        [1.0000, 0.8200],\n",
       "        [1.0000, 0.8300],\n",
       "        [1.0000, 0.8400],\n",
       "        [1.0000, 0.8500],\n",
       "        [1.0000, 0.8600],\n",
       "        [1.0000, 0.8700],\n",
       "        [1.0000, 0.8800],\n",
       "        [1.0000, 0.8900],\n",
       "        [1.0000, 0.9000],\n",
       "        [1.0000, 0.9100],\n",
       "        [1.0000, 0.9200],\n",
       "        [1.0000, 0.9300],\n",
       "        [1.0000, 0.9400],\n",
       "        [1.0000, 0.9500],\n",
       "        [1.0000, 0.9600],\n",
       "        [1.0000, 0.9700],\n",
       "        [1.0000, 0.9800],\n",
       "        [1.0000, 0.9900]], device='cuda:0', dtype=torch.float64)"
      ]
     },
     "execution_count": 48,
     "metadata": {},
     "output_type": "execute_result"
    }
   ],
   "source": [
    "one_arange"
   ]
  },
  {
   "cell_type": "code",
   "execution_count": null,
   "id": "assisted-element",
   "metadata": {},
   "outputs": [],
   "source": []
  }
 ],
 "metadata": {
  "kernelspec": {
   "display_name": "MarcoPolo",
   "language": "python",
   "name": "marcopolo"
  },
  "language_info": {
   "codemirror_mode": {
    "name": "ipython",
    "version": 3
   },
   "file_extension": ".py",
   "mimetype": "text/x-python",
   "name": "python",
   "nbconvert_exporter": "python",
   "pygments_lexer": "ipython3",
   "version": "3.7.9"
  }
 },
 "nbformat": 4,
 "nbformat_minor": 5
}
