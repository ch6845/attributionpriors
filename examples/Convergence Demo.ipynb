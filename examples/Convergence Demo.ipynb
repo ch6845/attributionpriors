{
 "cells": [
  {
   "cell_type": "markdown",
   "metadata": {},
   "source": [
    "# Convergence Demo"
   ]
  },
  {
   "cell_type": "markdown",
   "metadata": {},
   "source": [
    "In this notebook, we demonstrate a very quick and lightweight example that shows how to use attribution priors. It should take only a minute or two to run on CPU on any standard laptop. This notebook also demonstrates the benefit of _Expected Gradients_ as a feature attribution method for use with attribution priors. Since our expected gradients explainer is able to overcome saturation, it can fix the spurious correlation. Regularizing the input gradients or integrated gradients does not work as well"
   ]
  },
  {
   "cell_type": "code",
   "execution_count": 1,
   "metadata": {
    "scrolled": true
   },
   "outputs": [],
   "source": [
    "from attributionpriors.pytorch_ops import AttributionPriorExplainer\n",
    "# to run IG examples, use the Pytorch Path Explainer from https://github.com/suinleelab/path_explain\n",
    "from path_explain import PathExplainerTorch "
   ]
  },
  {
   "cell_type": "code",
   "execution_count": 3,
   "metadata": {},
   "outputs": [],
   "source": [
    "import numpy as np\n",
    "import pandas as pd\n",
    "import pickle\n",
    "\n",
    "import matplotlib.pyplot as plt\n",
    "import random\n",
    "\n",
    "\n",
    "import os\n",
    "from tqdm import *\n",
    "\n",
    "import sys\n",
    "sys.path.insert(0, '../')\n",
    "\n",
    "np.random.seed(1017)\n",
    "random.seed(1017)\n",
    "\n",
    "import torch\n",
    "from torch.autograd import grad\n",
    "from torch.utils.data import Dataset, DataLoader\n",
    "\n",
    "from mpl_toolkits.mplot3d import Axes3D\n",
    "import matplotlib as mpl"
   ]
  },
  {
   "cell_type": "code",
   "execution_count": 4,
   "metadata": {},
   "outputs": [],
   "source": [
    "device=torch.device('cuda')"
   ]
  },
  {
   "cell_type": "markdown",
   "metadata": {},
   "source": [
    "### define data"
   ]
  },
  {
   "cell_type": "markdown",
   "metadata": {},
   "source": [
    "Define a toy dataset with two features $x_1$ and $x_2$. In the training data, $x_1$ and $x_2$ are perfectly correlated. In the test data, they are uncorrelated. We want to model a third variable that is defined $y$ = $x_1$"
   ]
  },
  {
   "cell_type": "code",
   "execution_count": 5,
   "metadata": {},
   "outputs": [],
   "source": [
    "class BinaryData(Dataset):\n",
    "    \n",
    "    def __init__(self, X, y=None, transform=None):\n",
    "        self.X = X\n",
    "        self.y = y\n",
    "        self.transform = transform\n",
    "        \n",
    "    def __len__(self):\n",
    "        return self.X.shape[0]\n",
    "    \n",
    "    def __getitem__(self, index):\n",
    "        sample = self.X[index,:]\n",
    "        \n",
    "        if self.transform is not None:\n",
    "            sample = self.transform(sample)\n",
    "            \n",
    "        if self.y is not None:\n",
    "            return sample, self.y[index]\n",
    "        else:\n",
    "            return sample"
   ]
  },
  {
   "cell_type": "code",
   "execution_count": 6,
   "metadata": {},
   "outputs": [],
   "source": [
    "a = torch.empty(1000,1).uniform_(0, 1)\n",
    "x = torch.bernoulli(a)\n",
    "x_train = torch.cat([x,x],axis=1)\n",
    "\n",
    "a_test = torch.empty(1000,2).uniform_(0, 1)\n",
    "x_test = torch.bernoulli(a_test)\n",
    "\n",
    "y_train = x_train[:,0]\n",
    "y_test = x_test[:,0]"
   ]
  },
  {
   "cell_type": "code",
   "execution_count": 7,
   "metadata": {},
   "outputs": [],
   "source": [
    "train_dataset = BinaryData(x_train,y_train)\n",
    "train_loader = DataLoader(dataset=train_dataset, batch_size=64, shuffle=True, drop_last=True)\n",
    "\n",
    "test_dataset = BinaryData(x_test,y_test)\n",
    "test_loader = DataLoader(dataset=test_dataset, batch_size=64, shuffle=True, drop_last=True)"
   ]
  },
  {
   "cell_type": "markdown",
   "metadata": {},
   "source": [
    "### define a model"
   ]
  },
  {
   "cell_type": "markdown",
   "metadata": {},
   "source": [
    "We can then initialize a neural network that might have been trained on this data, which depends on both features (since they are perfectly correlated in the training data, the model could depend on both equally)."
   ]
  },
  {
   "cell_type": "code",
   "execution_count": 8,
   "metadata": {},
   "outputs": [],
   "source": [
    "##\n",
    "## While this is obviously a trivial network, it makes training quick on CPU and helps illustrate the point\n",
    "##\n",
    "\n",
    "class MLP(torch.nn.Module):\n",
    "    def __init__(self):\n",
    "        super(MLP, self).__init__()\n",
    "        self.layers = torch.nn.Sequential(\n",
    "                    torch.nn.Linear(2, 1),\n",
    "                    torch.nn.Sigmoid()\n",
    "                )\n",
    "    def forward(self, x):\n",
    "        x = self.layers(x)\n",
    "        return x"
   ]
  },
  {
   "cell_type": "code",
   "execution_count": 9,
   "metadata": {},
   "outputs": [],
   "source": [
    "##\n",
    "## Function to measure ground truth dependence of model on feature two vs. feature one\n",
    "##\n",
    "\n",
    "def calc_dependence(model):\n",
    "    off_tensor_one = torch.tensor(np.concatenate([np.arange(0,1,0.01).reshape(-1,1),np.zeros(100).reshape(-1,1)],axis=1)).float().to(device)\n",
    "    on_tensor_one = torch.tensor(np.concatenate([np.arange(0,1,0.01).reshape(-1,1),np.ones(100).reshape(-1,1)],axis=1)).float().to(device)\n",
    "    \n",
    "    off_tensor_zero = torch.tensor(np.concatenate([np.zeros(100).reshape(-1,1), np.arange(0,1,0.01).reshape(-1,1)],axis=1)).float().to(device)\n",
    "    on_tensor_zero = torch.tensor(np.concatenate([np.ones(100).reshape(-1,1), np.arange(0,1,0.01).reshape(-1,1)],axis=1)).float().to(device)\n",
    "    \n",
    "    zero_dep = (model(on_tensor_zero)-model(off_tensor_zero)).mean().detach().cpu().numpy().reshape(-1)[0]\n",
    "    one_dep = (model(on_tensor_one)-model(off_tensor_one)).mean().detach().cpu().numpy().reshape(-1)[0]\n",
    "    \n",
    "    return one_dep/zero_dep, zero_dep, one_dep"
   ]
  },
  {
   "cell_type": "markdown",
   "metadata": {},
   "source": [
    "#### How many samples k are necessary for EG to regularize dependence on feature 2?"
   ]
  },
  {
   "cell_type": "markdown",
   "metadata": {},
   "source": [
    "For 5 different numbers of $k$, measure convergence of objective over number of epochs"
   ]
  },
  {
   "cell_type": "code",
   "execution_count": 11,
   "metadata": {},
   "outputs": [
    {
     "name": "stdout",
     "output_type": "stream",
     "text": [
      "k = 1\n"
     ]
    },
    {
     "name": "stderr",
     "output_type": "stream",
     "text": [
      "/home/ch6845/tools/miniconda3/envs/MarcoPolo/lib/python3.7/site-packages/torch/nn/modules/loss.py:498: UserWarning: Using a target size (torch.Size([64])) that is different to the input size (torch.Size([64, 1])) is deprecated. Please ensure they have the same size.\n",
      "  return F.binary_cross_entropy(input, target, weight=self.weight, reduction=self.reduction)\n"
     ]
    },
    {
     "name": "stdout",
     "output_type": "stream",
     "text": [
      "k = 2\n",
      "k = 3\n",
      "k = 4\n",
      "k = 5\n"
     ]
    }
   ],
   "source": [
    "convergence_rate_list = []\n",
    "\n",
    "for k in [1,2,3,4,5]:\n",
    "    ##\n",
    "    ## Initialize an MLP that depends equally on both features\n",
    "    ##\n",
    "    \n",
    "    print('k =', k)\n",
    "\n",
    "    model = MLP().to(device)\n",
    "    with torch.no_grad():\n",
    "        model.layers[0].weight[0, 0] = 10.\n",
    "        model.layers[0].weight[0, 1] = 10.\n",
    "        model.layers[0].bias[0] = -6.\n",
    "    \n",
    "    ##\n",
    "    ## Define a background distribution (in this case the all-0s distribution will suffice)\n",
    "    ## and initialize Expected Gradients explainer\n",
    "    ##\n",
    "\n",
    "    x_zeros = torch.zeros_like(x)\n",
    "    background_dataset = BinaryData(x_zeros, y_train)\n",
    "\n",
    "    APExp = AttributionPriorExplainer(background_dataset, 64, k=k)\n",
    "    \n",
    "    optimizer = torch.optim.Adam(model.parameters(), lr=1e-2)\n",
    "    bce_term = torch.nn.BCELoss()\n",
    "    \n",
    "    mean_train_losses = []\n",
    "    mean_valid_losses = []\n",
    "\n",
    "    best_mtl = np.inf\n",
    "    best_epoch = None\n",
    "    \n",
    "    convergence_list = []\n",
    "\n",
    "    for epoch in range(200):\n",
    "        model.train()\n",
    "\n",
    "        train_losses = []\n",
    "        valid_losses = []\n",
    "\n",
    "        # train\n",
    "        for i, (features, labels) in enumerate(train_loader):\n",
    "            features, labels = features.float().to(device), labels.float().to(device)\n",
    "            optimizer.zero_grad()\n",
    "\n",
    "            outputs = model(features)\n",
    "\n",
    "            ## get attributions\n",
    "            eg = APExp.shap_values(model,features)\n",
    "            ## get the average magnitude of the attributions\n",
    "            ma_eg = eg.abs().mean(0)\n",
    "            ## penalize the average magnitude of the attributions for feature $x_2$\n",
    "            loss = bce_term(outputs,labels) + ma_eg[1].abs()\n",
    "\n",
    "            loss.backward(retain_graph=True)\n",
    "            optimizer.step()\n",
    "            train_losses.append(loss.item())\n",
    "\n",
    "        if np.mean(train_losses) < best_mtl:\n",
    "            best_epoch = epoch\n",
    "            best_mtl = np.mean(train_losses)\n",
    "\n",
    "        mean_train_losses.append(np.mean(train_losses))\n",
    "        convergence_list.append(calc_dependence(model)[0])\n",
    "        \n",
    "    convergence_rate_list.append(convergence_list)"
   ]
  },
  {
   "cell_type": "markdown",
   "metadata": {},
   "source": [
    "#### Repeat experiment but with the log prob. gradients, as proposed in Ross et al."
   ]
  },
  {
   "cell_type": "code",
   "execution_count": 13,
   "metadata": {},
   "outputs": [
    {
     "name": "stderr",
     "output_type": "stream",
     "text": [
      "/home/ch6845/tools/miniconda3/envs/MarcoPolo/lib/python3.7/site-packages/torch/nn/modules/loss.py:498: UserWarning: Using a target size (torch.Size([64])) that is different to the input size (torch.Size([64, 1])) is deprecated. Please ensure they have the same size.\n",
      "  return F.binary_cross_entropy(input, target, weight=self.weight, reduction=self.reduction)\n"
     ]
    }
   ],
   "source": [
    "##\n",
    "## add log prob gradients\n",
    "bce_term = torch.nn.BCELoss()\n",
    "\n",
    "model = MLP().to(device)\n",
    "with torch.no_grad():\n",
    "    model.layers[0].weight[0, 0] = 10.\n",
    "    model.layers[0].weight[0, 1] = 10.\n",
    "    model.layers[0].bias[0] = -6.\n",
    "\n",
    "optimizer = torch.optim.Adam(model.parameters(), lr=1e-2)\n",
    "mse_term = torch.nn.MSELoss()\n",
    "\n",
    "mean_train_losses = []\n",
    "mean_valid_losses = []\n",
    "\n",
    "best_mtl = np.inf\n",
    "best_epoch = None\n",
    "\n",
    "log_gradients_list = []\n",
    "\n",
    "for epoch in range(200):\n",
    "    model.train()\n",
    "\n",
    "    train_losses = []\n",
    "    valid_losses = []\n",
    "\n",
    "    # train\n",
    "    for i, (features, labels) in enumerate(train_loader):\n",
    "        features, labels = features.float().to(device), labels.float().to(device)\n",
    "        features.requires_grad = True\n",
    "\n",
    "        optimizer.zero_grad()\n",
    "        \n",
    "        outputs = model(features)\n",
    "        new_outputs = torch.log(outputs)\n",
    "        inp_grad = grad(outputs=new_outputs,\n",
    "                    inputs=features,\n",
    "                    grad_outputs=torch.ones_like(outputs),\n",
    "                    create_graph=True)[0]\n",
    "        ma_ig = inp_grad.abs().mean(0)\n",
    "#         loss = ma_ig[1].abs()\n",
    "        loss = bce_term(outputs,labels) + ma_ig[1].abs()\n",
    "        loss.backward(retain_graph=True)\n",
    "        optimizer.step()\n",
    "        train_losses.append(loss.item())\n",
    "\n",
    "    if np.mean(train_losses) < best_mtl:\n",
    "        best_epoch = epoch\n",
    "        best_mtl = np.mean(train_losses)\n",
    "\n",
    "    mean_train_losses.append(np.mean(train_losses))\n",
    "    log_gradients_list.append(calc_dependence(model)[0])"
   ]
  },
  {
   "cell_type": "code",
   "execution_count": 14,
   "metadata": {},
   "outputs": [],
   "source": [
    "##\n",
    "## add output gradients, modification of Ross et al. penalty \n",
    "bce_term = torch.nn.BCELoss()\n",
    "\n",
    "model = MLP().to(device)\n",
    "with torch.no_grad():\n",
    "    model.layers[0].weight[0, 0] = 10.\n",
    "    model.layers[0].weight[0, 1] = 10.\n",
    "    model.layers[0].bias[0] = -6.\n",
    "\n",
    "optimizer = torch.optim.Adam(model.parameters(), lr=1e-2)\n",
    "mse_term = torch.nn.MSELoss()\n",
    "\n",
    "mean_train_losses = []\n",
    "mean_valid_losses = []\n",
    "\n",
    "best_mtl = np.inf\n",
    "best_epoch = None\n",
    "\n",
    "gradients_list = []\n",
    "\n",
    "for epoch in range(200):\n",
    "    model.train()\n",
    "\n",
    "    train_losses = []\n",
    "    valid_losses = []\n",
    "\n",
    "    # train\n",
    "    for i, (features, labels) in enumerate(train_loader):\n",
    "        features, labels = features.float().to(device), labels.float().to(device)\n",
    "        features.requires_grad = True\n",
    "\n",
    "        optimizer.zero_grad()\n",
    "        \n",
    "        outputs = model(features)\n",
    "        inp_grad = grad(outputs=outputs,\n",
    "                    inputs=features,\n",
    "                    grad_outputs=torch.ones_like(outputs),\n",
    "                    create_graph=True)[0]\n",
    "        ma_ig = inp_grad.abs().mean(0)\n",
    "        loss = bce_term(outputs,labels) + ma_ig[1].abs()\n",
    "        loss.backward(retain_graph=True)\n",
    "        optimizer.step()\n",
    "        train_losses.append(loss.item())\n",
    "\n",
    "    if np.mean(train_losses) < best_mtl:\n",
    "        best_epoch = epoch\n",
    "        best_mtl = np.mean(train_losses)\n",
    "\n",
    "    mean_train_losses.append(np.mean(train_losses))\n",
    "    gradients_list.append(calc_dependence(model)[0])"
   ]
  },
  {
   "cell_type": "markdown",
   "metadata": {},
   "source": [
    "#### run with IG"
   ]
  },
  {
   "cell_type": "code",
   "execution_count": 15,
   "metadata": {},
   "outputs": [],
   "source": [
    "model = MLP().to(device)\n",
    "with torch.no_grad():\n",
    "    model.layers[0].weight[0, 0] = 10.\n",
    "    model.layers[0].weight[0, 1] = 10.\n",
    "    model.layers[0].bias[0] = -6.\n",
    "\n",
    "##\n",
    "## Define a background distribution (in this case the all-0s distribution will suffice)\n",
    "## and initialize Expected Gradients explainer\n",
    "##\n",
    "\n",
    "x_zeros = torch.zeros_like(x)\n",
    "background_dataset = BinaryData(x_zeros,y_train)\n",
    "\n",
    "optimizer = torch.optim.Adam(model.parameters(), lr=1e-2)\n",
    "bce_term = torch.nn.BCELoss()\n",
    "\n",
    "mean_train_losses = []\n",
    "mean_valid_losses = []\n",
    "\n",
    "best_mtl = np.inf\n",
    "best_epoch = None\n",
    "\n",
    "ig_2_list = []\n",
    "\n",
    "for epoch in range(200):\n",
    "    model.train()\n",
    "\n",
    "    train_losses = []\n",
    "    valid_losses = []\n",
    "\n",
    "    # train\n",
    "    for i, (features, labels) in enumerate(train_loader):\n",
    "        features, labels = features.float().to(device), labels.float().to(device)\n",
    "        features.requires_grad = True\n",
    "        optimizer.zero_grad()\n",
    "\n",
    "        outputs = model(features)\n",
    "\n",
    "        ## get attributions\n",
    "        APExp = PathExplainerTorch(model)\n",
    "        eg = APExp.attributions(features,torch.zeros_like(features)[0,:],use_expectation=False, num_samples = 2)\n",
    "        ## get the average magnitude of the attributions\n",
    "        ma_eg = eg.abs().mean(0)\n",
    "        ## penalize the average magnitude of the attributions for feature $x_2$\n",
    "        loss = bce_term(outputs,labels) + ma_eg[1].abs()\n",
    "        loss.backward(retain_graph=True)\n",
    "        optimizer.step()\n",
    "        train_losses.append(loss.item())\n",
    "\n",
    "    if np.mean(train_losses) < best_mtl:\n",
    "        best_epoch = epoch\n",
    "        best_mtl = np.mean(train_losses)\n",
    "\n",
    "    mean_train_losses.append(np.mean(train_losses))\n",
    "    ig_2_list.append(calc_dependence(model)[0])"
   ]
  },
  {
   "cell_type": "code",
   "execution_count": null,
   "metadata": {},
   "outputs": [],
   "source": [
    "model = MLP().to(device)\n",
    "with torch.no_grad():\n",
    "    model.layers[0].weight[0, 0] = 10.\n",
    "    model.layers[0].weight[0, 1] = 10.\n",
    "    model.layers[0].bias[0] = -6.\n",
    "\n",
    "x_zeros = torch.zeros_like(x)\n",
    "background_dataset = BinaryData(x_zeros,y_train)\n",
    "\n",
    "\n",
    "optimizer = torch.optim.Adam(model.parameters(), lr=1e-2)\n",
    "bce_term = torch.nn.BCELoss()\n",
    "\n",
    "mean_train_losses = []\n",
    "mean_valid_losses = []\n",
    "\n",
    "best_mtl = np.inf\n",
    "best_epoch = None\n",
    "\n",
    "ig_4_list = []\n",
    "\n",
    "for epoch in range(200):\n",
    "    model.train()\n",
    "\n",
    "    train_losses = []\n",
    "    valid_losses = []\n",
    "\n",
    "    # train\n",
    "    for i, (features, labels) in enumerate(train_loader):\n",
    "        features, labels = features.float().to(device), labels.float().to(device)\n",
    "        features.requires_grad = True\n",
    "        optimizer.zero_grad()\n",
    "\n",
    "        outputs = model(features)\n",
    "\n",
    "        ## get attributions\n",
    "        APExp = PathExplainerTorch(model)\n",
    "        eg = APExp.attributions(features,torch.zeros_like(features)[0,:],use_expectation=False, num_samples = 4)\n",
    "        ## get the average magnitude of the attributions\n",
    "        ma_eg = eg.abs().mean(0)\n",
    "        ## penalize the average magnitude of the attributions for feature $x_2$\n",
    "        loss = bce_term(outputs,labels) + ma_eg[1].abs()\n",
    "        loss.backward(retain_graph=True)\n",
    "        optimizer.step()\n",
    "        train_losses.append(loss.item())\n",
    "\n",
    "    if np.mean(train_losses) < best_mtl:\n",
    "        best_epoch = epoch\n",
    "        best_mtl = np.mean(train_losses)\n",
    "\n",
    "    mean_train_losses.append(np.mean(train_losses))\n",
    "    ig_4_list.append(calc_dependence(model)[0])"
   ]
  },
  {
   "cell_type": "markdown",
   "metadata": {},
   "source": [
    "# plot number of epochs for convergence for each number of k for EG"
   ]
  },
  {
   "cell_type": "code",
   "execution_count": 17,
   "metadata": {},
   "outputs": [
    {
     "data": {
      "image/png": "[encoded data removed]",
      "text/plain": [
       "<Figure size 432x432 with 1 Axes>"
      ]
     },
     "metadata": {
      "needs_background": "light"
     },
     "output_type": "display_data"
    }
   ],
   "source": [
    "plt.figure(figsize=(6,6))\n",
    "for k,curve in enumerate(convergence_rate_list):\n",
    "    plt.plot(np.arange(len(curve)),curve,label=k+1)\n",
    "plt.xlim([40,75])\n",
    "plt.ylim([-0.01,0.4])\n",
    "plt.legend(title='k')\n",
    "plt.ylabel('fractional dependence on feature 2')\n",
    "plt.xlabel('epochs')\n",
    "plt.show()"
   ]
  },
  {
   "cell_type": "code",
   "execution_count": 18,
   "metadata": {},
   "outputs": [
    {
     "data": {
      "image/png": "[encoded data removed]",
      "text/plain": [
       "<Figure size 432x432 with 1 Axes>"
      ]
     },
     "metadata": {
      "needs_background": "light"
     },
     "output_type": "display_data"
    }
   ],
   "source": [
    "plt.figure(figsize=(6,6))\n",
    "for k,curve in enumerate(convergence_rate_list):\n",
    "    plt.plot((np.arange(len(curve))+1)*(k+1),curve,label=k+1)\n",
    "# plt.xlim([40,75])\n",
    "plt.xlim([0,350])\n",
    "plt.ylim([-0.01,0.4])\n",
    "plt.legend(title='k')\n",
    "plt.ylabel('fractional dependence on feature 2')\n",
    "plt.xlabel('gradient calls per training example')\n",
    "\n",
    "plt.show()"
   ]
  },
  {
   "cell_type": "markdown",
   "metadata": {},
   "source": [
    "# compare EG to other methods"
   ]
  },
  {
   "cell_type": "code",
   "execution_count": 19,
   "metadata": {},
   "outputs": [
    {
     "data": {
      "image/png": "[encoded data removed]",
      "text/plain": [
       "<Figure size 432x432 with 1 Axes>"
      ]
     },
     "metadata": {
      "needs_background": "light"
     },
     "output_type": "display_data"
    }
   ],
   "source": [
    "plt.figure(figsize=(6,6))\n",
    "\n",
    "plt.plot(np.arange(len(convergence_rate_list[0])),convergence_rate_list[0],label='EG, k=1')\n",
    "plt.plot(np.arange(len(gradients_list)),gradients_list,label='grads')\n",
    "plt.plot(np.arange(len(log_gradients_list)),log_gradients_list,label='log grads')\n",
    "plt.plot(np.arange(len(ig_2_list)),ig_2_list,label='IG, k = 3')\n",
    "plt.plot(np.arange(len(ig_4_list)),ig_4_list,label='IG, k = 5')\n",
    "\n",
    "plt.legend()\n",
    "plt.ylabel('fractional dependence on feature 2')\n",
    "plt.xlabel('epochs')\n",
    "plt.show()"
   ]
  },
  {
   "cell_type": "code",
   "execution_count": null,
   "metadata": {},
   "outputs": [],
   "source": []
  },
  {
   "cell_type": "code",
   "execution_count": null,
   "metadata": {},
   "outputs": [],
   "source": []
  }
 ],
 "metadata": {
  "kernelspec": {
   "display_name": "Python 3",
   "language": "python",
   "name": "python3"
  },
  "language_info": {
   "codemirror_mode": {
    "name": "ipython",
    "version": 3
   },
   "file_extension": ".py",
   "mimetype": "text/x-python",
   "name": "python",
   "nbconvert_exporter": "python",
   "pygments_lexer": "ipython3",
   "version": "3.7.9"
  }
 },
 "nbformat": 4,
 "nbformat_minor": 2
}
