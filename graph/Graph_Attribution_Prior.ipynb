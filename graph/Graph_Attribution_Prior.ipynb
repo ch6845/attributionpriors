{
 "cells": [
  {
   "cell_type": "markdown",
   "metadata": {},
   "source": [
    "# Graph Attribution Prior"
   ]
  },
  {
   "cell_type": "markdown",
   "metadata": {},
   "source": [
    "A simple illustrative example of how to train a feed-forward network to have feature attributions that are smooth over an arbitrary graph. We use AML _ex vivo_ drug response data (from [Tyner et. al. 2018](https://www.nature.com/articles/s41586-018-0623-z)), where our input data ($X$) are a matrix of drug features and gene expression data, and our labels ($y$) are a vector of drug response values (as measured by $\\textrm{IC}_{50}$, the concentration of a drug required to kill half of the cells). We first train for several epochs of standard training, then regularize the network to be smooth over a graph of [protein-protein interactions](https://hb.flatironinstitute.org/). Data to run this example can be downloaded [here](https://www.dropbox.com/sh/xvt3vqv8xjb5nwh/AAD5A1Y271gt4blQL5BXU78Ga/graph_experiments)."
   ]
  },
  {
   "cell_type": "code",
   "execution_count": 1,
   "metadata": {
    "collapsed": true
   },
   "outputs": [],
   "source": [
    "from attributionpriors.ops import AttributionPriorExplainer\n",
    "\n",
    "import numpy as np\n",
    "import pandas as pd\n",
    "import matplotlib.pyplot as plt\n",
    "import scipy.sparse as sp\n",
    "\n",
    "import pickle\n",
    "import random\n",
    "\n",
    "from sklearn.metrics import mean_squared_error \n",
    "from sklearn.preprocessing import StandardScaler\n",
    "from sklearn.model_selection import train_test_split\n",
    "\n",
    "import tensorflow as tf\n",
    "import sys\n",
    "import os\n",
    "\n",
    "from tqdm import *\n",
    "\n",
    "import sys\n",
    "sys.path.insert(0, '../')\n",
    "\n",
    "os.environ[\"CUDA_VISIBLE_DEVICES\"]=\"2\"\n",
    "\n",
    "np.random.seed(1017)\n",
    "random.seed(1017)"
   ]
  },
  {
   "cell_type": "markdown",
   "metadata": {},
   "source": [
    "### graph-handling functions"
   ]
  },
  {
   "cell_type": "code",
   "execution_count": 2,
   "metadata": {
    "collapsed": true
   },
   "outputs": [],
   "source": [
    "def convert_csr_to_sparse_tensor_inputs(X):\n",
    "    coo = sp.coo_matrix(X)\n",
    "    indices = np.mat([coo.row, coo.col]).transpose()\n",
    "    return indices, coo.data, coo.shape"
   ]
  },
  {
   "cell_type": "code",
   "execution_count": 3,
   "metadata": {
    "collapsed": true
   },
   "outputs": [],
   "source": [
    "def graph_mult(values, indices, shape, y):\n",
    "    # sparse tensor multiplication function\n",
    "    x_tensor = tf.SparseTensor(indices, values, shape)    \n",
    "    out_layer = tf.sparse_tensor_dense_matmul(x_tensor, y)\n",
    "    return out_layer"
   ]
  },
  {
   "cell_type": "code",
   "execution_count": 4,
   "metadata": {
    "collapsed": true
   },
   "outputs": [],
   "source": [
    "def adj_to_lap(x):\n",
    "    # calculate graph laplacian from adjacency matrix\n",
    "    rowsum = np.array(x.sum(1))\n",
    "    D = sp.diags(rowsum)\n",
    "    return D - x"
   ]
  },
  {
   "cell_type": "markdown",
   "metadata": {},
   "source": [
    "### load data"
   ]
  },
  {
   "cell_type": "code",
   "execution_count": 5,
   "metadata": {
    "collapsed": true
   },
   "outputs": [],
   "source": [
    "# load training/test data and labels\n",
    "\n",
    "X_train,y_train,X_test,y_test = pickle.load(open('../data/fully_preprocessed_data.p','rb'))"
   ]
  },
  {
   "cell_type": "code",
   "execution_count": 6,
   "metadata": {},
   "outputs": [],
   "source": [
    "# load graph\n",
    "\n",
    "adj_frame = pd.read_pickle('../data/hematopoietic_stem_cell_top_adj.p')\n",
    "adj = adj_frame.values\n",
    "adj = adj.astype(np.float32)\n",
    "adj = adj_to_lap(adj)\n",
    "adj_indices, adj_values, adj_shape = convert_csr_to_sparse_tensor_inputs(adj)"
   ]
  },
  {
   "cell_type": "code",
   "execution_count": 7,
   "metadata": {},
   "outputs": [],
   "source": [
    "# create dataset\n",
    "\n",
    "batch_size = 32\n",
    "references_per_batch = 10\n",
    "n_batches = X_train.shape[0] // batch_size\n",
    "n_batches_val = X_test.shape[0] // batch_size\n",
    "\n",
    "x_hold, y_hold = tf.placeholder(tf.float32, shape=[None,X_train.shape[1]]), tf.placeholder(tf.float32, shape=[None,1])\n",
    "\n",
    "foreground_set = tf.data.Dataset.from_tensor_slices((x_hold, y_hold)).shuffle(buffer_size=1000).batch(batch_size).repeat()\n",
    "\n",
    "b_hold = tf.placeholder(tf.float32, shape=[None,X_train.shape[1]])\n",
    "b_batch_num = batch_size * references_per_batch\n",
    "reference_dataset = tf.data.Dataset.from_tensor_slices(b_hold)\n",
    "reference_dataset = reference_dataset.shuffle(1000)\n",
    "reference_dataset = reference_dataset.apply(tf.contrib.data.batch_and_drop_remainder(b_batch_num))\n",
    "reference_dataset = reference_dataset.repeat()\n",
    "\n",
    "foreground_iter = foreground_set.make_initializable_iterator()\n",
    "background_iter = reference_dataset.make_initializable_iterator()"
   ]
  },
  {
   "cell_type": "markdown",
   "metadata": {},
   "source": [
    "### build model"
   ]
  },
  {
   "cell_type": "code",
   "execution_count": 8,
   "metadata": {
    "collapsed": true
   },
   "outputs": [],
   "source": [
    "# define hyperparameters\n",
    "\n",
    "layers = [512,256,1]\n",
    "l1_penalty = 0.001\n",
    "eta = 1e-5\n",
    "graph_penalty = 1e2\n",
    "training_epochs = 10 ## choose small number of epochs, just for illustration purposes\n",
    "fine_tuning_epochs = 2 ## a few fine-tuning epochs, again for illustration"
   ]
  },
  {
   "cell_type": "code",
   "execution_count": 9,
   "metadata": {
    "collapsed": true
   },
   "outputs": [],
   "source": [
    "features, labels = foreground_iter.get_next()\n",
    "background = background_iter.get_next()\n",
    "background = tf.reshape(background, [-1, references_per_batch, X_train.shape[1]])\n",
    "\n",
    "# explainer API\n",
    "explainer = AttributionPriorExplainer()\n",
    "cond_input_op, train_eg = explainer.input_to_samples_delta(features, background)\n",
    "\n",
    "# build model\n",
    "dense1 = tf.layers.dense(cond_input_op, layers[0], activation=tf.nn.relu,kernel_initializer=\"he_normal\")\n",
    "dense2 = tf.layers.dense(dense1, layers[1], activation=tf.nn.relu,kernel_initializer=\"he_normal\")\n",
    "prediction = tf.layers.dense(dense2, 1,kernel_initializer=\"he_normal\")\n",
    "prediction = tf.reshape(prediction,[-1])\n",
    "labels = tf.reshape(labels,[-1])\n",
    "\n",
    "#DEFINES expected gradients tensor of size --> [batch_size, d]\n",
    "expected_gradients_op = explainer.shap_value_op(prediction, cond_input_op)\n",
    "\n",
    "# define penalty vector based on mean absolute expected gradients\n",
    "ma_eg = tf.reduce_mean(tf.abs(expected_gradients_op),axis=0)\n",
    "ma_eg = ma_eg[:,tf.newaxis]\n",
    "\n",
    "# define regularization\n",
    "weights = tf.trainable_variables()\n",
    "l1_regularizer = tf.contrib.layers.l1_regularizer(scale=l1_penalty, scope=None)\n",
    "regularization_penalty = tf.contrib.layers.apply_regularization(l1_regularizer, weights)\n",
    "graph_reg = tf.matmul(tf.transpose(graph_mult(adj_values, adj_indices, adj_shape, ma_eg[145:,:])),ma_eg[145:,:])\n",
    "\n",
    "# define loss, error, training ops\n",
    "loss = tf.losses.mean_squared_error(prediction, labels) + regularization_penalty\n",
    "eg_loss = tf.multiply(graph_penalty,graph_reg)\n",
    "eg_loss = tf.reshape(eg_loss,[-1])\n",
    "mse_op = tf.losses.mean_squared_error(prediction, labels)\n",
    "\n",
    "train_op = tf.train.AdamOptimizer(learning_rate=eta).minimize(loss)\n",
    "train_eg_op = tf.train.AdamOptimizer(learning_rate=eta).minimize(eg_loss)"
   ]
  },
  {
   "cell_type": "markdown",
   "metadata": {},
   "source": [
    "### train model"
   ]
  },
  {
   "cell_type": "code",
   "execution_count": 10,
   "metadata": {},
   "outputs": [
    {
     "name": "stdout",
     "output_type": "stream",
     "text": [
      "Training...\n"
     ]
    },
    {
     "name": "stderr",
     "output_type": "stream",
     "text": [
      "100%|██████████| 770/770 [00:36<00:00, 30.38it/s]\n",
      "100%|██████████| 192/192 [00:02<00:00, 66.77it/s]\n"
     ]
    },
    {
     "name": "stdout",
     "output_type": "stream",
     "text": [
      "Iter: 0, Tr Loss: 68.8915, Val Loss: 1.1492\n"
     ]
    },
    {
     "name": "stderr",
     "output_type": "stream",
     "text": [
      "100%|██████████| 770/770 [00:26<00:00, 29.29it/s]\n",
      "100%|██████████| 192/192 [00:02<00:00, 73.11it/s]\n"
     ]
    },
    {
     "name": "stdout",
     "output_type": "stream",
     "text": [
      "Iter: 1, Tr Loss: 62.8776, Val Loss: 1.0834\n"
     ]
    },
    {
     "name": "stderr",
     "output_type": "stream",
     "text": [
      "100%|██████████| 770/770 [00:26<00:00, 29.40it/s]\n",
      "100%|██████████| 192/192 [00:02<00:00, 74.81it/s]\n"
     ]
    },
    {
     "name": "stdout",
     "output_type": "stream",
     "text": [
      "Iter: 2, Tr Loss: 56.6563, Val Loss: 1.0432\n"
     ]
    },
    {
     "name": "stderr",
     "output_type": "stream",
     "text": [
      "100%|██████████| 770/770 [00:26<00:00, 29.26it/s]\n",
      "100%|██████████| 192/192 [00:02<00:00, 74.02it/s]\n"
     ]
    },
    {
     "name": "stdout",
     "output_type": "stream",
     "text": [
      "Iter: 3, Tr Loss: 50.5023, Val Loss: 0.8645\n"
     ]
    },
    {
     "name": "stderr",
     "output_type": "stream",
     "text": [
      "100%|██████████| 770/770 [00:26<00:00, 29.41it/s]\n",
      "100%|██████████| 192/192 [00:02<00:00, 74.18it/s]\n"
     ]
    },
    {
     "name": "stdout",
     "output_type": "stream",
     "text": [
      "Iter: 4, Tr Loss: 44.5950, Val Loss: 0.8701\n"
     ]
    },
    {
     "name": "stderr",
     "output_type": "stream",
     "text": [
      "100%|██████████| 770/770 [00:26<00:00, 29.30it/s]\n",
      "100%|██████████| 192/192 [00:02<00:00, 75.06it/s]\n"
     ]
    },
    {
     "name": "stdout",
     "output_type": "stream",
     "text": [
      "Iter: 5, Tr Loss: 39.0724, Val Loss: 0.8217\n"
     ]
    },
    {
     "name": "stderr",
     "output_type": "stream",
     "text": [
      "100%|██████████| 770/770 [00:26<00:00, 29.39it/s]\n",
      "100%|██████████| 192/192 [00:02<00:00, 73.73it/s]\n"
     ]
    },
    {
     "name": "stdout",
     "output_type": "stream",
     "text": [
      "Iter: 6, Tr Loss: 34.0604, Val Loss: 0.7932\n"
     ]
    },
    {
     "name": "stderr",
     "output_type": "stream",
     "text": [
      "100%|██████████| 770/770 [00:26<00:00, 30.08it/s]\n",
      "100%|██████████| 192/192 [00:02<00:00, 73.99it/s]\n"
     ]
    },
    {
     "name": "stdout",
     "output_type": "stream",
     "text": [
      "Iter: 7, Tr Loss: 29.5252, Val Loss: 0.8174\n"
     ]
    },
    {
     "name": "stderr",
     "output_type": "stream",
     "text": [
      "100%|██████████| 770/770 [00:26<00:00, 29.33it/s]\n",
      "100%|██████████| 192/192 [00:02<00:00, 72.58it/s]\n"
     ]
    },
    {
     "name": "stdout",
     "output_type": "stream",
     "text": [
      "Iter: 8, Tr Loss: 25.5438, Val Loss: 0.7443\n"
     ]
    },
    {
     "name": "stderr",
     "output_type": "stream",
     "text": [
      "100%|██████████| 770/770 [00:26<00:00, 29.16it/s]\n",
      "100%|██████████| 192/192 [00:02<00:00, 73.90it/s]\n"
     ]
    },
    {
     "name": "stdout",
     "output_type": "stream",
     "text": [
      "Iter: 9, Tr Loss: 22.0930, Val Loss: 0.7506\n",
      "Fine-tuning...\n"
     ]
    },
    {
     "name": "stderr",
     "output_type": "stream",
     "text": [
      "100%|██████████| 770/770 [00:46<00:00, 16.67it/s] \n",
      "100%|██████████| 192/192 [00:02<00:00, 75.29it/s]\n"
     ]
    },
    {
     "name": "stdout",
     "output_type": "stream",
     "text": [
      "Iter: 10, Tr Loss: 76.6142, Val Loss: 0.6753\n"
     ]
    },
    {
     "name": "stderr",
     "output_type": "stream",
     "text": [
      "100%|██████████| 770/770 [00:28<00:00, 26.61it/s]\n",
      "100%|██████████| 192/192 [00:02<00:00, 74.33it/s]"
     ]
    },
    {
     "name": "stdout",
     "output_type": "stream",
     "text": [
      "Iter: 11, Tr Loss: 35.7239, Val Loss: 0.6839\n"
     ]
    },
    {
     "name": "stderr",
     "output_type": "stream",
     "text": [
      "\n"
     ]
    }
   ],
   "source": [
    "stopped = False\n",
    "with tf.Session() as sess:\n",
    "    \n",
    "    sess.run(tf.global_variables_initializer())\n",
    "    i = 0\n",
    "\n",
    "    train_mse = []\n",
    "    test_mse = []\n",
    "    eg_cost_per_epoch = []\n",
    "    l1_cost_per_epoch = []\n",
    "    graph_smoothness = []\n",
    "    \n",
    "    ###\n",
    "    ### REGULAR TRAINING\n",
    "    ###\n",
    "    print('Training...')\n",
    "    while i < training_epochs:\n",
    "\n",
    "        tot_loss = 0.\n",
    "        tot_train_loss = 0.\n",
    "        eg_cost = 0.\n",
    "        l1_cost = 0.\n",
    "        tgs = 0.\n",
    "\n",
    "        sess.run(foreground_iter.initializer, feed_dict={ x_hold: X_train, y_hold: y_train})\n",
    "        sess.run(background_iter.initializer, feed_dict={ b_hold: X_train})\n",
    "\n",
    "        for _ in tqdm(range(n_batches)):\n",
    "            _, loss_value, tl = sess.run([train_op, loss, mse_op],feed_dict={train_eg: False})\n",
    "            gs = sess.run([graph_reg],feed_dict={train_eg: True})\n",
    "            tot_train_loss += tl\n",
    "            tot_loss += loss_value\n",
    "            l1_cost += loss_value\n",
    "            tgs += gs[0]\n",
    "\n",
    "        tvl = 0.\n",
    "        sess.run(foreground_iter.initializer, feed_dict={ x_hold: X_test, y_hold: y_test})\n",
    "        for _ in tqdm(range(n_batches_val)):\n",
    "            vl = sess.run(mse_op)\n",
    "            tvl += vl\n",
    "\n",
    "        print(\"Iter: {}, Tr Loss: {:.4f}, Val Loss: {:.4f}\".format(i, tot_loss / n_batches, tvl / n_batches_val))\n",
    "        \n",
    "        train_mse.append(tot_train_loss / n_batches)\n",
    "        eg_cost_per_epoch.append(0.0)\n",
    "        l1_cost_per_epoch.append(l1_cost / n_batches)\n",
    "        test_mse.append(tvl / n_batches_val)\n",
    "        graph_smoothness.append(tgs[0][0]/n_batches)\n",
    "\n",
    "\n",
    "        i += 1\n",
    "        \n",
    "        \n",
    "    ###\n",
    "    ### FINE-TUNING GRAPH OBJECTIVE\n",
    "    ###\n",
    "    print('Fine-tuning...')\n",
    "    while i < (training_epochs + fine_tuning_epochs):\n",
    "\n",
    "        tot_loss = 0.\n",
    "        tot_train_loss = 0.\n",
    "        eg_cost = 0.\n",
    "        l1_cost = 0.\n",
    "        tgs = 0.\n",
    "\n",
    "        sess.run(foreground_iter.initializer, feed_dict={ x_hold: X_train, y_hold: y_train})\n",
    "        sess.run(background_iter.initializer, feed_dict={ b_hold: X_train})\n",
    "\n",
    "        for bn in tqdm(range(n_batches)):\n",
    "            _, loss_value, tl = sess.run([train_op, loss, mse_op],feed_dict={train_eg: False})\n",
    "            tot_train_loss += tl\n",
    "            gs, _, eg_loss_value = sess.run([graph_reg, train_eg_op, eg_loss],feed_dict={train_eg: True})\n",
    "            tot_loss += eg_loss_value\n",
    "            eg_cost += eg_loss_value\n",
    "            tot_loss += loss_value\n",
    "            l1_cost += loss_value\n",
    "            tgs += gs\n",
    "\n",
    "        graph_smoothness.append(tgs[0][0]/n_batches)\n",
    "        tvl = 0.\n",
    "        sess.run(foreground_iter.initializer, feed_dict={ x_hold: X_test, y_hold: y_test})\n",
    "        for _ in tqdm(range(n_batches_val)):\n",
    "            vl = sess.run(mse_op)\n",
    "            tvl += vl\n",
    "\n",
    "        print(\"Iter: {}, Tr Loss: {:.4f}, Val Loss: {:.4f}\".format(i, tot_loss[0] / n_batches, tvl / n_batches_val))\n",
    "        train_mse.append(tot_train_loss / n_batches)\n",
    "        eg_cost_per_epoch.append(eg_cost / n_batches)\n",
    "        l1_cost_per_epoch.append(l1_cost / n_batches)\n",
    "        test_mse.append(tvl / n_batches_val)\n",
    "        \n",
    "        i += 1"
   ]
  },
  {
   "cell_type": "code",
   "execution_count": 11,
   "metadata": {},
   "outputs": [
    {
     "data": {
      "image/png": "[encoded data removed]",
      "text/plain": [
       "<Figure size 576x432 with 2 Axes>"
      ]
     },
     "metadata": {},
     "output_type": "display_data"
    }
   ],
   "source": [
    "fig, ax1 = plt.subplots()\n",
    "fig.set_figwidth(8)\n",
    "fig.set_figheight(6)\n",
    "\n",
    "color = 'tab:red'\n",
    "ax1.set_xlabel('epochs')\n",
    "ax1.set_ylabel('mse', color=color)\n",
    "ax1.plot(np.arange(len(test_mse)), test_mse, color=color)\n",
    "ax1.plot([training_epochs-1,training_epochs-1],[0,2],color='black',linestyle='dashed')\n",
    "ax1.tick_params(axis='y', labelcolor=color)\n",
    "ax1.set_ylim([np.amin(test_mse)-0.1,np.amax(test_mse)+0.1])\n",
    "\n",
    "ax2 = ax1.twinx()\n",
    "\n",
    "color = 'tab:blue'\n",
    "ax2.set_ylabel('graph variation', color=color)  \n",
    "ax2.plot(np.arange(len(test_mse)), graph_smoothness, color=color)\n",
    "ax2.tick_params(axis='y', labelcolor=color)\n",
    "ax2.set_title('Fine Tuning with Attribution Prior Smoothes Over Graph and Decreases Error')\n",
    "\n",
    "fig.tight_layout()\n",
    "plt.show()"
   ]
  },
  {
   "cell_type": "code",
   "execution_count": 12,
   "metadata": {},
   "outputs": [
    {
     "data": {
      "image/png": "[encoded data removed]",
      "text/plain": [
       "<Figure size 432x288 with 1 Axes>"
      ]
     },
     "metadata": {},
     "output_type": "display_data"
    }
   ],
   "source": [
    "color = 'tab:red'\n",
    "fig, axes = plt.subplots(1, 1)\n",
    "ind_1 = training_epochs-1\n",
    "ind_2 = training_epochs+fine_tuning_epochs-1\n",
    "axes.bar([0,1],[test_mse[ind_1],test_mse[ind_2]],color=color)\n",
    "axes.set_ylim([test_mse[ind_2]-0.1,test_mse[ind_1]+0.1])\n",
    "xticks = [0,1]\n",
    "axes.set_xticks(xticks)\n",
    "axes.set_xticklabels(['Without AP','With AP'])\n",
    "axes.set_ylabel('Mean squared error')\n",
    "axes.set_title('Attribution Prior Decreases Error')\n",
    "plt.show()"
   ]
  },
  {
   "cell_type": "code",
   "execution_count": 13,
   "metadata": {},
   "outputs": [
    {
     "data": {
      "image/png": "[encoded data removed]",
      "text/plain": [
       "<Figure size 432x288 with 1 Axes>"
      ]
     },
     "metadata": {},
     "output_type": "display_data"
    }
   ],
   "source": [
    "color = 'tab:blue'\n",
    "fig, axes = plt.subplots(1, 1)\n",
    "ind_1 = training_epochs-1\n",
    "ind_2 = training_epochs+fine_tuning_epochs-1\n",
    "axes.bar([0,1],[graph_smoothness[ind_1],graph_smoothness[ind_2]],color=color)\n",
    "axes.set_ylim([0,graph_smoothness[ind_1]+0.25])\n",
    "xticks = [0,1]\n",
    "axes.set_xticks(xticks)\n",
    "axes.set_xticklabels(['Without AP','With AP']);\n",
    "axes.set_ylabel('$\\phi^T L_G \\phi$ (Graph Variation)')\n",
    "axes.set_title('Attribution Prior Decreases Variation Over Graph')\n",
    "plt.show()"
   ]
  },
  {
   "cell_type": "code",
   "execution_count": null,
   "metadata": {
    "collapsed": true
   },
   "outputs": [],
   "source": []
  }
 ],
 "metadata": {
  "kernelspec": {
   "display_name": "Python 3",
   "language": "python",
   "name": "python3"
  },
  "language_info": {
   "codemirror_mode": {
    "name": "ipython",
    "version": 3
   },
   "file_extension": ".py",
   "mimetype": "text/x-python",
   "name": "python",
   "nbconvert_exporter": "python",
   "pygments_lexer": "ipython3",
   "version": "3.6.8"
  }
 },
 "nbformat": 4,
 "nbformat_minor": 2
}
